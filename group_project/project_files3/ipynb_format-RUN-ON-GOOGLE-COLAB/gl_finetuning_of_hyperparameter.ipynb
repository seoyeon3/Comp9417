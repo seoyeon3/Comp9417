{
 "cells": [
  {
   "cell_type": "code",
   "execution_count": 4,
   "metadata": {
    "colab": {
     "base_uri": "https://localhost:8080/"
    },
    "id": "UjfAlxABB79j",
    "outputId": "add3203f-4f2d-45dc-fdfd-995733be7ca5"
   },
   "outputs": [
    {
     "name": "stdout",
     "output_type": "stream",
     "text": [
      "Drive already mounted at /content/drive; to attempt to forcibly remount, call drive.mount(\"/content/drive\", force_remount=True).\n"
     ]
    }
   ],
   "source": [
    "##################################################################\n",
    "# This code tests various hyperparameters: learning rate and batch size\n",
    "##################################################################\n",
    "#################################\n",
    "# access to google drive\n",
    "#################################\n",
    "from google.colab import drive\n",
    "\n",
    "drive.mount('/content/drive')"
   ]
  },
  {
   "cell_type": "markdown",
   "metadata": {
    "id": "CXofpRkBYehH"
   },
   "source": []
  },
  {
   "cell_type": "code",
   "execution_count": 6,
   "metadata": {
    "colab": {
     "base_uri": "https://localhost:8080/"
    },
    "id": "0KVcaZ_sITna",
    "outputId": "de1ac392-d967-407b-ed05-b78c8af0b5f5"
   },
   "outputs": [
    {
     "name": "stdout",
     "output_type": "stream",
     "text": [
      "Requirement already satisfied: pytorch_pretrained_vit in /usr/local/lib/python3.7/dist-packages (0.0.7)\n",
      "Requirement already satisfied: torch in /usr/local/lib/python3.7/dist-packages (from pytorch_pretrained_vit) (1.10.0+cu111)\n",
      "Requirement already satisfied: typing-extensions in /usr/local/lib/python3.7/dist-packages (from torch->pytorch_pretrained_vit) (4.1.1)\n"
     ]
    }
   ],
   "source": [
    "#################################\n",
    "# import ViT pretrained model\n",
    "#################################\n",
    "!pip install pytorch_pretrained_vit"
   ]
  },
  {
   "cell_type": "markdown",
   "metadata": {
    "id": "ElM8wCvnYYra"
   },
   "source": [
    "# **Import Modules**"
   ]
  },
  {
   "cell_type": "code",
   "execution_count": 7,
   "metadata": {
    "colab": {
     "base_uri": "https://localhost:8080/"
    },
    "id": "1qUnueFt_ebC",
    "outputId": "a987c1fd-d3dc-459e-e7ba-bdcc1e3fc9ad"
   },
   "outputs": [
    {
     "name": "stdout",
     "output_type": "stream",
     "text": [
      "PyTorch Version:  1.10.0+cu111\n",
      "Torchvision Version:  0.11.1+cu111\n"
     ]
    }
   ],
   "source": [
    "#################################\n",
    "# import modules\n",
    "#################################\n",
    "from __future__ import print_function \n",
    "from __future__ import division\n",
    "import torch\n",
    "import torch.nn as nn\n",
    "import torch.optim as optim\n",
    "import numpy as np\n",
    "import torchvision\n",
    "from torchvision import datasets, models, transforms\n",
    "import matplotlib.pyplot as plt\n",
    "import time\n",
    "import os\n",
    "import copy\n",
    "from pytorch_pretrained_vit import ViT\n",
    "print(\"PyTorch Version: \",torch.__version__)\n",
    "print(\"Torchvision Version: \",torchvision.__version__)\n",
    "\n",
    "#additional modules\n",
    "from datetime import datetime #for saving files\n",
    "import pandas as pd\n",
    "import torch\n",
    "from torchvision.io import read_image, ImageReadMode\n",
    "from torch.utils.data import Dataset\n",
    "from torchvision.transforms import ToTensor"
   ]
  },
  {
   "cell_type": "markdown",
   "metadata": {
    "id": "_JZbLQk6Yg2y"
   },
   "source": [
    "# **Define Functions**"
   ]
  },
  {
   "cell_type": "code",
   "execution_count": 8,
   "metadata": {
    "id": "EIyC_0ffAO4a"
   },
   "outputs": [],
   "source": [
    "#################################\n",
    "# function for model training\n",
    "#################################\n",
    "def train_model(model, dataloaders, criterion, optimizer, num_epochs=25, is_inception=False , saved_model=None):\n",
    "    since = time.time()\n",
    "    val_acc_history = []\n",
    "    val_loss_history = []\n",
    "    #best_model_wts = weights\n",
    "    #if (saved_model == None):\n",
    "      #best_model_wts = copy.deepcopy(model.state_dict())\n",
    "    #else: \n",
    "      #best_model_wts = copy.deepcopy(saved_model)\n",
    "    best_acc_valid = 0.0\n",
    "    best_model_wts = copy.deepcopy(model.state_dict())\n",
    "\n",
    "    for epoch in range(num_epochs):\n",
    "        print('Epoch {}/{}'.format(epoch, num_epochs - 1))\n",
    "\n",
    "        # Each epoch has a training and validation phase\n",
    "        for phase in ['train', 'valid']:\n",
    "            if phase == 'train':\n",
    "                model.train()  # Set model to training mode\n",
    "            else:\n",
    "                model.eval()   # Set model to evaluate mode\n",
    "\n",
    "            running_loss = 0.0\n",
    "            running_corrects = 0\n",
    "\n",
    "            # Iterate over data.\n",
    "            for inputs, labels in dataloaders[phase]:\n",
    "                inputs = inputs.to(device)\n",
    "                labels = labels.to(device)\n",
    "\n",
    "                # zero the parameter gradients\n",
    "                optimizer.zero_grad()\n",
    "\n",
    "                # forward\n",
    "                # track history if only in train\n",
    "                with torch.set_grad_enabled(phase == 'train'):\n",
    "                    if is_inception and phase == 'train':\n",
    "                        # From https://discuss.pytorch.org/t/how-to-optimize-inception-model-with-auxiliary-classifiers/7958\n",
    "                        outputs, aux_outputs = model(inputs)\n",
    "                        loss1 = criterion(outputs, labels)\n",
    "                        loss2 = criterion(aux_outputs, labels)\n",
    "                        loss = loss1 + 0.4*loss2\n",
    "                    else:\n",
    "                        outputs = model(inputs)\n",
    "                        loss = criterion(outputs, labels)\n",
    "                    _, preds = torch.max(outputs, 1)\n",
    "\n",
    "                    # backward + optimize only if in training phase\n",
    "                    if phase == 'train':\n",
    "                        loss.backward()\n",
    "                        optimizer.step()\n",
    "\n",
    "                # statistics\n",
    "                running_loss += loss.item() * inputs.size(0)\n",
    "                running_corrects += torch.sum(preds == labels.data)\n",
    "\n",
    "            epoch_loss = running_loss / len(dataloaders[phase].dataset)\n",
    "            epoch_acc = running_corrects.double() / len(dataloaders[phase].dataset)\n",
    "            print('{} Loss: {:.4f} Acc: {:.4f}'.format(phase, epoch_loss, epoch_acc))\n",
    "\n",
    "            # deep copy the model\n",
    "            if phase == 'valid' and epoch_acc > best_acc_valid:\n",
    "                best_acc_valid = epoch_acc\n",
    "                best_loss_valid = epoch_loss\n",
    "\n",
    "                best_model_wts = copy.deepcopy(model.state_dict())\n",
    "            if phase == 'valid':\n",
    "                val_acc_history.append(epoch_acc)\n",
    "                val_loss_history.append(epoch_loss)\n",
    "        print()\n",
    "\n",
    "    time_elapsed = time.time() - since\n",
    "    time_result = 'Time: {:.0f}m {:.0f}s'.format(time_elapsed // 60, time_elapsed % 60)\n",
    "    print('Training complete in {:.0f}m {:.0f}s'.format(time_elapsed // 60, time_elapsed % 60))\n",
    "    print('Best val Acc: {:4f}'.format(best_acc_valid))\n",
    "\n",
    "    # load best model weights\n",
    "    model.load_state_dict(best_model_wts)\n",
    "    return model, val_acc_history, val_loss_history, time_result, best_acc_valid, best_loss_valid"
   ]
  },
  {
   "cell_type": "code",
   "execution_count": 9,
   "metadata": {
    "id": "op8Y04oRA0rp"
   },
   "outputs": [],
   "source": [
    "#################################\n",
    "# function to set the requires_grad parameter\n",
    "#################################\n",
    "def set_parameter_requires_grad(model, feature_extracting):\n",
    "    if feature_extracting:\n",
    "        for param in model.parameters():\n",
    "            param.requires_grad = False"
   ]
  },
  {
   "cell_type": "code",
   "execution_count": 10,
   "metadata": {
    "id": "yEKmFZiVA23D"
   },
   "outputs": [],
   "source": [
    "#################################\n",
    "# function to get the model from pytorch models\n",
    "#################################\n",
    "def initialize_model(model_name, num_classes, feature_extract, use_pretrained=True):\n",
    "    #   variables is model specific.\n",
    "    model_ft = None\n",
    "    input_size = 0\n",
    "\n",
    "    if model_name == \"vit\":\n",
    "        \"\"\" \n",
    "        vit\n",
    "        \"\"\"\n",
    "        model_ft = ViT('B_16_imagenet1k', pretrained=use_pretrained)\n",
    "        set_parameter_requires_grad(model_ft, feature_extract)\n",
    "        num_ftrs = model_ft.fc.in_features\n",
    "        model_ft.fc = nn.Linear(num_ftrs,num_classes)\n",
    "        input_size = 384\n",
    "    else:\n",
    "        print(\"Invalid model name, exiting...\")\n",
    "        exit()\n",
    "    \n",
    "    return model_ft, input_size#, copy.deepcopy(model_ft.state_dict()) #added deep model weights \n",
    "        #best_model_wts = copy.deepcopy(model.state_dict())"
   ]
  },
  {
   "cell_type": "markdown",
   "metadata": {
    "id": "mLk_KuptYyXQ"
   },
   "source": [
    "# **Initialise global variables**"
   ]
  },
  {
   "cell_type": "code",
   "execution_count": 11,
   "metadata": {
    "colab": {
     "base_uri": "https://localhost:8080/",
     "height": 104,
     "referenced_widgets": [
      "d8e39e0ca32a44a69282295754ae13d6",
      "150d61f3ef244cf28be1978834bcb044",
      "c29c263daa17401aa041cb93321349af",
      "d124cf36e610430cbaa84e682429241f",
      "e35a77f2bcba4d668a0f9a3f2b84a148",
      "04c3b51aa02344378b97bd5f5d8758e6",
      "d280dd627f6748a79827c9a591fec98c",
      "1649c6c9725f4ad69f310ef9b56fafd3",
      "1253335fb7d44ca29fbd87100a2b9bbe",
      "46347e96bf544cb8ac336ae8db0460bd",
      "0bdbb352c2064a0bbe0b092325eabd33"
     ]
    },
    "id": "64o83vBZ_uuD",
    "outputId": "9707851a-4d5f-430a-c50b-5d0983243f65"
   },
   "outputs": [
    {
     "name": "stderr",
     "output_type": "stream",
     "text": [
      "Downloading: \"https://github.com/lukemelas/PyTorch-Pretrained-ViT/releases/download/0.0.2/B_16_imagenet1k.pth\" to /root/.cache/torch/hub/checkpoints/B_16_imagenet1k.pth\n"
     ]
    },
    {
     "data": {
      "application/vnd.jupyter.widget-view+json": {
       "model_id": "d8e39e0ca32a44a69282295754ae13d6",
       "version_major": 2,
       "version_minor": 0
      },
      "text/plain": [
       "  0%|          | 0.00/331M [00:00<?, ?B/s]"
      ]
     },
     "metadata": {},
     "output_type": "display_data"
    },
    {
     "name": "stdout",
     "output_type": "stream",
     "text": [
      "Loaded pretrained weights.\n"
     ]
    }
   ],
   "source": [
    "#################################\n",
    "# INITIALISE GLOBAL VARIABLES\n",
    "#################################\n",
    "\n",
    "# Data\n",
    "# data_dir = \"/content/drive/MyDrive/shared/samples_x384\"  # for vit\n",
    "data_dir = \"/content/drive/MyDrive/shared/samples_x384_all\"  # for vit\n",
    "# data_dir = \"/content/drive/MyDrive/shared/samples_x384_small_5\"  # for vit\n",
    "# data_dir = \"/content/drive/MyDrive/shared/samples\" # for vgg\n",
    "# data_dir = \"/content/drive/MyDrive/shared/samples_x384_small_4\"  # for vit\n",
    "\n",
    "# Variables\n",
    "num_classes = 4\n",
    "batch_size = 6 # vit <- this is Gordon's sys limit from hyperparameter tuning\n",
    "num_epochs = 10\n",
    "feature_extract = False # if true, then we only update the reshaped layer param of the model\n",
    "\n",
    "# Model\n",
    "model_name = \"vit\"\n",
    "# Initialize the model for this run\n",
    "#model_ft, input_size, init_weights = initialize_model(model_name, num_classes, feature_extract, use_pretrained=True)\n",
    "model_ft, input_size = initialize_model(model_name, num_classes, feature_extract, use_pretrained=True)\n"
   ]
  },
  {
   "cell_type": "markdown",
   "metadata": {
    "id": "cRlR0lnnQlRj"
   },
   "source": [
    "# **Data normalisation**"
   ]
  },
  {
   "cell_type": "code",
   "execution_count": null,
   "metadata": {
    "id": "3eQcxjZEQimt"
   },
   "outputs": [],
   "source": [
    "#################################\n",
    "# Data normalisation\n",
    "# Gordon Add Seoyeon's part\n",
    "#################################\n",
    "\n",
    "def get_mean_std(loader,phase):\n",
    "  channels_sum, channels_squared_sum, num_batches = 0, 0, 0\n",
    "  \n",
    "  for data,_ in loader[phase]:\n",
    "    #print(data[0])\n",
    "    channels_sum += torch.mean(data, dim=[0,2,3])\n",
    "    channels_squared_sum += torch.mean(data**2, dim=[0,2,3])\n",
    "    num_batches += 1\n",
    "  mean = channels_sum/num_batches\n",
    "  std = (channels_squared_sum/num_batches - mean**2)**0.5\n",
    "\n",
    "  return mean, std"
   ]
  },
  {
   "cell_type": "code",
   "execution_count": null,
   "metadata": {
    "colab": {
     "base_uri": "https://localhost:8080/"
    },
    "id": "KXDlSgg0aQRk",
    "outputId": "f17a574d-02a5-4daf-c266-95a4beb310be"
   },
   "outputs": [
    {
     "name": "stderr",
     "output_type": "stream",
     "text": [
      "/usr/local/lib/python3.7/dist-packages/torch/utils/data/dataloader.py:481: UserWarning: This DataLoader will create 4 worker processes in total. Our suggested max number of worker in current system is 2, which is smaller than what this DataLoader is going to create. Please be aware that excessive worker creation might get DataLoader running slow or even freeze, lower the worker number to avoid potential slowness/freeze if necessary.\n",
      "  cpuset_checked))\n"
     ]
    }
   ],
   "source": [
    "#################################\n",
    "#Get training data into tensorflow\n",
    "#################################\n",
    "\n",
    "phase = 'train'\n",
    "data_transforms = {\n",
    "    'train': transforms.Compose([\n",
    "        transforms.RandomResizedCrop(input_size),\n",
    "        transforms.RandomHorizontalFlip(),\n",
    "        transforms.ToTensor(),\n",
    "    ])\n",
    "}\n",
    "train_datasets = {phase: datasets.ImageFolder(os.path.join(data_dir, phase), data_transforms[phase])}\n",
    "train_loader = {phase: torch.utils.data.DataLoader(train_datasets[phase], batch_size=batch_size, shuffle=True, num_workers=4)}"
   ]
  },
  {
   "cell_type": "code",
   "execution_count": null,
   "metadata": {
    "colab": {
     "base_uri": "https://localhost:8080/"
    },
    "id": "oKeT6qMSchjc",
    "outputId": "6719abac-eb21-4569-c90f-3ebe2f045c1d"
   },
   "outputs": [
    {
     "name": "stderr",
     "output_type": "stream",
     "text": [
      "/usr/local/lib/python3.7/dist-packages/torch/utils/data/dataloader.py:481: UserWarning: This DataLoader will create 4 worker processes in total. Our suggested max number of worker in current system is 2, which is smaller than what this DataLoader is going to create. Please be aware that excessive worker creation might get DataLoader running slow or even freeze, lower the worker number to avoid potential slowness/freeze if necessary.\n",
      "  cpuset_checked))\n"
     ]
    }
   ],
   "source": [
    "mean,std = get_mean_std(train_loader,'train')"
   ]
  },
  {
   "cell_type": "code",
   "execution_count": 8,
   "metadata": {
    "colab": {
     "base_uri": "https://localhost:8080/"
    },
    "id": "HB6CfnPZA74Z",
    "outputId": "43b2166b-46fb-47c0-a298-bc5fc856b059"
   },
   "outputs": [
    {
     "name": "stdout",
     "output_type": "stream",
     "text": [
      "Initializing Datasets and Dataloaders...\n"
     ]
    },
    {
     "name": "stderr",
     "output_type": "stream",
     "text": [
      "/usr/local/lib/python3.7/dist-packages/torch/utils/data/dataloader.py:481: UserWarning: This DataLoader will create 4 worker processes in total. Our suggested max number of worker in current system is 2, which is smaller than what this DataLoader is going to create. Please be aware that excessive worker creation might get DataLoader running slow or even freeze, lower the worker number to avoid potential slowness/freeze if necessary.\n",
      "  cpuset_checked))\n"
     ]
    }
   ],
   "source": [
    "#################################\n",
    "# Data augmentation and normalization for training\n",
    "# Just normalization for validation\n",
    "#################################\n",
    "data_transforms = {\n",
    "    'train': transforms.Compose([\n",
    "        transforms.RandomResizedCrop(input_size),\n",
    "        transforms.RandomHorizontalFlip(),\n",
    "        transforms.ToTensor(),\n",
    "        transforms.Normalize([0.485, 0.456, 0.406], [0.229, 0.224, 0.225])\n",
    "        #transforms.Normalize(mean, std)\n",
    "    ]),\n",
    "    'valid': transforms.Compose([\n",
    "        transforms.Resize(input_size),\n",
    "        transforms.CenterCrop(input_size),\n",
    "        transforms.ToTensor(),\n",
    "        transforms.Normalize([0.485, 0.456, 0.406], [0.229, 0.224, 0.225])\n",
    "        #transforms.Normalize(mean, std)\n",
    "\n",
    "\n",
    "    ]),\n",
    "    'test': transforms.Compose([\n",
    "        transforms.Resize(input_size),\n",
    "        transforms.CenterCrop(input_size),\n",
    "        transforms.ToTensor(),\n",
    "        transforms.Normalize([0.485, 0.456, 0.406], [0.229, 0.224, 0.225])\n",
    "        #transforms.Normalize(mean, std)\n",
    "    ])\n",
    "}\n",
    "\n",
    "print(\"Initializing Datasets and Dataloaders...\")\n",
    "# Create training and validation datasets\n",
    "image_datasets = {x: datasets.ImageFolder(os.path.join(data_dir, x), data_transforms[x]) for x in ['train', 'valid', 'test']}\n",
    "# Create training and validation dataloaders\n",
    "dataloaders_dict = {x: torch.utils.data.DataLoader(image_datasets[x], batch_size=batch_size, shuffle=True, num_workers=4) for x in ['train', 'valid', 'test']}"
   ]
  },
  {
   "cell_type": "markdown",
   "metadata": {
    "id": "XILJHUDH136f"
   },
   "source": [
    "# **Visualise sample dataset**"
   ]
  },
  {
   "cell_type": "code",
   "execution_count": 9,
   "metadata": {
    "colab": {
     "base_uri": "https://localhost:8080/",
     "height": 352
    },
    "id": "s9mcCkSsxmFk",
    "outputId": "79ca4f39-0816-47cd-b9b5-3037e2bb58b4"
   },
   "outputs": [
    {
     "data": {
      "image/png": "[encoded data removed]",
      "text/plain": [
       "<Figure size 432x288 with 1 Axes>"
      ]
     },
     "metadata": {
      "needs_background": "light"
     },
     "output_type": "display_data"
    }
   ],
   "source": [
    "#################################\n",
    "# Visualise sample dataset\n",
    "#################################\n",
    "\n",
    "#image_datasets = {x: datasets.ImageFolder(os.path.join(data_dir, x), data_transforms[x]) for x in ['train', 'valid', 'test']}\n",
    "train_c = len(image_datasets['train']) #680 #144 vit\n",
    "valid_c = len(image_datasets['valid']) #89 #22\n",
    "test_c = len(image_datasets['test']) #89 #21\n",
    "\n",
    "data_c = {i:len(image_datasets[i]) for i in ['train','valid','test']}\n",
    "\n",
    "def data_bar_plt(data_c):\n",
    "  fig = plt.figure()\n",
    "  ax = fig.add_axes([0,0,1,1])\n",
    "  ax.title.set_text(\"Sample data split\")\n",
    "  x_axis = list(data_c.keys())\n",
    "  y_axis = list(data_c.values())\n",
    "  ax.bar(x_axis,y_axis,color = '#1f77b4')\n",
    "  for x,y in zip(x_axis,y_axis):\n",
    "    label = f\"{y}\"\n",
    "    plt.annotate(label, # this is the text\n",
    "                 (x,y), # these are the coordinates to position the label\n",
    "                 textcoords=\"offset points\", # how to position the text\n",
    "                 xytext=(0,3), # distance from text to points (x,y)\n",
    "                 ha='center') # horizontal alignment can be left, right or center\n",
    "  plt.show()\n",
    "\n",
    "data_bar_plt(data_c)"
   ]
  },
  {
   "cell_type": "markdown",
   "metadata": {
    "id": "ABIaVuBmdbXS"
   },
   "source": [
    "# **Single Run**\n",
    "Execute this if you only want to do a single run of the data, else, skip to the hyperparameter testing section"
   ]
  },
  {
   "cell_type": "code",
   "execution_count": 12,
   "metadata": {
    "colab": {
     "base_uri": "https://localhost:8080/"
    },
    "id": "UYgUszLSCM0D",
    "outputId": "e1b6bc66-0b1e-4e07-8716-496033f0f0dd"
   },
   "outputs": [
    {
     "name": "stdout",
     "output_type": "stream",
     "text": [
      "Params to learn:\n",
      "\t class_token\n",
      "\t patch_embedding.weight\n",
      "\t patch_embedding.bias\n",
      "\t positional_embedding.pos_embedding\n",
      "\t transformer.blocks.0.attn.proj_q.weight\n",
      "\t transformer.blocks.0.attn.proj_q.bias\n",
      "\t transformer.blocks.0.attn.proj_k.weight\n",
      "\t transformer.blocks.0.attn.proj_k.bias\n",
      "\t transformer.blocks.0.attn.proj_v.weight\n",
      "\t transformer.blocks.0.attn.proj_v.bias\n",
      "\t transformer.blocks.0.proj.weight\n",
      "\t transformer.blocks.0.proj.bias\n",
      "\t transformer.blocks.0.norm1.weight\n",
      "\t transformer.blocks.0.norm1.bias\n",
      "\t transformer.blocks.0.pwff.fc1.weight\n",
      "\t transformer.blocks.0.pwff.fc1.bias\n",
      "\t transformer.blocks.0.pwff.fc2.weight\n",
      "\t transformer.blocks.0.pwff.fc2.bias\n",
      "\t transformer.blocks.0.norm2.weight\n",
      "\t transformer.blocks.0.norm2.bias\n",
      "\t transformer.blocks.1.attn.proj_q.weight\n",
      "\t transformer.blocks.1.attn.proj_q.bias\n",
      "\t transformer.blocks.1.attn.proj_k.weight\n",
      "\t transformer.blocks.1.attn.proj_k.bias\n",
      "\t transformer.blocks.1.attn.proj_v.weight\n",
      "\t transformer.blocks.1.attn.proj_v.bias\n",
      "\t transformer.blocks.1.proj.weight\n",
      "\t transformer.blocks.1.proj.bias\n",
      "\t transformer.blocks.1.norm1.weight\n",
      "\t transformer.blocks.1.norm1.bias\n",
      "\t transformer.blocks.1.pwff.fc1.weight\n",
      "\t transformer.blocks.1.pwff.fc1.bias\n",
      "\t transformer.blocks.1.pwff.fc2.weight\n",
      "\t transformer.blocks.1.pwff.fc2.bias\n",
      "\t transformer.blocks.1.norm2.weight\n",
      "\t transformer.blocks.1.norm2.bias\n",
      "\t transformer.blocks.2.attn.proj_q.weight\n",
      "\t transformer.blocks.2.attn.proj_q.bias\n",
      "\t transformer.blocks.2.attn.proj_k.weight\n",
      "\t transformer.blocks.2.attn.proj_k.bias\n",
      "\t transformer.blocks.2.attn.proj_v.weight\n",
      "\t transformer.blocks.2.attn.proj_v.bias\n",
      "\t transformer.blocks.2.proj.weight\n",
      "\t transformer.blocks.2.proj.bias\n",
      "\t transformer.blocks.2.norm1.weight\n",
      "\t transformer.blocks.2.norm1.bias\n",
      "\t transformer.blocks.2.pwff.fc1.weight\n",
      "\t transformer.blocks.2.pwff.fc1.bias\n",
      "\t transformer.blocks.2.pwff.fc2.weight\n",
      "\t transformer.blocks.2.pwff.fc2.bias\n",
      "\t transformer.blocks.2.norm2.weight\n",
      "\t transformer.blocks.2.norm2.bias\n",
      "\t transformer.blocks.3.attn.proj_q.weight\n",
      "\t transformer.blocks.3.attn.proj_q.bias\n",
      "\t transformer.blocks.3.attn.proj_k.weight\n",
      "\t transformer.blocks.3.attn.proj_k.bias\n",
      "\t transformer.blocks.3.attn.proj_v.weight\n",
      "\t transformer.blocks.3.attn.proj_v.bias\n",
      "\t transformer.blocks.3.proj.weight\n",
      "\t transformer.blocks.3.proj.bias\n",
      "\t transformer.blocks.3.norm1.weight\n",
      "\t transformer.blocks.3.norm1.bias\n",
      "\t transformer.blocks.3.pwff.fc1.weight\n",
      "\t transformer.blocks.3.pwff.fc1.bias\n",
      "\t transformer.blocks.3.pwff.fc2.weight\n",
      "\t transformer.blocks.3.pwff.fc2.bias\n",
      "\t transformer.blocks.3.norm2.weight\n",
      "\t transformer.blocks.3.norm2.bias\n",
      "\t transformer.blocks.4.attn.proj_q.weight\n",
      "\t transformer.blocks.4.attn.proj_q.bias\n",
      "\t transformer.blocks.4.attn.proj_k.weight\n",
      "\t transformer.blocks.4.attn.proj_k.bias\n",
      "\t transformer.blocks.4.attn.proj_v.weight\n",
      "\t transformer.blocks.4.attn.proj_v.bias\n",
      "\t transformer.blocks.4.proj.weight\n",
      "\t transformer.blocks.4.proj.bias\n",
      "\t transformer.blocks.4.norm1.weight\n",
      "\t transformer.blocks.4.norm1.bias\n",
      "\t transformer.blocks.4.pwff.fc1.weight\n",
      "\t transformer.blocks.4.pwff.fc1.bias\n",
      "\t transformer.blocks.4.pwff.fc2.weight\n",
      "\t transformer.blocks.4.pwff.fc2.bias\n",
      "\t transformer.blocks.4.norm2.weight\n",
      "\t transformer.blocks.4.norm2.bias\n",
      "\t transformer.blocks.5.attn.proj_q.weight\n",
      "\t transformer.blocks.5.attn.proj_q.bias\n",
      "\t transformer.blocks.5.attn.proj_k.weight\n",
      "\t transformer.blocks.5.attn.proj_k.bias\n",
      "\t transformer.blocks.5.attn.proj_v.weight\n",
      "\t transformer.blocks.5.attn.proj_v.bias\n",
      "\t transformer.blocks.5.proj.weight\n",
      "\t transformer.blocks.5.proj.bias\n",
      "\t transformer.blocks.5.norm1.weight\n",
      "\t transformer.blocks.5.norm1.bias\n",
      "\t transformer.blocks.5.pwff.fc1.weight\n",
      "\t transformer.blocks.5.pwff.fc1.bias\n",
      "\t transformer.blocks.5.pwff.fc2.weight\n",
      "\t transformer.blocks.5.pwff.fc2.bias\n",
      "\t transformer.blocks.5.norm2.weight\n",
      "\t transformer.blocks.5.norm2.bias\n",
      "\t transformer.blocks.6.attn.proj_q.weight\n",
      "\t transformer.blocks.6.attn.proj_q.bias\n",
      "\t transformer.blocks.6.attn.proj_k.weight\n",
      "\t transformer.blocks.6.attn.proj_k.bias\n",
      "\t transformer.blocks.6.attn.proj_v.weight\n",
      "\t transformer.blocks.6.attn.proj_v.bias\n",
      "\t transformer.blocks.6.proj.weight\n",
      "\t transformer.blocks.6.proj.bias\n",
      "\t transformer.blocks.6.norm1.weight\n",
      "\t transformer.blocks.6.norm1.bias\n",
      "\t transformer.blocks.6.pwff.fc1.weight\n",
      "\t transformer.blocks.6.pwff.fc1.bias\n",
      "\t transformer.blocks.6.pwff.fc2.weight\n",
      "\t transformer.blocks.6.pwff.fc2.bias\n",
      "\t transformer.blocks.6.norm2.weight\n",
      "\t transformer.blocks.6.norm2.bias\n",
      "\t transformer.blocks.7.attn.proj_q.weight\n",
      "\t transformer.blocks.7.attn.proj_q.bias\n",
      "\t transformer.blocks.7.attn.proj_k.weight\n",
      "\t transformer.blocks.7.attn.proj_k.bias\n",
      "\t transformer.blocks.7.attn.proj_v.weight\n",
      "\t transformer.blocks.7.attn.proj_v.bias\n",
      "\t transformer.blocks.7.proj.weight\n",
      "\t transformer.blocks.7.proj.bias\n",
      "\t transformer.blocks.7.norm1.weight\n",
      "\t transformer.blocks.7.norm1.bias\n",
      "\t transformer.blocks.7.pwff.fc1.weight\n",
      "\t transformer.blocks.7.pwff.fc1.bias\n",
      "\t transformer.blocks.7.pwff.fc2.weight\n",
      "\t transformer.blocks.7.pwff.fc2.bias\n",
      "\t transformer.blocks.7.norm2.weight\n",
      "\t transformer.blocks.7.norm2.bias\n",
      "\t transformer.blocks.8.attn.proj_q.weight\n",
      "\t transformer.blocks.8.attn.proj_q.bias\n",
      "\t transformer.blocks.8.attn.proj_k.weight\n",
      "\t transformer.blocks.8.attn.proj_k.bias\n",
      "\t transformer.blocks.8.attn.proj_v.weight\n",
      "\t transformer.blocks.8.attn.proj_v.bias\n",
      "\t transformer.blocks.8.proj.weight\n",
      "\t transformer.blocks.8.proj.bias\n",
      "\t transformer.blocks.8.norm1.weight\n",
      "\t transformer.blocks.8.norm1.bias\n",
      "\t transformer.blocks.8.pwff.fc1.weight\n",
      "\t transformer.blocks.8.pwff.fc1.bias\n",
      "\t transformer.blocks.8.pwff.fc2.weight\n",
      "\t transformer.blocks.8.pwff.fc2.bias\n",
      "\t transformer.blocks.8.norm2.weight\n",
      "\t transformer.blocks.8.norm2.bias\n",
      "\t transformer.blocks.9.attn.proj_q.weight\n",
      "\t transformer.blocks.9.attn.proj_q.bias\n",
      "\t transformer.blocks.9.attn.proj_k.weight\n",
      "\t transformer.blocks.9.attn.proj_k.bias\n",
      "\t transformer.blocks.9.attn.proj_v.weight\n",
      "\t transformer.blocks.9.attn.proj_v.bias\n",
      "\t transformer.blocks.9.proj.weight\n",
      "\t transformer.blocks.9.proj.bias\n",
      "\t transformer.blocks.9.norm1.weight\n",
      "\t transformer.blocks.9.norm1.bias\n",
      "\t transformer.blocks.9.pwff.fc1.weight\n",
      "\t transformer.blocks.9.pwff.fc1.bias\n",
      "\t transformer.blocks.9.pwff.fc2.weight\n",
      "\t transformer.blocks.9.pwff.fc2.bias\n",
      "\t transformer.blocks.9.norm2.weight\n",
      "\t transformer.blocks.9.norm2.bias\n",
      "\t transformer.blocks.10.attn.proj_q.weight\n",
      "\t transformer.blocks.10.attn.proj_q.bias\n",
      "\t transformer.blocks.10.attn.proj_k.weight\n",
      "\t transformer.blocks.10.attn.proj_k.bias\n",
      "\t transformer.blocks.10.attn.proj_v.weight\n",
      "\t transformer.blocks.10.attn.proj_v.bias\n",
      "\t transformer.blocks.10.proj.weight\n",
      "\t transformer.blocks.10.proj.bias\n",
      "\t transformer.blocks.10.norm1.weight\n",
      "\t transformer.blocks.10.norm1.bias\n",
      "\t transformer.blocks.10.pwff.fc1.weight\n",
      "\t transformer.blocks.10.pwff.fc1.bias\n",
      "\t transformer.blocks.10.pwff.fc2.weight\n",
      "\t transformer.blocks.10.pwff.fc2.bias\n",
      "\t transformer.blocks.10.norm2.weight\n",
      "\t transformer.blocks.10.norm2.bias\n",
      "\t transformer.blocks.11.attn.proj_q.weight\n",
      "\t transformer.blocks.11.attn.proj_q.bias\n",
      "\t transformer.blocks.11.attn.proj_k.weight\n",
      "\t transformer.blocks.11.attn.proj_k.bias\n",
      "\t transformer.blocks.11.attn.proj_v.weight\n",
      "\t transformer.blocks.11.attn.proj_v.bias\n",
      "\t transformer.blocks.11.proj.weight\n",
      "\t transformer.blocks.11.proj.bias\n",
      "\t transformer.blocks.11.norm1.weight\n",
      "\t transformer.blocks.11.norm1.bias\n",
      "\t transformer.blocks.11.pwff.fc1.weight\n",
      "\t transformer.blocks.11.pwff.fc1.bias\n",
      "\t transformer.blocks.11.pwff.fc2.weight\n",
      "\t transformer.blocks.11.pwff.fc2.bias\n",
      "\t transformer.blocks.11.norm2.weight\n",
      "\t transformer.blocks.11.norm2.bias\n",
      "\t norm.weight\n",
      "\t norm.bias\n",
      "\t fc.weight\n",
      "\t fc.bias\n"
     ]
    }
   ],
   "source": [
    "#################################\n",
    "# **Single Run**\n",
    "# Execute this if you only want to do a single run of the data, else, skip to the hyperparameter testing section\n",
    "#################################\n",
    "params_to_update = model_ft.parameters()\n",
    "print(\"Params to learn:\")\n",
    "if feature_extract:\n",
    "    params_to_update = []\n",
    "    for name,param in model_ft.named_parameters():\n",
    "        if param.requires_grad == True:\n",
    "            params_to_update.append(param)\n",
    "            print(\"\\t\",name)\n",
    "else:\n",
    "    for name,param in model_ft.named_parameters():\n",
    "        if param.requires_grad == True:\n",
    "            print(\"\\t\",name)\n",
    "\n",
    "# Observe that all parameters are being optimized\n",
    "optimizer_ft = optim.SGD(params_to_update, lr=0.001, momentum=0.9)\n",
    "\n",
    "# Setup the loss fxn\n",
    "criterion = nn.CrossEntropyLoss()"
   ]
  },
  {
   "cell_type": "code",
   "execution_count": 13,
   "metadata": {
    "colab": {
     "base_uri": "https://localhost:8080/"
    },
    "id": "zGT2HJB8LiAM",
    "outputId": "2d8fbdd7-49d9-477a-b9c1-0c295accce11"
   },
   "outputs": [
    {
     "data": {
      "text/plain": [
       "<All keys matched successfully>"
      ]
     },
     "execution_count": 13,
     "metadata": {},
     "output_type": "execute_result"
    }
   ],
   "source": [
    "#################################\n",
    "# Using a saved model to save the training time\n",
    "# Send the model to GPU\n",
    "#################################\n",
    "PATH = '/content/drive/MyDrive/shared/save_models/vit5.pth'\n",
    "#torch.save(model_ft.state_dict(), PATH)\n",
    "model = torch.load(PATH)\n",
    "\n",
    "# Send the model to GPU - model is still fresh at this point\n",
    "device = torch.device(\"cuda:0\" if torch.cuda.is_available() else \"cpu\")\n",
    "model_ft = model_ft.to(device)\n",
    "\n",
    "#Load the model\n",
    "model_ft.load_state_dict(model)\n",
    "#model_ft.eval() if not training"
   ]
  },
  {
   "cell_type": "code",
   "execution_count": null,
   "metadata": {
    "colab": {
     "base_uri": "https://localhost:8080/"
    },
    "id": "psTAq6AAE5qy",
    "outputId": "7c2c8b95-52ce-4b0e-995c-b45b5a7d1dea"
   },
   "outputs": [
    {
     "name": "stdout",
     "output_type": "stream",
     "text": [
      "Epoch 0/9\n"
     ]
    },
    {
     "name": "stderr",
     "output_type": "stream",
     "text": [
      "/usr/local/lib/python3.7/dist-packages/torch/utils/data/dataloader.py:481: UserWarning: This DataLoader will create 4 worker processes in total. Our suggested max number of worker in current system is 2, which is smaller than what this DataLoader is going to create. Please be aware that excessive worker creation might get DataLoader running slow or even freeze, lower the worker number to avoid potential slowness/freeze if necessary.\n",
      "  cpuset_checked))\n"
     ]
    },
    {
     "name": "stdout",
     "output_type": "stream",
     "text": [
      "train Loss: 0.5166 Acc: 0.8309\n",
      "valid Loss: 0.5300 Acc: 0.8539\n",
      "\n",
      "Epoch 1/9\n",
      "train Loss: 0.3894 Acc: 0.8676\n",
      "valid Loss: 0.3057 Acc: 0.8876\n",
      "\n",
      "Epoch 2/9\n",
      "train Loss: 0.3215 Acc: 0.8971\n",
      "valid Loss: 0.3148 Acc: 0.9101\n",
      "\n",
      "Epoch 3/9\n"
     ]
    }
   ],
   "source": [
    "#################################\n",
    "# Train one model and evaluate\n",
    "#################################\n",
    "\n",
    "model_ft, val_hist_acc, val_hist_loss, time_result, best_acc_valid, best_loss_valid = \\\n",
    "train_model(model_ft, dataloaders_dict, criterion, optimizer_ft,  num_epochs=num_epochs, is_inception=(model_name==\"inception\"))"
   ]
  },
  {
   "cell_type": "code",
   "execution_count": null,
   "metadata": {
    "id": "IUYKAgeJOgO7"
   },
   "outputs": [],
   "source": [
    "#Save model if required:\n",
    "#torch.save(model_ft.state_dict(), PATH)\n"
   ]
  },
  {
   "cell_type": "markdown",
   "metadata": {
    "id": "tks6as1lmFK9"
   },
   "source": [
    "# **Test**\n",
    "This section runs the pre-trained model against a set of test images to predict the class. Accuracy of the procedure is then computed on the basis of number of total correct classifications over the total number of images classified."
   ]
  },
  {
   "cell_type": "code",
   "execution_count": 28,
   "metadata": {
    "id": "1bxzd6rvL07H"
   },
   "outputs": [],
   "source": [
    "#################################\n",
    "# function to test model on test sample\n",
    "# This section runs the pre-trained model against a set of test images to predict the class.\n",
    "# Accuracy of the procedure is then computed on the basis of number of total correct classifications \n",
    "# over the total number of images classified.\n",
    "#################################\n",
    "\n",
    "import sklearn.metrics as sk\n",
    "\n",
    "# test\n",
    "def test_model_eval(model, dataloaders, phase):\n",
    "  # Iterate over data.\n",
    "  running_corrects = 0\n",
    "  len_pred = 0\n",
    "  predicts = []\n",
    "  true_vals = []\n",
    "  date = datetime.today().strftime('%Y%m%d')\n",
    "  time = datetime.today().strftime('%H%M%S')\n",
    "  \n",
    "  for inputs, labels in dataloaders[phase]:\n",
    "      inputs = inputs.to(device)\n",
    "      labels = labels.to(device) #truths\n",
    "      model.eval()\n",
    "      outputs = model(inputs)\n",
    "      _, prediction = torch.max(outputs, 1) \n",
    "      running_corrects += torch.sum(prediction == labels.data)\n",
    "\n",
    "      #np.save(prediction, f\"/content/drive/MyDrive/shared/results/gl_X_test_pred_{time}.npy\")\n",
    "      \n",
    "      #Store prediction and lables into cpu list\n",
    "      for i in prediction.cpu().numpy():\n",
    "        predicts.append(i)\n",
    "      for i in labels.data.cpu().numpy():\n",
    "        true_vals.append(i)\n",
    "        len_pred += 1\n",
    "      \n",
    "  test_acc = running_corrects.double() / len(dataloaders[phase].dataset)\n",
    "  \n",
    "  predicts_transformed = predicts.copy()\n",
    "  true_vals_transformed = true_vals.copy()\n",
    "  #Process 1,2,3 classes to value of 1 to identify tumor\n",
    "  for i in range(0,len_pred):\n",
    "    if (predicts[i] in [1,2,3]):\n",
    "      predicts_transformed[i] = 1\n",
    "    if (true_vals[i] in[1,2,3]):\n",
    "      true_vals_transformed[i] = 1\n",
    "\n",
    "  #Gordon's recall:\n",
    "  recall = sk.recall_score(true_vals_transformed, predicts_transformed)\n",
    "  f1 = sk.f1_score(true_vals, predicts,average='weighted')\n",
    "  f1_all = sk.f1_score(true_vals, predicts, average=None)\n",
    "  \n",
    "  #View sample of data (remove in final code)\n",
    "  if len(predicts) < 100:\n",
    "    print(\"Predictions:\", predicts)\n",
    "    print(\"True values:\", true_vals) \n",
    "    print()\n",
    "\n",
    "  return test_acc, prediction, recall, f1, f1_all#, true_recall\n",
    "#Run test model\n"
   ]
  },
  {
   "cell_type": "code",
   "execution_count": null,
   "metadata": {
    "id": "6toUhR0aMs_9"
   },
   "outputs": [],
   "source": [
    "#Against test dataset from cross-validation \n",
    "test_acc, prediction, recall, f1, f1_all = test_model_eval(model_ft, dataloaders_dict , phase = 'test')\n",
    "print(f\"Test Accuracy: {test_acc*100:.2f}%\")\n",
    "print(f\"Recall: {recall*100:.2f}%\")\n",
    "print(f\"Weighted f1: {f1*100:.2f}%\")\n",
    "for i in range(0,len(f1_all)):\n",
    "  print(f\"f1 for class {i}: {f1_all[i]*100:.2f}%\")"
   ]
  },
  {
   "cell_type": "markdown",
   "metadata": {
    "id": "gQJCy1caMH16"
   },
   "source": [
    "## Model evaluation - against ALL data (real_test)"
   ]
  },
  {
   "cell_type": "code",
   "execution_count": 14,
   "metadata": {
    "colab": {
     "base_uri": "https://localhost:8080/"
    },
    "id": "fyly5D1VWwNS",
    "outputId": "6950c326-6f10-4777-8b57-39b45fcd5c28"
   },
   "outputs": [
    {
     "name": "stdout",
     "output_type": "stream",
     "text": [
      "Initializing Datasets and Dataloaders...\n"
     ]
    }
   ],
   "source": [
    "#################################\n",
    "# Model evaluation - against ALL data (real_test)\n",
    "#################################\n",
    "\n",
    "# Data augmentation and normalization for training\n",
    "data_dir2 = \"/content/drive/MyDrive/shared/samples_x384_all_real_test\" # for vit\n",
    "#data_dir = \"/content/drive/MyDrive/shared/samples_x384_all\"  # for vit\n",
    "\n",
    "#Get training data into tensorflow\n",
    "phase = 'real_test'\n",
    "data_transforms2 = {\n",
    "    'real_test': transforms.Compose([\n",
    "        transforms.RandomResizedCrop(input_size),\n",
    "        transforms.RandomHorizontalFlip(),\n",
    "        transforms.ToTensor(),\n",
    "    ])\n",
    "}\n",
    "test_datasets = {phase: datasets.ImageFolder(data_dir2, data_transforms2[phase])}\n",
    "test_loader = {phase: torch.utils.data.DataLoader(train_datasets[phase], batch_size=batch_size, shuffle=True, num_workers=1)}\n",
    "\n",
    "print(\"Initializing Datasets and Dataloaders...\")\n",
    "# Create training and validation datasets\n",
    "#img2 = {x: datasets.ImageFolder(os.path.join(data_dir2, x), data_transforms2[x]) for x in ['real_test']}\n",
    "# Create training and validation dataloaders\n",
    "#dict2 = {x: torch.utils.data.DataLoader(img2[x], batch_size=batch_size, shuffle=True, num_workers=4) for x in ['real_test']}"
   ]
  },
  {
   "cell_type": "code",
   "execution_count": 29,
   "metadata": {
    "colab": {
     "base_uri": "https://localhost:8080/"
    },
    "id": "3EeMwH_JWk8Q",
    "outputId": "ddcab578-4104-4ced-dfd7-e322555744f0"
   },
   "outputs": [
    {
     "name": "stdout",
     "output_type": "stream",
     "text": [
      "Test Accuracy: 62.02%\n",
      "Recall: 0.00%\n",
      "Weighted f1: 76.56%\n",
      "f1 for class 0: 76.56%\n",
      "f1 for class 1: 0.00%\n",
      "f1 for class 2: 0.00%\n"
     ]
    },
    {
     "name": "stderr",
     "output_type": "stream",
     "text": [
      "/usr/local/lib/python3.7/dist-packages/sklearn/metrics/_classification.py:1318: UndefinedMetricWarning: Recall is ill-defined and being set to 0.0 due to no true samples. Use `zero_division` parameter to control this behavior.\n",
      "  _warn_prf(average, modifier, msg_start, len(result))\n"
     ]
    }
   ],
   "source": [
    "test_acc, prediction, recall, f1, f1_all = test_model_eval(model_ft, test_loader, phase = 'real_test')\n",
    "print(f\"Test Accuracy: {test_acc*100:.2f}%\")\n",
    "print(f\"Recall: {recall*100:.2f}%\")\n",
    "print(f\"Weighted f1: {f1*100:.2f}%\")\n",
    "for i in range(0,len(f1_all)):\n",
    "  print(f\"f1 for class {i}: {f1_all[i]*100:.2f}%\")"
   ]
  },
  {
   "cell_type": "markdown",
   "metadata": {
    "id": "qxNwxRNUhOyd"
   },
   "source": [
    "# **Hyperparameter testing section**\n",
    "## Learning Rate"
   ]
  },
  {
   "cell_type": "code",
   "execution_count": null,
   "metadata": {
    "id": "7FmqqROPCNmi"
   },
   "outputs": [],
   "source": [
    "#################################\n",
    "# train multiple models for testing e.g. learning rate\n",
    "#################################\n",
    "# Detect if we have a GPU available\n",
    "device = torch.device(\"cuda:0\" if torch.cuda.is_available() else \"cpu\")\n",
    "criterion = nn.CrossEntropyLoss()\n",
    "\n",
    "#hyperparameters\n",
    "learning_list = [0.01, 0.0015, 0.001, 0.0005] #define arbitrary learning elements\n",
    "# momentum = [0.95, 0.9, 0.8]\n",
    "# feature_extract\n",
    "# use_pretrained\n",
    "\n",
    "#################################\n",
    "# Hyper\n",
    "#################################\n",
    "def hpt_learning(learning_list, model_ft):\n",
    "  #initialise storage\n",
    "  hist_loss_dict = {}\n",
    "  hist_acc_dict = {}\n",
    "  time_results = {}\n",
    "\n",
    "  for i in learning_list.copy():\n",
    "    #clear memory\n",
    "    torch.cuda.empty_cache()\n",
    "\n",
    "    #reinit model_ft:\n",
    "    model_ft,_ = initialize_model(model_name, num_classes, feature_extract=False, use_pretrained=False)\n",
    "    model_ft = model_ft.to(device)\n",
    "\n",
    "    #init optimizer\n",
    "    params_to_update = model_ft.parameters()\n",
    "    if feature_extract:\n",
    "        params_to_update = []\n",
    "        for name,param in model_ft.named_parameters():\n",
    "            if param.requires_grad == True:\n",
    "                params_to_update.append(param)\n",
    "                print(\"\\t\",name)\n",
    "    optimizer_ft = optim.SGD(params_to_update, lr = i, momentum = 0.90)\n",
    "    \n",
    "    #train\n",
    "    since = time.time()\n",
    "    model_ft, val_hist_acc, val_hist_loss, time_result, best_acc_valid, best_loss_valid = \\\n",
    "    train_model(model_ft, dataloaders_dict, criterion, optimizer_ft,  num_epochs=num_epochs, is_inception=(model_name==\"inception\"))\n",
    "\n",
    "    print(f\"Training param {i} complete\\n\")\n",
    "    hist_loss_dict[i] = val_hist_loss\n",
    "    hist_acc_dict[i] = [h.cpu().numpy() for h in val_hist_acc]\n",
    "    time_results[i] = time_result\n",
    "  return hist_loss_dict, hist_acc_dict, time_results\n",
    "\n",
    "hloss_d_b, hacc_d_b, time_result = hpt_learning(learning_list, model_ft)"
   ]
  },
  {
   "cell_type": "code",
   "execution_count": null,
   "metadata": {
    "colab": {
     "base_uri": "https://localhost:8080/",
     "height": 279
    },
    "id": "qDxiFNxOW-Va",
    "outputId": "26eec07f-8df3-405d-aef3-362032f6cab4"
   },
   "outputs": [
    {
     "data": {
      "image/png": "[encoded data removed]",
      "text/plain": [
       "<Figure size 432x288 with 1 Axes>"
      ]
     },
     "metadata": {
      "needs_background": "light"
     },
     "output_type": "display_data"
    }
   ],
   "source": [
    "#################################\n",
    "# loss\n",
    "#################################\n",
    "def hp_plt_loss(loss_val, param_tuned, short_name):\n",
    "  plt.title(f\"Hyperparameter: {param_tuned}\")\n",
    "  plt.xlabel(\"Training Epochs\")\n",
    "  plt.ylabel(\"Loss\")\n",
    "\n",
    "  for i in hloss_d:\n",
    "    plt.plot(range(1,len(loss_val[i])+1), loss_val[i], label = f\"{short_name} = {i}\")\n",
    "    #plt.plot(range(1,len(hloss_d[i])+1), hloss_d[i], label = f\"{param_tuned} = {i}\")\n",
    "\n",
    "  plt.ylim((0,1.))\n",
    "  plt.xticks(np.arange(1, num_epochs+1, 1.0))\n",
    "  plt.legend()\n",
    "  plt.show()\n",
    "\n",
    "hp_plt_loss(hloss_d_b,'Learning Rate','lr')\n",
    "\n",
    "#################################\n",
    "# accuracy\n",
    "#################################\n",
    "def hp_plt_acc(accuracy_val, param_tuned , short_name):\n",
    "  plt.title(f\"Hyperparameter: {param_tuned}\")\n",
    "  plt.xlabel(\"Training Epochs\")\n",
    "  plt.ylabel(\"Accuracy(%)\")\n",
    "  for i in hacc_d:\n",
    "    plt.plot(range(1,len(hacc_d[i])+1), hacc_d[i], label = f\"{short_name} = {i}\")\n",
    "  plt.ylim((0,1.))\n",
    "  plt.xticks(np.arange(1, num_epochs+1, 1.0))\n",
    "  plt.legend()\n",
    "  plt.show()\n",
    "\n",
    "hp_plt_acc(hacc_d_b, \"Learning Rate\",\"lr\")"
   ]
  },
  {
   "cell_type": "markdown",
   "metadata": {
    "id": "ZS90dZ-egV6k"
   },
   "source": [
    "# **Batch Size**\n"
   ]
  },
  {
   "cell_type": "code",
   "execution_count": null,
   "metadata": {
    "id": "cJ3YIJn3gEpC"
   },
   "outputs": [],
   "source": [
    "#################################\n",
    "# Batch Size\n",
    "#################################\n",
    "\n",
    "device = torch.device(\"cuda:0\" if torch.cuda.is_available() else \"cpu\")\n",
    "criterion = nn.CrossEntropyLoss()\n",
    "\n",
    "#hyperparameters\n",
    "batch_sizes = [4,5,7]\n",
    "num_epochs = 5\n",
    "#Hyper\n",
    "def hpt_batch(batch_sizes, model_ft):\n",
    "  #initialise storage\n",
    "  hist_loss_dict = {}\n",
    "  hist_acc_dict = {}\n",
    "  time_results = {}\n",
    "\n",
    "  for i in batch_sizes.copy():\n",
    "    #clear memory\n",
    "    torch.cuda.empty_cache()\n",
    "    dataloaders_dict = {x: torch.utils.data.DataLoader(image_datasets[x], batch_size=i, shuffle=True, num_workers=4) for x in ['train', 'valid', 'test']}\n",
    "\n",
    "    #reinit model_ft:\n",
    "    model_ft,_ = initialize_model(model_name, num_classes, feature_extract=False, use_pretrained=False)\n",
    "    model_ft = model_ft.to(device)\n",
    "\n",
    "    #init optimizer\n",
    "    params_to_update = model_ft.parameters()\n",
    "    if feature_extract:\n",
    "        params_to_update = []\n",
    "        for name,param in model_ft.named_parameters():\n",
    "            if param.requires_grad == True:\n",
    "                params_to_update.append(param)\n",
    "                print(\"\\t\",name)\n",
    "    optimizer_ft = optim.SGD(params_to_update, lr = 0.001, momentum = 0.90)\n",
    "    \n",
    "    #train\n",
    "    since = time.time()\n",
    "    model_ft, val_hist_acc, val_hist_loss, time_result, best_acc_valid, best_loss_valid = \\\n",
    "    train_model(model_ft, dataloaders_dict, criterion, optimizer_ft,  num_epochs=num_epochs, is_inception=(model_name==\"inception\"))\n",
    "\n",
    "    print(f\"Training param {i} complete\\n\")\n",
    "    hist_loss_dict[i] = val_hist_loss\n",
    "    hist_acc_dict[i] = [h.cpu().numpy() for h in val_hist_acc]\n",
    "    time_results[i] = time_result\n",
    "  return hist_loss_dict, hist_acc_dict, time_results\n",
    "\n",
    "hloss_d, hacc_d, time_result = hpt_batch(batch_sizes, model_ft)"
   ]
  },
  {
   "cell_type": "code",
   "execution_count": null,
   "metadata": {
    "colab": {
     "base_uri": "https://localhost:8080/",
     "height": 295
    },
    "id": "yqkElwFTZQfY",
    "outputId": "41859b81-8418-4f7d-d62b-fdb58fb6b319"
   },
   "outputs": [
    {
     "data": {
      "image/png": "[encoded data removed]",
      "text/plain": [
       "<Figure size 432x288 with 1 Axes>"
      ]
     },
     "metadata": {
      "needs_background": "light"
     },
     "output_type": "display_data"
    }
   ],
   "source": [
    "hp_plt_acc(hacc_d_b, \"Batch size\",\"b_size\")"
   ]
  },
  {
   "cell_type": "markdown",
   "metadata": {
    "id": "EfZAQTpwi39G"
   },
   "source": [
    "# **Scratch Comparison**\n",
    "Comparison against untrained model"
   ]
  },
  {
   "cell_type": "code",
   "execution_count": null,
   "metadata": {
    "colab": {
     "base_uri": "https://localhost:8080/",
     "height": 1000
    },
    "id": "MgyPReorC3Ue",
    "outputId": "06d8ad40-4967-4d80-b03f-f383d44a5fae"
   },
   "outputs": [
    {
     "name": "stdout",
     "output_type": "stream",
     "text": [
      "Epoch 0/19\n",
      "----------\n"
     ]
    },
    {
     "name": "stderr",
     "output_type": "stream",
     "text": [
      "/usr/local/lib/python3.7/dist-packages/torch/utils/data/dataloader.py:481: UserWarning: This DataLoader will create 4 worker processes in total. Our suggested max number of worker in current system is 2, which is smaller than what this DataLoader is going to create. Please be aware that excessive worker creation might get DataLoader running slow or even freeze, lower the worker number to avoid potential slowness/freeze if necessary.\n",
      "  cpuset_checked))\n"
     ]
    },
    {
     "name": "stdout",
     "output_type": "stream",
     "text": [
      "train Loss: 1.1865 Acc: 0.5044\n",
      "valid Loss: 1.3655 Acc: 0.4382\n",
      "\n",
      "Epoch 1/19\n",
      "----------\n",
      "train Loss: 0.8082 Acc: 0.7147\n",
      "valid Loss: 0.9576 Acc: 0.6517\n",
      "\n",
      "Epoch 2/19\n",
      "----------\n",
      "train Loss: 0.7117 Acc: 0.7382\n",
      "valid Loss: 0.7663 Acc: 0.7191\n",
      "\n",
      "Epoch 3/19\n",
      "----------\n",
      "train Loss: 0.7503 Acc: 0.7324\n",
      "valid Loss: 1.2620 Acc: 0.5506\n",
      "\n",
      "Epoch 4/19\n",
      "----------\n",
      "train Loss: 0.6871 Acc: 0.7544\n",
      "valid Loss: 0.6544 Acc: 0.7528\n",
      "\n",
      "Epoch 5/19\n",
      "----------\n",
      "train Loss: 0.6846 Acc: 0.7721\n",
      "valid Loss: 0.7796 Acc: 0.7753\n",
      "\n",
      "Epoch 6/19\n",
      "----------\n",
      "train Loss: 0.6777 Acc: 0.7691\n",
      "valid Loss: 0.6599 Acc: 0.7753\n",
      "\n",
      "Epoch 7/19\n",
      "----------\n",
      "train Loss: 0.5557 Acc: 0.8103\n",
      "valid Loss: 0.7417 Acc: 0.7079\n",
      "\n",
      "Epoch 8/19\n",
      "----------\n",
      "train Loss: 0.5322 Acc: 0.8147\n",
      "valid Loss: 0.7499 Acc: 0.7191\n",
      "\n",
      "Epoch 9/19\n",
      "----------\n",
      "train Loss: 0.5093 Acc: 0.8074\n",
      "valid Loss: 0.5568 Acc: 0.7753\n",
      "\n",
      "Epoch 10/19\n",
      "----------\n",
      "train Loss: 0.5014 Acc: 0.8250\n",
      "valid Loss: 0.5521 Acc: 0.7865\n",
      "\n",
      "Epoch 11/19\n",
      "----------\n",
      "train Loss: 0.4796 Acc: 0.8426\n",
      "valid Loss: 0.7034 Acc: 0.7640\n",
      "\n",
      "Epoch 12/19\n",
      "----------\n",
      "train Loss: 0.5238 Acc: 0.8162\n",
      "valid Loss: 0.5806 Acc: 0.7753\n",
      "\n",
      "Epoch 13/19\n",
      "----------\n",
      "train Loss: 0.4697 Acc: 0.8397\n",
      "valid Loss: 0.6321 Acc: 0.7640\n",
      "\n",
      "Epoch 14/19\n",
      "----------\n",
      "train Loss: 0.4564 Acc: 0.8368\n",
      "valid Loss: 0.5850 Acc: 0.7753\n",
      "\n",
      "Epoch 15/19\n",
      "----------\n",
      "train Loss: 0.4405 Acc: 0.8500\n",
      "valid Loss: 0.8581 Acc: 0.6629\n",
      "\n",
      "Epoch 16/19\n",
      "----------\n",
      "train Loss: 0.5151 Acc: 0.8088\n",
      "valid Loss: 0.5136 Acc: 0.8090\n",
      "\n",
      "Epoch 17/19\n",
      "----------\n",
      "train Loss: 0.4547 Acc: 0.8368\n",
      "valid Loss: 0.5036 Acc: 0.8315\n",
      "\n",
      "Epoch 18/19\n",
      "----------\n",
      "train Loss: 0.4385 Acc: 0.8456\n",
      "valid Loss: 0.6101 Acc: 0.7865\n",
      "\n",
      "Epoch 19/19\n",
      "----------\n",
      "train Loss: 0.4634 Acc: 0.8353\n",
      "valid Loss: 0.4897 Acc: 0.8427\n",
      "\n",
      "Training complete in 5m 4s\n",
      "Best val Acc: 0.842697\n"
     ]
    },
    {
     "data": {
      "image/png": "[encoded data removed]",
      "text/plain": [
       "<Figure size 432x288 with 1 Axes>"
      ]
     },
     "metadata": {
      "needs_background": "light"
     },
     "output_type": "display_data"
    }
   ],
   "source": [
    "#################################\n",
    "# For comparison purpose between non-trained version vs pretrained version.\n",
    "# Initialize the non-pretrained version of the model used for this run\n",
    "#################################\n",
    "\n",
    "scratch_model,_ = initialize_model(model_name, num_classes, feature_extract=False, use_pretrained=False)\n",
    "scratch_model = scratch_model.to(device)\n",
    "scratch_optimizer = optim.SGD(scratch_model.parameters(), lr=0.001, momentum=0.9)\n",
    "scratch_criterion = nn.CrossEntropyLoss()\n",
    "# _,scratch_hist = train_model(scratch_model, dataloaders_dict, scratch_criterion, scratch_optimizer, num_epochs=num_epochs, is_inception=(model_name==\"inception\"))\n",
    "_,scratch_hist, _, _ = train_model(scratch_model, dataloaders_dict, scratch_criterion, scratch_optimizer, num_epochs=num_epochs, is_inception=(model_name==\"inception\"))\n",
    "shist = [h.cpu().numpy() for h in scratch_hist]\n",
    "\n",
    "# plt.title(f\"Validation Accuracy vs. Number of Training Epochs: {model_name}\")\n",
    "plt.title(f\"Model: {model_name}, {time_result}\")\n",
    "plt.xlabel(\"Training Epochs\")\n",
    "plt.ylabel(\"Validation Accuracy\")\n",
    "plt.plot(range(1,num_epochs+1),hloss_d,label=\"Pretrained\")\n",
    "plt.plot(range(1,num_epochs+1),shist,label=\"Scratch\")\n",
    "plt.ylim((0,1.))\n",
    "plt.xticks(np.arange(1, num_epochs+1, 1.0))\n",
    "plt.legend()\n",
    "plt.show()"
   ]
  },
  {
   "cell_type": "markdown",
   "metadata": {
    "id": "_HYudWVnluf0"
   },
   "source": [
    "# **Model Performance Diagnostics**\n",
    "This section visualises the performance of code onto matplots charts to be used in the reports.\n",
    "\n",
    "Part 1: Visualise performance of model when running against data for Vgg, densenet and Vit\n",
    "\n",
    "Part 2: Visualise the chart into plots of 3 distinct model performance "
   ]
  },
  {
   "cell_type": "code",
   "execution_count": null,
   "metadata": {
    "id": "_8RdaslF7G9x"
   },
   "outputs": [],
   "source": [
    "#################################\n",
    "# **Model Performance Diagnostics**\n",
    "# This section visualises the performance of code onto matplots charts to be used in the reports.\n",
    "#\n",
    "# Part 1: Visualise performance of model when running against data for Vgg, densenet and Vit\n",
    "#\n",
    "# Part 2: Visualise the chart into plots of 3 distinct model performance \n",
    "#################################\n",
    "\n",
    "\n",
    "def plot_performance(model_name, time_result, best_acc_valid, test_acc, num_epochs, val_hist_loss, val_hist_acc):\n",
    "    fig,ax = plt.subplots()\n",
    "\n",
    "    ax_color = '#ff7f0e'\n",
    "    label_colour = 'black'\n",
    "    ax.title.set_text(f\"Model: {model_name}, {time_result}, Acc: {best_acc_valid*100.0:2.2f}%, Test: {test_acc*100.0:2.2f}%\")\n",
    "    ax.set_xlabel(\"Training Epochs\")\n",
    "    ax.set_ylabel(\"Loss\", color = label_colour)\n",
    "    l1 = ax.plot(np.arange(1, num_epochs+1, 1.0), val_hist_loss, color = ax_color, label = \"Loss\")\n",
    "    \n",
    "    ax2_color = '#1f77b4'\n",
    "    ax2 = ax.twinx()\n",
    "    ax2.set_ylabel(\"Accuracy(%)\", color = label_colour)\n",
    "    val_hist_acc_np = [h.cpu().numpy() for h in val_hist_acc]\n",
    "    l2 = ax2.plot(np.arange(1, num_epochs+1, 1.0), val_hist_acc_np, color = ax2_color, label = \"Accuracy\")\n",
    "\n",
    "    date = datetime.today().strftime('%Y%m%d')\n",
    "    time = datetime.today().strftime('%H%M%S')\n",
    "    plt.ylim((0,1.))\n",
    "    ax.set_xticks(np.arange(1, num_epochs+1, 1))\n",
    "    \n",
    "    fig.legend([l1,l2],labels=[\"Loss\",\"Accuracy\"], bbox_to_anchor = [0.885,0.895])\n",
    "    fig.savefig(f\"/content/drive/MyDrive/shared/results/{model_name}_{date}_{time}.png\")\n",
    "    fig.show()"
   ]
  },
  {
   "cell_type": "code",
   "execution_count": null,
   "metadata": {
    "colab": {
     "base_uri": "https://localhost:8080/",
     "height": 332
    },
    "id": "JClHU5Djpp27",
    "outputId": "ea02bf82-6967-437e-de6b-346ef225a85b"
   },
   "outputs": [
    {
     "name": "stderr",
     "output_type": "stream",
     "text": [
      "/usr/local/lib/python3.7/dist-packages/ipykernel_launcher.py:24: UserWarning: You have mixed positional and keyword arguments, some input may be discarded.\n"
     ]
    },
    {
     "data": {
      "image/png": "[encoded data removed]",
      "text/plain": [
       "<Figure size 432x288 with 2 Axes>"
      ]
     },
     "metadata": {
      "needs_background": "light"
     },
     "output_type": "display_data"
    }
   ],
   "source": [
    "##Part 1:\n",
    "plot_performance(model_name, time_result,best_acc_valid, test_acc, num_epochs, val_hist_loss, val_hist_acc)"
   ]
  }
 ],
 "metadata": {
  "accelerator": "GPU",
  "colab": {
   "collapsed_sections": [],
   "name": "gl_pytorch_hyperparam_tuning.ipynb",
   "provenance": []
  },
  "kernelspec": {
   "display_name": "Python 3 (ipykernel)",
   "language": "python",
   "name": "python3"
  },
  "language_info": {
   "codemirror_mode": {
    "name": "ipython",
    "version": 3
   },
   "file_extension": ".py",
   "mimetype": "text/x-python",
   "name": "python",
   "nbconvert_exporter": "python",
   "pygments_lexer": "ipython3",
   "version": "3.9.7"
  },
  "widgets": {
   "application/vnd.jupyter.widget-state+json": {
    "04c3b51aa02344378b97bd5f5d8758e6": {
     "model_module": "@jupyter-widgets/base",
     "model_module_version": "1.2.0",
     "model_name": "LayoutModel",
     "state": {
      "_model_module": "@jupyter-widgets/base",
      "_model_module_version": "1.2.0",
      "_model_name": "LayoutModel",
      "_view_count": null,
      "_view_module": "@jupyter-widgets/base",
      "_view_module_version": "1.2.0",
      "_view_name": "LayoutView",
      "align_content": null,
      "align_items": null,
      "align_self": null,
      "border": null,
      "bottom": null,
      "display": null,
      "flex": null,
      "flex_flow": null,
      "grid_area": null,
      "grid_auto_columns": null,
      "grid_auto_flow": null,
      "grid_auto_rows": null,
      "grid_column": null,
      "grid_gap": null,
      "grid_row": null,
      "grid_template_areas": null,
      "grid_template_columns": null,
      "grid_template_rows": null,
      "height": null,
      "justify_content": null,
      "justify_items": null,
      "left": null,
      "margin": null,
      "max_height": null,
      "max_width": null,
      "min_height": null,
      "min_width": null,
      "object_fit": null,
      "object_position": null,
      "order": null,
      "overflow": null,
      "overflow_x": null,
      "overflow_y": null,
      "padding": null,
      "right": null,
      "top": null,
      "visibility": null,
      "width": null
     }
    },
    "0bdbb352c2064a0bbe0b092325eabd33": {
     "model_module": "@jupyter-widgets/controls",
     "model_module_version": "1.5.0",
     "model_name": "DescriptionStyleModel",
     "state": {
      "_model_module": "@jupyter-widgets/controls",
      "_model_module_version": "1.5.0",
      "_model_name": "DescriptionStyleModel",
      "_view_count": null,
      "_view_module": "@jupyter-widgets/base",
      "_view_module_version": "1.2.0",
      "_view_name": "StyleView",
      "description_width": ""
     }
    },
    "1253335fb7d44ca29fbd87100a2b9bbe": {
     "model_module": "@jupyter-widgets/controls",
     "model_module_version": "1.5.0",
     "model_name": "ProgressStyleModel",
     "state": {
      "_model_module": "@jupyter-widgets/controls",
      "_model_module_version": "1.5.0",
      "_model_name": "ProgressStyleModel",
      "_view_count": null,
      "_view_module": "@jupyter-widgets/base",
      "_view_module_version": "1.2.0",
      "_view_name": "StyleView",
      "bar_color": null,
      "description_width": ""
     }
    },
    "150d61f3ef244cf28be1978834bcb044": {
     "model_module": "@jupyter-widgets/controls",
     "model_module_version": "1.5.0",
     "model_name": "HTMLModel",
     "state": {
      "_dom_classes": [],
      "_model_module": "@jupyter-widgets/controls",
      "_model_module_version": "1.5.0",
      "_model_name": "HTMLModel",
      "_view_count": null,
      "_view_module": "@jupyter-widgets/controls",
      "_view_module_version": "1.5.0",
      "_view_name": "HTMLView",
      "description": "",
      "description_tooltip": null,
      "layout": "IPY_MODEL_04c3b51aa02344378b97bd5f5d8758e6",
      "placeholder": "​",
      "style": "IPY_MODEL_d280dd627f6748a79827c9a591fec98c",
      "value": "100%"
     }
    },
    "1649c6c9725f4ad69f310ef9b56fafd3": {
     "model_module": "@jupyter-widgets/base",
     "model_module_version": "1.2.0",
     "model_name": "LayoutModel",
     "state": {
      "_model_module": "@jupyter-widgets/base",
      "_model_module_version": "1.2.0",
      "_model_name": "LayoutModel",
      "_view_count": null,
      "_view_module": "@jupyter-widgets/base",
      "_view_module_version": "1.2.0",
      "_view_name": "LayoutView",
      "align_content": null,
      "align_items": null,
      "align_self": null,
      "border": null,
      "bottom": null,
      "display": null,
      "flex": null,
      "flex_flow": null,
      "grid_area": null,
      "grid_auto_columns": null,
      "grid_auto_flow": null,
      "grid_auto_rows": null,
      "grid_column": null,
      "grid_gap": null,
      "grid_row": null,
      "grid_template_areas": null,
      "grid_template_columns": null,
      "grid_template_rows": null,
      "height": null,
      "justify_content": null,
      "justify_items": null,
      "left": null,
      "margin": null,
      "max_height": null,
      "max_width": null,
      "min_height": null,
      "min_width": null,
      "object_fit": null,
      "object_position": null,
      "order": null,
      "overflow": null,
      "overflow_x": null,
      "overflow_y": null,
      "padding": null,
      "right": null,
      "top": null,
      "visibility": null,
      "width": null
     }
    },
    "46347e96bf544cb8ac336ae8db0460bd": {
     "model_module": "@jupyter-widgets/base",
     "model_module_version": "1.2.0",
     "model_name": "LayoutModel",
     "state": {
      "_model_module": "@jupyter-widgets/base",
      "_model_module_version": "1.2.0",
      "_model_name": "LayoutModel",
      "_view_count": null,
      "_view_module": "@jupyter-widgets/base",
      "_view_module_version": "1.2.0",
      "_view_name": "LayoutView",
      "align_content": null,
      "align_items": null,
      "align_self": null,
      "border": null,
      "bottom": null,
      "display": null,
      "flex": null,
      "flex_flow": null,
      "grid_area": null,
      "grid_auto_columns": null,
      "grid_auto_flow": null,
      "grid_auto_rows": null,
      "grid_column": null,
      "grid_gap": null,
      "grid_row": null,
      "grid_template_areas": null,
      "grid_template_columns": null,
      "grid_template_rows": null,
      "height": null,
      "justify_content": null,
      "justify_items": null,
      "left": null,
      "margin": null,
      "max_height": null,
      "max_width": null,
      "min_height": null,
      "min_width": null,
      "object_fit": null,
      "object_position": null,
      "order": null,
      "overflow": null,
      "overflow_x": null,
      "overflow_y": null,
      "padding": null,
      "right": null,
      "top": null,
      "visibility": null,
      "width": null
     }
    },
    "c29c263daa17401aa041cb93321349af": {
     "model_module": "@jupyter-widgets/controls",
     "model_module_version": "1.5.0",
     "model_name": "FloatProgressModel",
     "state": {
      "_dom_classes": [],
      "_model_module": "@jupyter-widgets/controls",
      "_model_module_version": "1.5.0",
      "_model_name": "FloatProgressModel",
      "_view_count": null,
      "_view_module": "@jupyter-widgets/controls",
      "_view_module_version": "1.5.0",
      "_view_name": "ProgressView",
      "bar_style": "success",
      "description": "",
      "description_tooltip": null,
      "layout": "IPY_MODEL_1649c6c9725f4ad69f310ef9b56fafd3",
      "max": 347469964,
      "min": 0,
      "orientation": "horizontal",
      "style": "IPY_MODEL_1253335fb7d44ca29fbd87100a2b9bbe",
      "value": 347469964
     }
    },
    "d124cf36e610430cbaa84e682429241f": {
     "model_module": "@jupyter-widgets/controls",
     "model_module_version": "1.5.0",
     "model_name": "HTMLModel",
     "state": {
      "_dom_classes": [],
      "_model_module": "@jupyter-widgets/controls",
      "_model_module_version": "1.5.0",
      "_model_name": "HTMLModel",
      "_view_count": null,
      "_view_module": "@jupyter-widgets/controls",
      "_view_module_version": "1.5.0",
      "_view_name": "HTMLView",
      "description": "",
      "description_tooltip": null,
      "layout": "IPY_MODEL_46347e96bf544cb8ac336ae8db0460bd",
      "placeholder": "​",
      "style": "IPY_MODEL_0bdbb352c2064a0bbe0b092325eabd33",
      "value": " 331M/331M [00:18&lt;00:00, 19.0MB/s]"
     }
    },
    "d280dd627f6748a79827c9a591fec98c": {
     "model_module": "@jupyter-widgets/controls",
     "model_module_version": "1.5.0",
     "model_name": "DescriptionStyleModel",
     "state": {
      "_model_module": "@jupyter-widgets/controls",
      "_model_module_version": "1.5.0",
      "_model_name": "DescriptionStyleModel",
      "_view_count": null,
      "_view_module": "@jupyter-widgets/base",
      "_view_module_version": "1.2.0",
      "_view_name": "StyleView",
      "description_width": ""
     }
    },
    "d8e39e0ca32a44a69282295754ae13d6": {
     "model_module": "@jupyter-widgets/controls",
     "model_module_version": "1.5.0",
     "model_name": "HBoxModel",
     "state": {
      "_dom_classes": [],
      "_model_module": "@jupyter-widgets/controls",
      "_model_module_version": "1.5.0",
      "_model_name": "HBoxModel",
      "_view_count": null,
      "_view_module": "@jupyter-widgets/controls",
      "_view_module_version": "1.5.0",
      "_view_name": "HBoxView",
      "box_style": "",
      "children": [
       "IPY_MODEL_150d61f3ef244cf28be1978834bcb044",
       "IPY_MODEL_c29c263daa17401aa041cb93321349af",
       "IPY_MODEL_d124cf36e610430cbaa84e682429241f"
      ],
      "layout": "IPY_MODEL_e35a77f2bcba4d668a0f9a3f2b84a148"
     }
    },
    "e35a77f2bcba4d668a0f9a3f2b84a148": {
     "model_module": "@jupyter-widgets/base",
     "model_module_version": "1.2.0",
     "model_name": "LayoutModel",
     "state": {
      "_model_module": "@jupyter-widgets/base",
      "_model_module_version": "1.2.0",
      "_model_name": "LayoutModel",
      "_view_count": null,
      "_view_module": "@jupyter-widgets/base",
      "_view_module_version": "1.2.0",
      "_view_name": "LayoutView",
      "align_content": null,
      "align_items": null,
      "align_self": null,
      "border": null,
      "bottom": null,
      "display": null,
      "flex": null,
      "flex_flow": null,
      "grid_area": null,
      "grid_auto_columns": null,
      "grid_auto_flow": null,
      "grid_auto_rows": null,
      "grid_column": null,
      "grid_gap": null,
      "grid_row": null,
      "grid_template_areas": null,
      "grid_template_columns": null,
      "grid_template_rows": null,
      "height": null,
      "justify_content": null,
      "justify_items": null,
      "left": null,
      "margin": null,
      "max_height": null,
      "max_width": null,
      "min_height": null,
      "min_width": null,
      "object_fit": null,
      "object_position": null,
      "order": null,
      "overflow": null,
      "overflow_x": null,
      "overflow_y": null,
      "padding": null,
      "right": null,
      "top": null,
      "visibility": null,
      "width": null
     }
    }
   }
  }
 },
 "nbformat": 4,
 "nbformat_minor": 1
}
