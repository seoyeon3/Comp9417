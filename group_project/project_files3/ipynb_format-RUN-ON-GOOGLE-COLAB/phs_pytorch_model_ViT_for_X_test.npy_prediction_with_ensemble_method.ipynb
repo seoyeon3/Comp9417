{
 "cells": [
  {
   "cell_type": "code",
   "execution_count": 162,
   "metadata": {
    "colab": {
     "base_uri": "https://localhost:8080/"
    },
    "executionInfo": {
     "elapsed": 2570,
     "status": "ok",
     "timestamp": 1650166822815,
     "user": {
      "displayName": "P hs",
      "userId": "08419383816950303247"
     },
     "user_tz": -600
    },
    "id": "UjfAlxABB79j",
    "outputId": "102cba55-db05-4bfd-c024-150494f951ba"
   },
   "outputs": [
    {
     "name": "stdout",
     "output_type": "stream",
     "text": [
      "Drive already mounted at /content/drive; to attempt to forcibly remount, call drive.mount(\"/content/drive\", force_remount=True).\n"
     ]
    }
   ],
   "source": [
    "##################################################################\n",
    "# This code gets the predictions on real test sample \n",
    "# by voting ensemble by 5 ViT models trained on 5 different datasets.\n",
    "##################################################################\n",
    "#################################\n",
    "# access to google drive\n",
    "#################################\n",
    "from google.colab import drive\n",
    "\n",
    "drive.mount('/content/drive')"
   ]
  },
  {
   "cell_type": "code",
   "execution_count": 164,
   "metadata": {
    "colab": {
     "base_uri": "https://localhost:8080/"
    },
    "executionInfo": {
     "elapsed": 2726,
     "status": "ok",
     "timestamp": 1650166825537,
     "user": {
      "displayName": "P hs",
      "userId": "08419383816950303247"
     },
     "user_tz": -600
    },
    "id": "0KVcaZ_sITna",
    "outputId": "eb39c7d0-6271-48e2-e1b6-2c2f7c1d0a19"
   },
   "outputs": [
    {
     "name": "stdout",
     "output_type": "stream",
     "text": [
      "Requirement already satisfied: pytorch_pretrained_vit in /usr/local/lib/python3.7/dist-packages (0.0.7)\n",
      "Requirement already satisfied: torch in /usr/local/lib/python3.7/dist-packages (from pytorch_pretrained_vit) (1.10.0+cu111)\n",
      "Requirement already satisfied: typing-extensions in /usr/local/lib/python3.7/dist-packages (from torch->pytorch_pretrained_vit) (4.1.1)\n"
     ]
    }
   ],
   "source": [
    "#################################\n",
    "# import ViT pretrained model\n",
    "#################################\n",
    "!pip install pytorch_pretrained_vit"
   ]
  },
  {
   "cell_type": "code",
   "execution_count": 165,
   "metadata": {
    "colab": {
     "base_uri": "https://localhost:8080/"
    },
    "executionInfo": {
     "elapsed": 38,
     "status": "ok",
     "timestamp": 1650166825539,
     "user": {
      "displayName": "P hs",
      "userId": "08419383816950303247"
     },
     "user_tz": -600
    },
    "id": "1qUnueFt_ebC",
    "outputId": "edf8983b-f260-4e2b-d918-4b47181f31d2"
   },
   "outputs": [
    {
     "name": "stdout",
     "output_type": "stream",
     "text": [
      "PyTorch Version:  1.10.0+cu111\n",
      "Torchvision Version:  0.11.1+cu111\n"
     ]
    }
   ],
   "source": [
    "#################################\n",
    "# import modules\n",
    "#################################\n",
    "from __future__ import print_function \n",
    "from __future__ import division\n",
    "import torch\n",
    "import torch.nn as nn\n",
    "import torch.optim as optim\n",
    "import numpy as np\n",
    "import torchvision\n",
    "from torchvision import datasets, models, transforms\n",
    "import matplotlib.pyplot as plt\n",
    "import time\n",
    "import os\n",
    "import copy\n",
    "from pytorch_pretrained_vit import ViT\n",
    "from PIL import Image\n",
    "import glob\n",
    "from collections import Counter\n",
    "print(\"PyTorch Version: \",torch.__version__)\n",
    "print(\"Torchvision Version: \",torchvision.__version__)"
   ]
  },
  {
   "cell_type": "code",
   "execution_count": 166,
   "metadata": {
    "executionInfo": {
     "elapsed": 32,
     "status": "ok",
     "timestamp": 1650166825540,
     "user": {
      "displayName": "P hs",
      "userId": "08419383816950303247"
     },
     "user_tz": -600
    },
    "id": "qAcQ03Nj_qpx"
   },
   "outputs": [],
   "source": [
    "#################################\n",
    "# sample paths\n",
    "# Top level data directory. \n",
    "# Here we assume the format of the directory conforms to the ImageFolder structure\n",
    "#################################\n",
    "\n",
    "# data_dir = \"/content/drive/MyDrive/shared/samples\"\n",
    "# data_dir = \"/content/drive/MyDrive/shared/samples_small\"\n",
    "# data_dir = \"/content/drive/MyDrive/shared/samples_x299\"  # for indeption\n",
    "# data_dir = \"/content/drive/MyDrive/shared/samples_x384\"  # for vit\n",
    "# data_dir = \"/content/drive/MyDrive/shared/samples_x384_all\"  # for vit\n",
    "# data_dir = \"/content/drive/MyDrive/shared/samples_x384_all_5\"  # for vit\n",
    "# data_dir = \"/content/drive/MyDrive/shared/samples_x384_all_4\"  # for vit\n",
    "# data_dir = \"/content/drive/MyDrive/shared/samples_x384_all_3\"  # for vit\n",
    "# data_dir = \"/content/drive/MyDrive/shared/samples_x384_all_2\"  # for vit\n",
    "data_dir = \"/content/drive/MyDrive/shared/samples_x384_all_1\"  # for vit\n",
    "# data_dir = \"/content/drive/MyDrive/shared/samples_x384_small_5\"  # for vit\n",
    "# data_dir = \"/content/drive/MyDrive/samples2\"  # for vgg\n",
    "# data_dir = \"/content/drive/MyDrive/shared/samples_x384_small_4\"  # for vit"
   ]
  },
  {
   "cell_type": "code",
   "execution_count": 167,
   "metadata": {
    "executionInfo": {
     "elapsed": 31,
     "status": "ok",
     "timestamp": 1650166825541,
     "user": {
      "displayName": "P hs",
      "userId": "08419383816950303247"
     },
     "user_tz": -600
    },
    "id": "RdR7nfkm_sqT"
   },
   "outputs": [],
   "source": [
    "#################################\n",
    "# various model to test\n",
    "# Models to choose from [resnet, alexnet, vgg, squeezenet, densenet, inception]\n",
    "#################################\n",
    "# model_name = \"resnet\"\n",
    "# model_name = \"alexnet\"\n",
    "# model_name = \"vgg\"\n",
    "# model_name = \"squeezenet\"\n",
    "# model_name = \"densenet\"\n",
    "# model_name = \"inception\"\n",
    "model_name = \"vit\""
   ]
  },
  {
   "cell_type": "code",
   "execution_count": 168,
   "metadata": {
    "executionInfo": {
     "elapsed": 30,
     "status": "ok",
     "timestamp": 1650166825541,
     "user": {
      "displayName": "P hs",
      "userId": "08419383816950303247"
     },
     "user_tz": -600
    },
    "id": "64o83vBZ_uuD"
   },
   "outputs": [],
   "source": [
    "#################################\n",
    "# Number of classes in the dataset\n",
    "#################################\n",
    "\n",
    "num_classes = 4"
   ]
  },
  {
   "cell_type": "code",
   "execution_count": 169,
   "metadata": {
    "executionInfo": {
     "elapsed": 30,
     "status": "ok",
     "timestamp": 1650166825542,
     "user": {
      "displayName": "P hs",
      "userId": "08419383816950303247"
     },
     "user_tz": -600
    },
    "id": "7Z_XfY9p_wv1"
   },
   "outputs": [],
   "source": [
    "#################################\n",
    "# Batch size for training (change depending on how much memory you have)\n",
    "#################################\n",
    "# batch_size = 43\n",
    "# batch_size = 5  # for ViT\n",
    "batch_size = 8  # for ViT"
   ]
  },
  {
   "cell_type": "code",
   "execution_count": 170,
   "metadata": {
    "executionInfo": {
     "elapsed": 30,
     "status": "ok",
     "timestamp": 1650166825543,
     "user": {
      "displayName": "P hs",
      "userId": "08419383816950303247"
     },
     "user_tz": -600
    },
    "id": "6sSU3i9ZAJnS"
   },
   "outputs": [],
   "source": [
    "#################################\n",
    "# Number of epochs to train for\n",
    "#################################\n",
    "num_epochs = 20"
   ]
  },
  {
   "cell_type": "code",
   "execution_count": 171,
   "metadata": {
    "executionInfo": {
     "elapsed": 29,
     "status": "ok",
     "timestamp": 1650166825543,
     "user": {
      "displayName": "P hs",
      "userId": "08419383816950303247"
     },
     "user_tz": -600
    },
    "id": "tV5bHBoSANKh"
   },
   "outputs": [],
   "source": [
    "#################################\n",
    "# Flag for feature extracting. When False, we finetune the whole model,\n",
    "#   when True we only update the reshaped layer params\n",
    "#################################\n",
    "# feature_extract = True\n",
    "feature_extract = False"
   ]
  },
  {
   "cell_type": "code",
   "execution_count": 172,
   "metadata": {
    "executionInfo": {
     "elapsed": 29,
     "status": "ok",
     "timestamp": 1650166825544,
     "user": {
      "displayName": "P hs",
      "userId": "08419383816950303247"
     },
     "user_tz": -600
    },
    "id": "0b4s45XNfuhR"
   },
   "outputs": [],
   "source": [
    "#################################\n",
    "# Additional flag for ViT model\n",
    "#################################\n",
    "input_size = 384 # for ViT\n",
    "use_pretrained = True"
   ]
  },
  {
   "cell_type": "code",
   "execution_count": 173,
   "metadata": {
    "executionInfo": {
     "elapsed": 28,
     "status": "ok",
     "timestamp": 1650166825544,
     "user": {
      "displayName": "P hs",
      "userId": "08419383816950303247"
     },
     "user_tz": -600
    },
    "id": "EIyC_0ffAO4a"
   },
   "outputs": [],
   "source": [
    "#################################\n",
    "# function for model training\n",
    "#################################\n",
    "def train_model(model, dataloaders, criterion, optimizer, num_epochs=25, is_inception=False):\n",
    "    since = time.time()\n",
    "\n",
    "    val_acc_history = []\n",
    "\n",
    "    best_model_wts = copy.deepcopy(model.state_dict())\n",
    "    best_acc = 0.0\n",
    "    best_acc_test = 0.0\n",
    "\n",
    "    for epoch in range(num_epochs):\n",
    "        print('Epoch {}/{}'.format(epoch, num_epochs - 1))\n",
    "        print('-' * 10)\n",
    "\n",
    "        # Each epoch has a training and validation phase\n",
    "        for phase in ['train', 'valid']:\n",
    "            if phase == 'train':\n",
    "                model.train()  # Set model to training mode\n",
    "            else:\n",
    "                model.eval()   # Set model to evaluate mode\n",
    "\n",
    "            running_loss = 0.0\n",
    "            running_corrects = 0\n",
    "\n",
    "            # Iterate over data.\n",
    "            for inputs, labels in dataloaders[phase]:\n",
    "                inputs = inputs.to(device)\n",
    "                labels = labels.to(device)\n",
    "\n",
    "                # zero the parameter gradients\n",
    "                optimizer.zero_grad()\n",
    "\n",
    "                # forward\n",
    "                # track history if only in train\n",
    "                with torch.set_grad_enabled(phase == 'train'):\n",
    "                    # Get model outputs and calculate loss\n",
    "                    # Special case for inception because in training it has an auxiliary output. In train\n",
    "                    #   mode we calculate the loss by summing the final output and the auxiliary output\n",
    "                    #   but in testing we only consider the final output.\n",
    "                    if is_inception and phase == 'train':\n",
    "                        # From https://discuss.pytorch.org/t/how-to-optimize-inception-model-with-auxiliary-classifiers/7958\n",
    "                        outputs, aux_outputs = model(inputs)\n",
    "                        loss1 = criterion(outputs, labels)\n",
    "                        loss2 = criterion(aux_outputs, labels)\n",
    "                        loss = loss1 + 0.4*loss2\n",
    "                    else:\n",
    "                        outputs = model(inputs)\n",
    "                        loss = criterion(outputs, labels)\n",
    "\n",
    "                    _, preds = torch.max(outputs, 1)\n",
    "\n",
    "                    # backward + optimize only if in training phase\n",
    "                    if phase == 'train':\n",
    "                        loss.backward()\n",
    "                        optimizer.step()\n",
    "\n",
    "                # statistics\n",
    "                running_loss += loss.item() * inputs.size(0)\n",
    "                running_corrects += torch.sum(preds == labels.data)\n",
    "\n",
    "            epoch_loss = running_loss / len(dataloaders[phase].dataset)\n",
    "            epoch_acc = running_corrects.double() / len(dataloaders[phase].dataset)\n",
    "\n",
    "            print('{} Loss: {:.4f} Acc: {:.4f}'.format(phase, epoch_loss, epoch_acc))\n",
    "\n",
    "            # deep copy the model\n",
    "            if phase == 'valid' and epoch_acc > best_acc:\n",
    "                best_acc = epoch_acc\n",
    "                best_model_wts = copy.deepcopy(model.state_dict())\n",
    "            if phase == 'valid':\n",
    "                val_acc_history.append(epoch_acc)\n",
    "\n",
    "        print()\n",
    "\n",
    "    time_elapsed = time.time() - since\n",
    "    print('Training complete in {:.0f}m {:.0f}s'.format(time_elapsed // 60, time_elapsed % 60))\n",
    "    print('Best val Acc: {:4f}'.format(best_acc))\n",
    "\n",
    "    time_result = 'Time: {:.0f}m {:.0f}s'.format(time_elapsed // 60, time_elapsed % 60)\n",
    "    acc_result = 'Acc: {:4f}'.format(best_acc)\n",
    "\n",
    "    # load best model weights\n",
    "    model.load_state_dict(best_model_wts)\n",
    "    return model, val_acc_history, time_result, acc_result"
   ]
  },
  {
   "cell_type": "code",
   "execution_count": 174,
   "metadata": {
    "executionInfo": {
     "elapsed": 28,
     "status": "ok",
     "timestamp": 1650166825545,
     "user": {
      "displayName": "P hs",
      "userId": "08419383816950303247"
     },
     "user_tz": -600
    },
    "id": "op8Y04oRA0rp"
   },
   "outputs": [],
   "source": [
    "#################################\n",
    "# function to set the requires_grad parameter\n",
    "#################################\n",
    "def set_parameter_requires_grad(model, feature_extracting):\n",
    "    if feature_extracting:\n",
    "        for param in model.parameters():\n",
    "            param.requires_grad = False"
   ]
  },
  {
   "cell_type": "code",
   "execution_count": 175,
   "metadata": {
    "executionInfo": {
     "elapsed": 27,
     "status": "ok",
     "timestamp": 1650166825545,
     "user": {
      "displayName": "P hs",
      "userId": "08419383816950303247"
     },
     "user_tz": -600
    },
    "id": "yEKmFZiVA23D"
   },
   "outputs": [],
   "source": [
    "#################################\n",
    "# function to get the model from pytorch models\n",
    "#################################\n",
    "def initialize_model(model_name, num_classes, feature_extract, use_pretrained=True):\n",
    "    # Initialize these variables which will be set in this if statement. Each of these\n",
    "    #   variables is model specific.\n",
    "    model_ft = None\n",
    "    input_size = 0\n",
    "\n",
    "    if model_name == \"resnet\":\n",
    "        \"\"\" Resnet18\n",
    "        \"\"\"\n",
    "        model_ft = models.resnet18(pretrained=use_pretrained)\n",
    "        set_parameter_requires_grad(model_ft, feature_extract)\n",
    "        num_ftrs = model_ft.fc.in_features\n",
    "        model_ft.fc = nn.Linear(num_ftrs, num_classes)\n",
    "        input_size = 224\n",
    "\n",
    "    elif model_name == \"alexnet\":\n",
    "        \"\"\" Alexnet\n",
    "        \"\"\"\n",
    "        model_ft = models.alexnet(pretrained=use_pretrained)\n",
    "        set_parameter_requires_grad(model_ft, feature_extract)\n",
    "        num_ftrs = model_ft.classifier[6].in_features\n",
    "        model_ft.classifier[6] = nn.Linear(num_ftrs,num_classes)\n",
    "        input_size = 224\n",
    "\n",
    "    elif model_name == \"vgg\":\n",
    "        \"\"\" VGG11_bn\n",
    "        \"\"\"\n",
    "        model_ft = models.vgg11_bn(pretrained=use_pretrained)\n",
    "        set_parameter_requires_grad(model_ft, feature_extract)\n",
    "        num_ftrs = model_ft.classifier[6].in_features\n",
    "        model_ft.classifier[6] = nn.Linear(num_ftrs,num_classes)\n",
    "        input_size = 224\n",
    "\n",
    "    elif model_name == \"squeezenet\":\n",
    "        \"\"\" Squeezenet\n",
    "        \"\"\"\n",
    "        model_ft = models.squeezenet1_0(pretrained=use_pretrained)\n",
    "        set_parameter_requires_grad(model_ft, feature_extract)\n",
    "        model_ft.classifier[1] = nn.Conv2d(512, num_classes, kernel_size=(1,1), stride=(1,1))\n",
    "        model_ft.num_classes = num_classes\n",
    "        input_size = 224\n",
    "\n",
    "    elif model_name == \"densenet\":\n",
    "        \"\"\" Densenet\n",
    "        \"\"\"\n",
    "        model_ft = models.densenet121(pretrained=use_pretrained)\n",
    "        set_parameter_requires_grad(model_ft, feature_extract)\n",
    "        num_ftrs = model_ft.classifier.in_features\n",
    "        model_ft.classifier = nn.Linear(num_ftrs, num_classes) \n",
    "        input_size = 224\n",
    "\n",
    "    elif model_name == \"inception\":\n",
    "        \"\"\" Inception v3 \n",
    "        Be careful, expects (299,299) sized images and has auxiliary output\n",
    "        \"\"\"\n",
    "        model_ft = models.inception_v3(pretrained=use_pretrained)\n",
    "        set_parameter_requires_grad(model_ft, feature_extract)\n",
    "        # Handle the auxilary net\n",
    "        num_ftrs = model_ft.AuxLogits.fc.in_features\n",
    "        model_ft.AuxLogits.fc = nn.Linear(num_ftrs, num_classes)\n",
    "        # Handle the primary net\n",
    "        num_ftrs = model_ft.fc.in_features\n",
    "        model_ft.fc = nn.Linear(num_ftrs,num_classes)\n",
    "        input_size = 299\n",
    "    elif model_name == \"vit\":\n",
    "        \"\"\" Inception v3 \n",
    "        Be careful, expects (299,299) sized images and has auxiliary output\n",
    "        \"\"\"\n",
    "        # config = dict(hidden_size=512, num_heads=8, num_layers=6)\n",
    "        # model = ViT.from_config(config)\n",
    "        model_ft = ViT('B_16_imagenet1k', pretrained=use_pretrained)\n",
    "\n",
    "        # model_ft = models.inception_v3(pretrained=use_pretrained)\n",
    "        set_parameter_requires_grad(model_ft, feature_extract)\n",
    "        # # Handle the auxilary net\n",
    "        # num_ftrs = model_ft.AuxLogits.fc.in_features\n",
    "        # model_ft.AuxLogits.fc = nn.Linear(num_ftrs, num_classes)\n",
    "        # # Handle the primary net\n",
    "        num_ftrs = model_ft.fc.in_features\n",
    "        model_ft.fc = nn.Linear(num_ftrs,num_classes)\n",
    "        input_size = 384\n",
    "    else:\n",
    "        print(\"Invalid model name, exiting...\")\n",
    "        exit()\n",
    "    \n",
    "    return model_ft, input_size\n",
    "\n",
    "# Initialize the model for this run\n",
    "# model_ft, input_size = initialize_model(model_name, num_classes, feature_extract, use_pretrained=True)\n",
    "\n",
    "\n",
    "\n",
    "# Print the model we just instantiated\n",
    "# print(model_ft)"
   ]
  },
  {
   "cell_type": "code",
   "execution_count": 176,
   "metadata": {
    "colab": {
     "base_uri": "https://localhost:8080/"
    },
    "executionInfo": {
     "elapsed": 13,
     "status": "ok",
     "timestamp": 1650166826164,
     "user": {
      "displayName": "P hs",
      "userId": "08419383816950303247"
     },
     "user_tz": -600
    },
    "id": "HB6CfnPZA74Z",
    "outputId": "e9079b5c-8202-4097-b604-ad121c494454"
   },
   "outputs": [
    {
     "name": "stdout",
     "output_type": "stream",
     "text": [
      "Initializing Datasets and Dataloaders...\n"
     ]
    },
    {
     "name": "stderr",
     "output_type": "stream",
     "text": [
      "/usr/local/lib/python3.7/dist-packages/torch/utils/data/dataloader.py:481: UserWarning: This DataLoader will create 4 worker processes in total. Our suggested max number of worker in current system is 2, which is smaller than what this DataLoader is going to create. Please be aware that excessive worker creation might get DataLoader running slow or even freeze, lower the worker number to avoid potential slowness/freeze if necessary.\n",
      "  cpuset_checked))\n"
     ]
    }
   ],
   "source": [
    "#################################\n",
    "# Data augmentation and normalization for training\n",
    "# Just normalization for validation\n",
    "#################################\n",
    "data_transforms = {\n",
    "    'train': transforms.Compose([\n",
    "        transforms.RandomResizedCrop(input_size),\n",
    "        transforms.RandomHorizontalFlip(),\n",
    "        transforms.ToTensor(),\n",
    "        transforms.Normalize([0.485, 0.456, 0.406], [0.229, 0.224, 0.225])\n",
    "        # transforms.Normalize([0.8476, 0.6748, 0.7568], [0.1283, 0.2436, 0.1882])\n",
    "    ]),\n",
    "    'valid': transforms.Compose([\n",
    "        transforms.Resize(input_size),\n",
    "        transforms.CenterCrop(input_size),\n",
    "        transforms.ToTensor(),\n",
    "        transforms.Normalize([0.485, 0.456, 0.406], [0.229, 0.224, 0.225])\n",
    "        # transforms.Normalize([0.8476, 0.6748, 0.7568], [0.1283, 0.2436, 0.1882])\n",
    "    ]),\n",
    "    'test': transforms.Compose([\n",
    "        transforms.Resize(input_size),\n",
    "        transforms.CenterCrop(input_size),\n",
    "        transforms.ToTensor(),\n",
    "        transforms.Normalize([0.485, 0.456, 0.406], [0.229, 0.224, 0.225])\n",
    "        # transforms.Normalize([0.8476, 0.6748, 0.7568], [0.1283, 0.2436, 0.1882])\n",
    "    ]),\n",
    "}\n",
    "\n",
    "print(\"Initializing Datasets and Dataloaders...\")\n",
    "\n",
    "# Create training and validation datasets\n",
    "# image_datasets = {x: datasets.ImageFolder(os.path.join(data_dir, x), data_transforms[x]) for x in ['train', 'valid']}\n",
    "image_datasets = {x: datasets.ImageFolder(os.path.join(data_dir, x), data_transforms[x]) for x in ['train', 'valid', 'test']}\n",
    "# Create training and validation dataloaders\n",
    "# dataloaders_dict = {x: torch.utils.data.DataLoader(image_datasets[x], batch_size=batch_size, shuffle=True, num_workers=4) for x in ['train', 'valid']}\n",
    "dataloaders_dict = {x: torch.utils.data.DataLoader(image_datasets[x], batch_size=batch_size, shuffle=True, num_workers=4) for x in ['train', 'valid', 'test']}\n",
    "\n",
    "# Detect if we have a GPU available\n",
    "device = torch.device(\"cuda:0\" if torch.cuda.is_available() else \"cpu\")"
   ]
  },
  {
   "cell_type": "code",
   "execution_count": 178,
   "metadata": {
    "executionInfo": {
     "elapsed": 12,
     "status": "ok",
     "timestamp": 1650166826166,
     "user": {
      "displayName": "P hs",
      "userId": "08419383816950303247"
     },
     "user_tz": -600
    },
    "id": "7FmqqROPCNmi"
   },
   "outputs": [],
   "source": [
    "#################################\n",
    "# Setup the loss fxn\n",
    "#################################\n",
    "criterion = nn.CrossEntropyLoss()\n",
    "\n",
    "# Train and evaluate\n",
    "# model_ft, hist = train_model(model_ft, dataloaders_dict, criterion, optimizer_ft, num_epochs=num_epochs, is_inception=(model_name==\"inception\"))\n",
    "# model_ft, hist, time_result, acc_result = train_model(model_ft, dataloaders_dict, criterion, optimizer_ft, num_epochs=num_epochs, is_inception=(model_name==\"inception\"))"
   ]
  },
  {
   "cell_type": "code",
   "execution_count": 179,
   "metadata": {
    "executionInfo": {
     "elapsed": 12,
     "status": "ok",
     "timestamp": 1650166826166,
     "user": {
      "displayName": "P hs",
      "userId": "08419383816950303247"
     },
     "user_tz": -600
    },
    "id": "kpTlM6nsDmp6"
   },
   "outputs": [],
   "source": [
    "#################################\n",
    "# function to test model on test sample\n",
    "#################################\n",
    "\n",
    "def test_model(model, dataloaders):\n",
    "  # Iterate over data.\n",
    "  label_classes = [0, 1, 2, 3]\n",
    "  phase = 'test'\n",
    "  running_corrects = 0\n",
    "  predictions = []\n",
    "  for inputs, labels in dataloaders[phase]:\n",
    "      inputs = inputs.to(device)\n",
    "      labels = labels.to(device)\n",
    "      # out = model(inputs)\n",
    "      # _, preds = torch.max(out, 1)\n",
    "      # running_corrects += torch.sum(preds == labels.data)\n",
    "      \n",
    "      out = model(inputs)\n",
    "      _, index = torch.max(out, 1)\n",
    "      running_corrects += torch.sum(index == labels.data)\n",
    "      # percentage = torch.nn.functional.softmax(out, dim=1)[0] * 100\n",
    "      # print(labels[index[0]], percentage[index[0]].item())\n",
    "      # test_img_list.append(filename.split('/')[-1])\n",
    "      predictions.append(label_classes[index[0]])   \n",
    "\n",
    "\n",
    "  test_acc = running_corrects.double() / len(dataloaders[phase].dataset)\n",
    "\n",
    "  test_acc_result = 'Test: {:4f}'.format(test_acc)\n",
    "\n",
    "  return test_acc_result, predictions\n",
    "\n",
    "# test_acc_result, preds = test_model(model_ft, dataloaders_dict)\n",
    "# print(test_acc_result)\n",
    "# print(\"preds: \", preds )\n",
    "\n"
   ]
  },
  {
   "cell_type": "code",
   "execution_count": 180,
   "metadata": {
    "executionInfo": {
     "elapsed": 12,
     "status": "ok",
     "timestamp": 1650166826167,
     "user": {
      "displayName": "P hs",
      "userId": "08419383816950303247"
     },
     "user_tz": -600
    },
    "id": "rM6MAq5i0qJM"
   },
   "outputs": [],
   "source": [
    "#################################\n",
    "# function to test model on real test sample ( X_test.npy)\n",
    "#################################\n",
    "def real_test_model(model, real_test_samples_folder, images_folder, input_size, model_path, save_filename):\n",
    "    \n",
    "#     with open('imagenet_classes.txt') as f:\n",
    "#       labels = [line.strip() for line in f.readlines()]\n",
    "    labels = [0, 1, 2, 3]\n",
    "\n",
    "    model.eval()\n",
    "\n",
    "    data_transforms = {\n",
    "        'real_test': transforms.Compose([\n",
    "            transforms.Resize(input_size),\n",
    "            transforms.CenterCrop(input_size),\n",
    "            transforms.ToTensor(),\n",
    "            transforms.Normalize([0.485, 0.456, 0.406], [0.229, 0.224, 0.225])\n",
    "        ]),\n",
    "    } \n",
    "\n",
    "    test_img_list = []\n",
    "    predictions = []\n",
    "    for filename in glob.glob(f'{real_test_samples_folder}/{images_folder}/*.jpg'): # assuming jpg\n",
    "        img=Image.open(filename)\n",
    "        img_t = data_transforms['real_test'](img)\n",
    "        batch_t = torch.unsqueeze(img_t, 0)\n",
    "        batch_t = batch_t.to(device)\n",
    "        out = model(batch_t)\n",
    "        _, index = torch.max(out, 1)\n",
    "        percentage = torch.nn.functional.softmax(out, dim=1)[0] * 100\n",
    "        # print(labels[index[0]], percentage[index[0]].item())\n",
    "        test_img_list.append(filename.split('/')[-1])\n",
    "        predictions.append(labels[index[0]])\n",
    "\n",
    "    # print('image list:', test_img_list)\n",
    "    # print('predictions:', predictions)\n",
    "    # np.save(f'{real_test_samples_folder}/{save_filename}', np.array(predictions))\n",
    "    np.save(f'{model_path}/{save_filename}', np.array(predictions))\n",
    "\n",
    "    return predictions\n",
    "\n",
    "real_test_samples_folder = '/content/drive/MyDrive/shared/samples_x384_all_real_test'\n",
    "images_folder = 'real_test'\n",
    "\n",
    "# input_size = 224 # for other models\n",
    "input_size = 384 # for ViT\n"
   ]
  },
  {
   "cell_type": "code",
   "execution_count": 181,
   "metadata": {
    "colab": {
     "base_uri": "https://localhost:8080/"
    },
    "executionInfo": {
     "elapsed": 96097,
     "status": "ok",
     "timestamp": 1650166922254,
     "user": {
      "displayName": "P hs",
      "userId": "08419383816950303247"
     },
     "user_tz": -600
    },
    "id": "u_zVzqirh7uZ",
    "outputId": "69dda899-ef75-4f6e-8796-ed997373d76b"
   },
   "outputs": [
    {
     "name": "stderr",
     "output_type": "stream",
     "text": [
      "/usr/local/lib/python3.7/dist-packages/torch/utils/data/dataloader.py:481: UserWarning: This DataLoader will create 4 worker processes in total. Our suggested max number of worker in current system is 2, which is smaller than what this DataLoader is going to create. Please be aware that excessive worker creation might get DataLoader running slow or even freeze, lower the worker number to avoid potential slowness/freeze if necessary.\n",
      "  cpuset_checked))\n"
     ]
    },
    {
     "name": "stdout",
     "output_type": "stream",
     "text": [
      "-------vit1.pth--------\n",
      "Test: 0.977528\n",
      "Valid predictions: [0, 0, 2, 1, 2, 1, 1, 3, 0, 0, 1, 0]\n",
      "Real predictions [3, 0, 0, 1, 1, 0, 1, 2, 0, 0, 0, 3, 1, 2, 1, 1, 0, 0, 2, 0, 0, 2, 2, 2, 2, 0, 0, 0, 0, 0, 0, 0, 2, 2, 0, 2, 1, 2, 1, 0, 1, 0, 0, 0, 2, 1, 1, 2, 3, 0, 1, 0, 2, 0, 0, 0, 2, 2, 2, 0, 1, 0, 1, 2, 0, 0, 0, 2, 0, 0, 1, 2, 2, 0, 0, 2, 0, 3, 2, 2, 2, 2, 2, 1, 0, 2, 0, 0, 2, 0, 2, 2, 1, 1, 2, 0, 0, 1, 1, 0, 3, 2, 1, 2, 0, 0, 2, 0, 0, 1, 2, 1, 2, 0, 0, 2, 0, 3, 1, 2, 0, 0, 2, 0, 1, 0, 0, 2, 1, 0, 0, 1, 0, 2, 1, 0, 0, 2, 2, 0, 2, 0, 1, 2, 0, 0, 2, 0, 0, 3, 2, 2, 2, 0, 3, 0, 0, 3, 0, 1, 0, 1, 0, 2, 0, 3, 1, 1, 0, 0, 2, 3, 1, 0, 2, 0, 1, 0, 0, 2, 0, 2, 0, 2, 2, 2, 0, 1, 0, 2, 0, 0, 0, 0, 2, 1, 0, 2, 0, 1, 2, 1, 3, 2, 0, 2, 2, 1, 2, 2, 1, 2, 0, 1, 2, 1, 1, 2, 1, 2, 0, 0, 0, 0, 2, 2, 0, 0, 2, 0, 0, 1, 0, 1, 3, 0, 1, 0, 1, 0, 0, 0, 0, 1, 0, 1, 0, 2, 0, 0, 1, 1, 3, 2, 2, 0, 1, 2, 2, 0, 3, 0, 1, 1, 0, 1, 3, 1, 1, 0, 0, 2, 0, 2, 0, 0, 1, 1, 3, 3, 2, 1, 0, 2, 2, 3, 0]\n",
      "\n",
      "-------vit2.pth--------\n",
      "Test: 0.921348\n",
      "Valid predictions: [0, 1, 1, 0, 0, 1, 0, 0, 0, 2, 2, 3]\n",
      "Real predictions [1, 0, 0, 1, 1, 0, 1, 2, 0, 0, 0, 3, 1, 2, 1, 1, 0, 0, 2, 0, 0, 2, 2, 2, 2, 0, 0, 0, 0, 0, 0, 0, 2, 2, 0, 0, 1, 2, 1, 0, 1, 0, 0, 0, 2, 1, 0, 2, 0, 0, 1, 0, 2, 0, 0, 0, 2, 2, 2, 0, 1, 0, 1, 2, 0, 0, 0, 2, 0, 0, 1, 2, 3, 0, 0, 2, 0, 1, 2, 2, 2, 2, 2, 1, 0, 2, 0, 0, 2, 0, 2, 2, 1, 1, 2, 2, 0, 1, 1, 0, 1, 2, 1, 2, 2, 0, 2, 0, 0, 1, 2, 1, 2, 0, 0, 2, 0, 1, 1, 2, 0, 0, 2, 0, 1, 0, 0, 2, 1, 0, 0, 2, 2, 2, 1, 0, 0, 3, 2, 0, 2, 0, 1, 2, 0, 0, 2, 0, 0, 1, 2, 2, 2, 0, 1, 0, 0, 1, 0, 1, 0, 0, 0, 1, 0, 1, 1, 1, 0, 0, 3, 3, 1, 0, 2, 0, 1, 0, 0, 2, 0, 2, 0, 2, 2, 2, 0, 1, 0, 2, 0, 0, 0, 0, 2, 1, 0, 2, 0, 1, 2, 1, 1, 2, 0, 2, 2, 1, 2, 2, 1, 2, 0, 1, 2, 1, 1, 2, 1, 2, 0, 0, 0, 0, 1, 2, 0, 0, 0, 0, 0, 1, 0, 1, 1, 0, 1, 0, 1, 0, 0, 0, 0, 1, 0, 1, 0, 2, 0, 0, 1, 1, 1, 2, 2, 0, 1, 2, 2, 0, 1, 0, 1, 1, 0, 1, 1, 1, 3, 0, 0, 2, 0, 2, 0, 0, 1, 1, 1, 1, 2, 1, 0, 2, 2, 1, 0]\n",
      "\n",
      "-------vit3.pth--------\n",
      "Test: 0.955056\n",
      "Valid predictions: [1, 0, 1, 1, 1, 0, 0, 1, 0, 2, 0, 0]\n",
      "Real predictions [1, 0, 0, 1, 1, 0, 1, 2, 0, 0, 0, 3, 1, 2, 1, 1, 0, 0, 2, 0, 0, 0, 2, 2, 2, 0, 0, 0, 0, 0, 0, 0, 2, 2, 0, 2, 1, 2, 1, 0, 1, 0, 0, 0, 2, 1, 1, 2, 0, 0, 1, 0, 2, 0, 0, 0, 2, 2, 2, 0, 1, 0, 1, 2, 0, 0, 0, 2, 0, 0, 1, 2, 3, 0, 0, 2, 0, 1, 2, 2, 2, 2, 2, 1, 0, 2, 0, 0, 2, 0, 2, 2, 1, 3, 2, 2, 0, 1, 1, 0, 3, 2, 1, 2, 2, 0, 2, 0, 0, 1, 2, 1, 2, 0, 0, 2, 2, 1, 1, 2, 0, 0, 2, 0, 1, 0, 0, 2, 1, 0, 0, 2, 0, 2, 1, 0, 0, 3, 2, 0, 2, 0, 1, 2, 0, 0, 2, 0, 0, 3, 2, 2, 2, 0, 1, 0, 0, 2, 0, 3, 0, 2, 0, 3, 0, 1, 1, 1, 0, 0, 3, 3, 1, 0, 2, 0, 1, 0, 0, 2, 0, 2, 0, 2, 2, 2, 0, 3, 0, 2, 0, 0, 0, 0, 2, 1, 0, 2, 0, 1, 2, 1, 3, 2, 0, 2, 2, 1, 2, 2, 1, 2, 0, 1, 2, 1, 1, 2, 1, 2, 0, 0, 0, 0, 3, 2, 0, 0, 2, 0, 0, 1, 0, 1, 1, 0, 1, 0, 1, 0, 0, 0, 0, 1, 0, 1, 0, 2, 0, 0, 1, 1, 1, 2, 2, 0, 1, 2, 2, 0, 1, 0, 1, 1, 0, 1, 3, 3, 1, 0, 0, 2, 0, 2, 0, 0, 1, 1, 1, 3, 2, 1, 0, 2, 2, 3, 0]\n",
      "\n",
      "-------vit4.pth--------\n",
      "Test: 0.955056\n",
      "Valid predictions: [0, 0, 1, 1, 0, 1, 2, 0, 0, 0, 2, 2]\n",
      "Real predictions [1, 0, 0, 1, 1, 0, 1, 2, 0, 0, 0, 1, 1, 2, 1, 1, 0, 0, 2, 0, 0, 0, 2, 2, 2, 0, 0, 0, 0, 0, 0, 0, 2, 2, 0, 2, 1, 2, 1, 0, 1, 0, 0, 0, 2, 1, 1, 2, 0, 0, 1, 0, 2, 0, 0, 0, 2, 2, 2, 0, 2, 0, 1, 2, 0, 0, 0, 2, 0, 0, 1, 2, 3, 0, 0, 2, 0, 1, 2, 2, 2, 2, 2, 1, 0, 2, 0, 0, 2, 0, 2, 2, 1, 1, 2, 0, 0, 1, 1, 0, 1, 2, 1, 2, 0, 0, 2, 0, 0, 1, 2, 1, 2, 0, 0, 2, 0, 1, 1, 2, 0, 0, 2, 0, 1, 0, 0, 2, 1, 0, 0, 2, 0, 2, 1, 0, 0, 2, 2, 0, 2, 0, 1, 2, 0, 0, 2, 0, 0, 1, 2, 2, 2, 0, 1, 0, 0, 3, 0, 0, 0, 1, 0, 2, 0, 1, 1, 1, 0, 0, 2, 0, 1, 0, 2, 0, 1, 0, 0, 2, 0, 2, 0, 2, 2, 2, 0, 1, 0, 2, 0, 0, 0, 0, 2, 1, 0, 2, 0, 1, 2, 1, 1, 2, 0, 2, 2, 1, 2, 2, 1, 2, 0, 1, 2, 1, 1, 2, 1, 2, 0, 0, 0, 0, 2, 2, 0, 0, 2, 0, 0, 1, 0, 1, 1, 0, 1, 0, 1, 0, 0, 0, 0, 1, 0, 1, 0, 2, 0, 0, 1, 1, 1, 2, 2, 0, 1, 2, 2, 0, 1, 0, 1, 1, 0, 1, 3, 3, 1, 0, 0, 2, 0, 2, 0, 0, 1, 1, 0, 1, 2, 2, 0, 2, 2, 3, 0]\n",
      "\n",
      "-------vit5.pth--------\n",
      "Test: 0.988764\n",
      "Valid predictions: [0, 2, 2, 0, 0, 1, 0, 2, 0, 0, 0, 2]\n",
      "Real predictions [1, 0, 0, 1, 1, 0, 1, 2, 0, 0, 0, 1, 1, 2, 1, 1, 0, 0, 2, 0, 0, 0, 2, 2, 2, 0, 0, 0, 0, 0, 0, 0, 2, 2, 0, 0, 1, 2, 1, 0, 1, 0, 0, 0, 2, 1, 1, 2, 0, 0, 1, 0, 2, 0, 0, 0, 3, 2, 2, 0, 1, 0, 1, 2, 0, 0, 0, 2, 0, 0, 1, 0, 3, 0, 0, 2, 0, 1, 0, 2, 2, 2, 0, 1, 0, 2, 0, 0, 2, 0, 2, 2, 1, 1, 2, 0, 0, 1, 1, 0, 1, 2, 1, 2, 0, 0, 2, 0, 0, 1, 2, 1, 2, 0, 0, 2, 0, 1, 1, 0, 0, 0, 2, 0, 1, 0, 0, 2, 1, 0, 0, 2, 0, 2, 3, 0, 0, 3, 2, 0, 0, 0, 1, 2, 0, 0, 2, 0, 0, 3, 2, 2, 2, 0, 1, 0, 0, 2, 0, 1, 0, 1, 0, 1, 0, 1, 1, 1, 0, 0, 3, 3, 1, 0, 2, 0, 1, 0, 0, 2, 0, 2, 0, 2, 2, 2, 0, 1, 0, 2, 0, 0, 0, 0, 2, 1, 0, 2, 0, 1, 2, 1, 1, 2, 0, 2, 2, 1, 2, 2, 1, 2, 0, 1, 2, 1, 1, 2, 1, 2, 0, 0, 0, 0, 2, 2, 0, 0, 0, 0, 0, 1, 0, 1, 1, 0, 1, 0, 1, 0, 0, 0, 0, 1, 0, 1, 0, 2, 0, 0, 1, 1, 1, 2, 2, 0, 1, 2, 0, 0, 1, 0, 1, 1, 0, 1, 1, 1, 1, 0, 0, 2, 0, 1, 0, 0, 1, 1, 1, 1, 2, 1, 0, 2, 2, 1, 0]\n",
      "\n"
     ]
    }
   ],
   "source": [
    "#################################\n",
    "# for ensemble method with saved weight of ViT models\n",
    "#################################\n",
    "use_saved_vit_model = True\n",
    "model_path = \"/content/drive/MyDrive/shared/save_models3\" \n",
    "\n",
    "test_results = []\n",
    "real_test_results = []\n",
    "\n",
    "model_dic = ['vit1.pth', 'vit2.pth', 'vit3.pth', 'vit4.pth', 'vit5.pth']\n",
    "for weight_name in model_dic:  \n",
    "  # model_ft, input_size = initialize_model(model_name, num_classes, feature_extract, use_pretrained=True)\n",
    "  # model_ft = ViT('B_16_imagenet1k', pretrained=use_pretrained)\n",
    "  model_ft = ViT('B_16_imagenet1k', pretrained=False)\n",
    "  # set_parameter_requires_grad(model_ft, feature_extract)\n",
    "  num_ftrs = model_ft.fc.in_features\n",
    "  model_ft.fc = nn.Linear(num_ftrs,num_classes)\n",
    "  model_ft_weight = torch.load(f\"{model_path}/{weight_name}\")\n",
    "  model_ft.load_state_dict(model_ft_weight)\n",
    "  model_ft = model_ft.to(device)\n",
    "  model_ft.eval()\n",
    "  \n",
    "\n",
    "  test_acc_result, preds = test_model(model_ft, dataloaders_dict)\n",
    "  test_results.append((weight_name, test_acc_result))\n",
    "  print(f\"-------{weight_name}--------\")\n",
    "  print(test_acc_result)\n",
    "  print('Valid predictions:', preds)\n",
    "\n",
    "  save_filename = f'{weight_name}.npy'\n",
    "  predictions = real_test_model(model_ft, real_test_samples_folder, images_folder, input_size, model_path, save_filename)\n",
    "  real_test_results.append((weight_name, predictions))\n",
    "  print('Real predictions', predictions)\n",
    "  print()\n",
    "  del model_ft\n",
    "\n",
    "\n",
    "# print(test_results)\n",
    "# print(real_test_results)"
   ]
  },
  {
   "cell_type": "code",
   "execution_count": 182,
   "metadata": {
    "colab": {
     "base_uri": "https://localhost:8080/"
    },
    "executionInfo": {
     "elapsed": 13,
     "status": "ok",
     "timestamp": 1650166922255,
     "user": {
      "displayName": "P hs",
      "userId": "08419383816950303247"
     },
     "user_tz": -600
    },
    "id": "ZbIBVB7Bc5Yc",
    "outputId": "f5926522-9034-4f13-b52c-77b0e8ba46cf"
   },
   "outputs": [
    {
     "name": "stdout",
     "output_type": "stream",
     "text": [
      "[[3 0 0 ... 2 3 0]\n",
      " [1 0 0 ... 2 1 0]\n",
      " [1 0 0 ... 2 3 0]\n",
      " [1 0 0 ... 2 3 0]\n",
      " [1 0 0 ... 2 1 0]]\n",
      "(5, 287)\n",
      "results [1 0 0 1 1 0 1 2 0 0 0 3 1 2 1 1 0 0 2 0 0 0 2 2 2 0 0 0 0 0 0 0 2 2 0 2 1\n",
      " 2 1 0 1 0 0 0 2 1 1 2 0 0 1 0 2 0 0 0 2 2 2 0 1 0 1 2 0 0 0 2 0 0 1 2 3 0\n",
      " 0 2 0 1 2 2 2 2 2 1 0 2 0 0 2 0 2 2 1 1 2 0 0 1 1 0 1 2 1 2 0 0 2 0 0 1 2\n",
      " 1 2 0 0 2 0 1 1 2 0 0 2 0 1 0 0 2 1 0 0 2 0 2 1 0 0 3 2 0 2 0 1 2 0 0 2 0\n",
      " 0 3 2 2 2 0 1 0 0 3 0 1 0 1 0 2 0 1 1 1 0 0 3 3 1 0 2 0 1 0 0 2 0 2 0 2 2\n",
      " 2 0 1 0 2 0 0 0 0 2 1 0 2 0 1 2 1 1 2 0 2 2 1 2 2 1 2 0 1 2 1 1 2 1 2 0 0\n",
      " 0 0 2 2 0 0 2 0 0 1 0 1 1 0 1 0 1 0 0 0 0 1 0 1 0 2 0 0 1 1 1 2 2 0 1 2 2\n",
      " 0 1 0 1 1 0 1 3 1 1 0 0 2 0 2 0 0 1 1 1 1 2 1 0 2 2 3 0]\n",
      "read_again [1 0 0 1 1 0 1 2 0 0 0 3 1 2 1 1 0 0 2 0 0 0 2 2 2 0 0 0 0 0 0 0 2 2 0 2 1\n",
      " 2 1 0 1 0 0 0 2 1 1 2 0 0 1 0 2 0 0 0 2 2 2 0 1 0 1 2 0 0 0 2 0 0 1 2 3 0\n",
      " 0 2 0 1 2 2 2 2 2 1 0 2 0 0 2 0 2 2 1 1 2 0 0 1 1 0 1 2 1 2 0 0 2 0 0 1 2\n",
      " 1 2 0 0 2 0 1 1 2 0 0 2 0 1 0 0 2 1 0 0 2 0 2 1 0 0 3 2 0 2 0 1 2 0 0 2 0\n",
      " 0 3 2 2 2 0 1 0 0 3 0 1 0 1 0 2 0 1 1 1 0 0 3 3 1 0 2 0 1 0 0 2 0 2 0 2 2\n",
      " 2 0 1 0 2 0 0 0 0 2 1 0 2 0 1 2 1 1 2 0 2 2 1 2 2 1 2 0 1 2 1 1 2 1 2 0 0\n",
      " 0 0 2 2 0 0 2 0 0 1 0 1 1 0 1 0 1 0 0 0 0 1 0 1 0 2 0 0 1 1 1 2 2 0 1 2 2\n",
      " 0 1 0 1 1 0 1 3 1 1 0 0 2 0 2 0 0 1 1 1 1 2 1 0 2 2 3 0]\n"
     ]
    }
   ],
   "source": [
    "#################################\n",
    "# vote among 5 ViT models trained on different sample dataset.\n",
    "# and get the final result\n",
    "#################################\n",
    "temp = []\n",
    "for result in real_test_results:\n",
    "  temp.append(result[1])\n",
    "\n",
    "stacks = np.stack(temp, axis=0)\n",
    "print(stacks)\n",
    "print(stacks.shape)\n",
    "\n",
    "results = []\n",
    "for i in range(stacks.shape[1]):\n",
    "    count = Counter(stacks[:, i])\n",
    "    common = count.most_common(1)\n",
    "    results.append(common[0][0])\n",
    "    \n",
    "results = np.array(results)\n",
    "print('results', results)\n",
    "\n",
    "result_filename = f\"X_test_preds_ensemble_{images_folder}.npy\"\n",
    "result_path = f\"{model_path}/{result_filename}\"\n",
    "np.save(result_path, results)\n",
    "read_again = np.load(result_path)\n",
    "print('read_again', read_again)"
   ]
  }
 ],
 "metadata": {
  "accelerator": "GPU",
  "colab": {
   "collapsed_sections": [],
   "name": "phs_pytorch_models_vit_real_test_ensemble3.ipynb",
   "provenance": [
    {
     "file_id": "1DweEE1mlHutNkxVNjtk4z9_RPnos7-Jp",
     "timestamp": 1650114489015
    },
    {
     "file_id": "1CAZ8BFYA4kuWqK2JZJQ_LUpv0cJf2iV6",
     "timestamp": 1649772271388
    }
   ]
  },
  "kernelspec": {
   "display_name": "Python 3 (ipykernel)",
   "language": "python",
   "name": "python3"
  },
  "language_info": {
   "codemirror_mode": {
    "name": "ipython",
    "version": 3
   },
   "file_extension": ".py",
   "mimetype": "text/x-python",
   "name": "python",
   "nbconvert_exporter": "python",
   "pygments_lexer": "ipython3",
   "version": "3.9.7"
  }
 },
 "nbformat": 4,
 "nbformat_minor": 1
}
