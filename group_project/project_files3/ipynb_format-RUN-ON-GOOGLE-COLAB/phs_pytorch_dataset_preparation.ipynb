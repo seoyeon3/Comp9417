{
 "cells": [
  {
   "cell_type": "code",
   "execution_count": null,
   "metadata": {
    "colab": {
     "base_uri": "https://localhost:8080/"
    },
    "executionInfo": {
     "elapsed": 2747,
     "status": "ok",
     "timestamp": 1649662893318,
     "user": {
      "displayName": "P hs",
      "userId": "08419383816950303247"
     },
     "user_tz": -600
    },
    "id": "tTOn57LmUQXB",
    "outputId": "6ae46969-249e-4fe2-c0df-ff653b1018de"
   },
   "outputs": [
    {
     "name": "stdout",
     "output_type": "stream",
     "text": [
      "Drive already mounted at /content/drive; to attempt to forcibly remount, call drive.mount(\"/content/drive\", force_remount=True).\n"
     ]
    }
   ],
   "source": [
    "##################################################################\n",
    "# This code creates various sample datasets as images \n",
    "# needed for pretrained pytorch models\n",
    "##################################################################\n",
    "#################################\n",
    "# access to google drive\n",
    "#################################\n",
    "from google.colab import drive\n",
    "\n",
    "drive.mount('/content/drive')"
   ]
  },
  {
   "cell_type": "code",
   "execution_count": null,
   "metadata": {
    "id": "tBU3F_LpUqhJ"
   },
   "outputs": [],
   "source": [
    "#################################\n",
    "# import modules\n",
    "#################################\n",
    "import numpy as np\n",
    "import cv2\n",
    "import matplotlib.pyplot as plt\n",
    "import os"
   ]
  },
  {
   "cell_type": "code",
   "execution_count": null,
   "metadata": {
    "id": "pT2T5kWBU6Tg"
   },
   "outputs": [],
   "source": [
    "#################################\n",
    "# file path\n",
    "#################################\n",
    "\n",
    "base_dir = \"/content/drive/MyDrive/shared\"\n",
    "# base_dir = \".\"\n",
    "# np.random.seed(1)\n",
    "# sample_dir = 'samples'\n",
    "\n",
    "# np.random.seed(1)\n",
    "# sample_dir = 'samples_small'\n",
    "\n",
    "# np.random.seed(2)\n",
    "# sample_dir = 'samples_small2'\n",
    "\n",
    "# np.random.seed(3)\n",
    "# sample_dir = 'samples_small3'\n",
    "\n",
    "# np.random.seed(4)\n",
    "# sample_dir = 'samples_small4'\n",
    "\n",
    "# np.random.seed(5)\n",
    "# sample_dir = 'samples_small5'\n",
    "# # img_size = 224\n",
    "\n",
    "# np.random.seed(1)\n",
    "# sample_dir = 'samples_x384_all'\n",
    "# img_size = 384 # for vit\n",
    "\n",
    "# np.random.seed(1)\n",
    "# sample_dir = 'samples_x384_all_1'\n",
    "# img_size = 384 # for vit\n",
    "\n",
    "# np.random.seed(2)\n",
    "# sample_dir = 'samples_x384_all_2'\n",
    "# img_size = 384 # for vit\n",
    "\n",
    "# np.random.seed(3)\n",
    "# sample_dir = 'samples_x384_all_3'\n",
    "# img_size = 384 # for vit\n",
    "\n",
    "# np.random.seed(4)\n",
    "# sample_dir = 'samples_x384_all_4'\n",
    "# img_size = 384 # for vit\n",
    "\n",
    "# np.random.seed(5)\n",
    "# sample_dir = 'samples_x384_all_5'\n",
    "# img_size = 384 # for vit\n",
    "\n",
    "# np.random.seed(1)\n",
    "# sample_dir = 'samples_x384_small_1'\n",
    "# img_size = 384 # for vit\n",
    "\n",
    "# np.random.seed(2)\n",
    "# sample_dir = 'samples_x384_small_2'\n",
    "# img_size = 384 # for vit\n",
    "\n",
    "# np.random.seed(3)\n",
    "# sample_dir = 'samples_x384_small_3'\n",
    "# img_size = 384 # for vit\n",
    "\n",
    "# np.random.seed(4)\n",
    "# sample_dir = 'samples_x384_small_4'\n",
    "# img_size = 384 # for vit\n",
    "\n",
    "np.random.seed(5)\n",
    "sample_dir = 'samples_x384_small_5'\n",
    "img_size = 384 # for vit\n",
    "\n",
    "# np.random.seed(1)\n",
    "# sample_dir = 'samples_x384_all_test_1'\n",
    "# img_size = 384 # for vit\n",
    "\n",
    "# np.random.seed(1)\n",
    "# sample_dir = 'samples_x299'\n",
    "# img_size = 299 # for inception"
   ]
  },
  {
   "cell_type": "code",
   "execution_count": null,
   "metadata": {
    "id": "jCUf-DtIUuVQ"
   },
   "outputs": [],
   "source": [
    "#################################\n",
    "# load train samples from npy file\n",
    "#################################\n",
    "\n",
    "X_train=np.load(f\"{base_dir}/X_train.npy\", mmap_mode='r')"
   ]
  },
  {
   "cell_type": "code",
   "execution_count": null,
   "metadata": {
    "id": "JZ2Dgg_BU1io"
   },
   "outputs": [],
   "source": [
    "y_train = np.load(f\"{base_dir}/y_train.npy\")"
   ]
  },
  {
   "cell_type": "code",
   "execution_count": null,
   "metadata": {
    "id": "z5hQHeuohMkT"
   },
   "outputs": [],
   "source": [
    "img_indexes = list(range(len(y_train)))"
   ]
  },
  {
   "cell_type": "code",
   "execution_count": null,
   "metadata": {
    "id": "ppfyLKnlVlUw"
   },
   "outputs": [],
   "source": [
    "total_zips =list(zip(X_train, y_train, img_indexes))"
   ]
  },
  {
   "cell_type": "code",
   "execution_count": null,
   "metadata": {
    "colab": {
     "base_uri": "https://localhost:8080/"
    },
    "executionInfo": {
     "elapsed": 23,
     "status": "ok",
     "timestamp": 1649662894156,
     "user": {
      "displayName": "P hs",
      "userId": "08419383816950303247"
     },
     "user_tz": -600
    },
    "id": "6bAf7pGKVnsR",
    "outputId": "fe6133af-4fe9-4a51-f981-f9246cafbc3f"
   },
   "outputs": [
    {
     "name": "stdout",
     "output_type": "stream",
     "text": [
      "407 225 189 37 37\n"
     ]
    }
   ],
   "source": [
    "#################################\n",
    "# aggregate the samples into 2 groups:\n",
    "# class0 contains class0, class1, class2\n",
    "# class3 contains only class3\n",
    "#################################\n",
    "\n",
    "\n",
    "class0 = 0\n",
    "class1 = 0\n",
    "class2 = 0\n",
    "class3 = 0\n",
    "class0_zips = []\n",
    "class3_zips = []\n",
    "\n",
    "for i in range(len(total_zips)):\n",
    "    class_val = total_zips[i][1]\n",
    "    if class_val == 0:\n",
    "        class0 += 1\n",
    "        class0_zips.append(total_zips[i])\n",
    "    elif class_val == 1:\n",
    "        class1 += 1\n",
    "        class0_zips.append(total_zips[i])\n",
    "    elif class_val == 2:\n",
    "        class2 += 1\n",
    "        class0_zips.append(total_zips[i])\n",
    "    elif class_val == 3:\n",
    "        class3 += 1\n",
    "        class3_zips.append(total_zips[i])\n",
    "        \n",
    "print(class0, class1, class2, class3, len(class3_zips)) # 407 225 189 37 37"
   ]
  },
  {
   "cell_type": "code",
   "execution_count": null,
   "metadata": {
    "id": "EFJYFFZa4sS-"
   },
   "outputs": [],
   "source": [
    "#################################\n",
    "# train , valid and test sample ratio\n",
    "# class0_sample_size = len(class0_zips) # to make a whole X_train.npy dataset\n",
    "#################################\n",
    "\n",
    "class0_sample_size = 150 # to make smaller dataset\n",
    "class3_sample_size = len(class3_zips) # lets use whole class3 data because they are rare.\n",
    "\n",
    "class0_ratio = {\"train\": 0.8, \"valid\": 0.1, \"test\": 0.1}\n",
    "class3_ratio = {\"train\": 0.65, \"valid\": 0.2, \"test\": 0.15}\n"
   ]
  },
  {
   "cell_type": "code",
   "execution_count": null,
   "metadata": {
    "colab": {
     "base_uri": "https://localhost:8080/"
    },
    "executionInfo": {
     "elapsed": 629,
     "status": "ok",
     "timestamp": 1649662894772,
     "user": {
      "displayName": "P hs",
      "userId": "08419383816950303247"
     },
     "user_tz": -600
    },
    "id": "-u1jL_Jj4sS_",
    "outputId": "bed8ae2c-4b28-407c-8f9d-10ae5632a208"
   },
   "outputs": [
    {
     "data": {
      "text/plain": [
       "120"
      ]
     },
     "execution_count": 124,
     "metadata": {},
     "output_type": "execute_result"
    }
   ],
   "source": [
    "class0_train_size = int(class0_sample_size * class0_ratio[\"train\"])\n",
    "class0_valid_size = int(class0_sample_size * class0_ratio[\"valid\"])\n",
    "class0_test_size = class0_sample_size - class0_train_size - class0_valid_size\n",
    "# class0_train_size"
   ]
  },
  {
   "cell_type": "code",
   "execution_count": null,
   "metadata": {
    "colab": {
     "base_uri": "https://localhost:8080/"
    },
    "executionInfo": {
     "elapsed": 49,
     "status": "ok",
     "timestamp": 1649662894773,
     "user": {
      "displayName": "P hs",
      "userId": "08419383816950303247"
     },
     "user_tz": -600
    },
    "id": "0oeSemCL4sS_",
    "outputId": "bd6f1643-b798-490d-e3b3-9deac24ef915"
   },
   "outputs": [
    {
     "data": {
      "text/plain": [
       "6"
      ]
     },
     "execution_count": 125,
     "metadata": {},
     "output_type": "execute_result"
    }
   ],
   "source": [
    "class3_train_size = int(class3_sample_size * class3_ratio[\"train\"])\n",
    "class3_valid_size = int(class3_sample_size * class3_ratio[\"valid\"])\n",
    "class3_test_size = class3_sample_size - class3_train_size - class3_valid_size\n",
    "# class3_sample_size # 37\n",
    "# class3_train_size # 24\n",
    "# class3_valid_size # 7\n",
    "# class3_test_size # 6"
   ]
  },
  {
   "cell_type": "code",
   "execution_count": null,
   "metadata": {
    "colab": {
     "base_uri": "https://localhost:8080/"
    },
    "executionInfo": {
     "elapsed": 45,
     "status": "ok",
     "timestamp": 1649662894774,
     "user": {
      "displayName": "P hs",
      "userId": "08419383816950303247"
     },
     "user_tz": -600
    },
    "id": "7E_tron54sTA",
    "outputId": "a6e01517-7eb4-4f8b-b2bc-0990d36fe842"
   },
   "outputs": [
    {
     "data": {
      "text/plain": [
       "array([ 0,  1,  2,  3,  4,  5,  6,  7,  8,  9, 10, 11, 12, 13, 14, 15, 16,\n",
       "       17, 18, 19, 20, 21, 22, 23, 24, 25, 26, 27, 28, 29, 30, 31, 32, 33,\n",
       "       34, 35, 36])"
      ]
     },
     "execution_count": 126,
     "metadata": {},
     "output_type": "execute_result"
    }
   ],
   "source": [
    "#################################\n",
    "# random sampling to make a train , valid and test sample\n",
    "#################################\n",
    "class0_indexes = np.arange(len(class0_zips))\n",
    "class0_train_indexes = np.random.choice(class0_indexes, class0_train_size, replace=False)\n",
    "class0_valid_indexes = np.random.choice(class0_indexes, class0_valid_size, replace=False)\n",
    "class0_test_indexes = np.random.choice(class0_indexes, class0_test_size, replace=False)\n",
    "\n",
    "class3_indexes = np.arange(len(class3_zips))\n",
    "class3_train_indexes = np.random.choice(class3_indexes, class3_train_size, replace=False)\n",
    "class3_valid_indexes = np.random.choice(class3_indexes, class3_valid_size, replace=False)\n",
    "class3_test_indexes = np.random.choice(class3_indexes, class3_test_size, replace=False)\n",
    "\n",
    "# class3_indexes"
   ]
  },
  {
   "cell_type": "code",
   "execution_count": null,
   "metadata": {
    "colab": {
     "base_uri": "https://localhost:8080/"
    },
    "executionInfo": {
     "elapsed": 38,
     "status": "ok",
     "timestamp": 1649662894774,
     "user": {
      "displayName": "P hs",
      "userId": "08419383816950303247"
     },
     "user_tz": -600
    },
    "id": "TtpvB3Fo4sTA",
    "outputId": "44b1aad9-eab3-4cd4-bf41-0dcda9142d96"
   },
   "outputs": [
    {
     "data": {
      "text/plain": [
       "array([586, 814, 310, 279, 370, 386, 498, 494, 417, 648, 643, 228, 502,\n",
       "       384, 352, 236, 485,  28, 302, 556, 576, 355, 178, 447, 176, 272,\n",
       "       777, 518, 404, 634, 329, 614, 452, 388, 179, 772, 470, 193, 369,\n",
       "       684, 641, 721, 244, 396, 464,  12, 309, 207, 253, 165, 574, 781,\n",
       "       358, 258, 275, 745, 664, 646, 714, 522, 148, 786, 331, 126, 416,\n",
       "       480, 313, 545, 208, 423, 385,  71, 611, 461,  84, 448, 326, 334,\n",
       "       744, 405,  37, 580,  23, 573, 406, 668, 698, 342, 383, 710, 803,\n",
       "       322, 138, 379, 203, 706, 627, 587, 382, 196, 769, 439, 117, 300,\n",
       "       440, 451, 750, 809, 579, 651,  11, 151, 349, 159, 671, 368, 457,\n",
       "       730, 742, 595])"
      ]
     },
     "execution_count": 127,
     "metadata": {},
     "output_type": "execute_result"
    }
   ],
   "source": [
    "# class0_train_indexes"
   ]
  },
  {
   "cell_type": "code",
   "execution_count": null,
   "metadata": {
    "colab": {
     "base_uri": "https://localhost:8080/"
    },
    "executionInfo": {
     "elapsed": 33,
     "status": "ok",
     "timestamp": 1649662894775,
     "user": {
      "displayName": "P hs",
      "userId": "08419383816950303247"
     },
     "user_tz": -600
    },
    "id": "hh-Qn6c54sTA",
    "outputId": "123ce6cd-a12e-4300-e964-3e6330d33baf"
   },
   "outputs": [
    {
     "data": {
      "text/plain": [
       "array([510, 184, 399, 504, 237, 531, 583, 600, 324, 304, 404, 380,  87,\n",
       "       292, 426])"
      ]
     },
     "execution_count": 128,
     "metadata": {},
     "output_type": "execute_result"
    }
   ],
   "source": [
    "# class0_valid_indexes"
   ]
  },
  {
   "cell_type": "code",
   "execution_count": null,
   "metadata": {
    "colab": {
     "base_uri": "https://localhost:8080/"
    },
    "executionInfo": {
     "elapsed": 27,
     "status": "ok",
     "timestamp": 1649662894776,
     "user": {
      "displayName": "P hs",
      "userId": "08419383816950303247"
     },
     "user_tz": -600
    },
    "id": "X-qusJR_4sTB",
    "outputId": "35cd57cf-10c4-4cc3-81e3-c2ec0e5f22b7"
   },
   "outputs": [
    {
     "data": {
      "text/plain": [
       "array([816, 388, 125, 231,  68, 595, 318, 410, 319, 806, 650, 691,  65,\n",
       "       617, 185])"
      ]
     },
     "execution_count": 129,
     "metadata": {},
     "output_type": "execute_result"
    }
   ],
   "source": [
    "# class0_test_indexes"
   ]
  },
  {
   "cell_type": "code",
   "execution_count": null,
   "metadata": {
    "colab": {
     "base_uri": "https://localhost:8080/"
    },
    "executionInfo": {
     "elapsed": 24,
     "status": "ok",
     "timestamp": 1649662894776,
     "user": {
      "displayName": "P hs",
      "userId": "08419383816950303247"
     },
     "user_tz": -600
    },
    "id": "HQkHg4od4sTB",
    "outputId": "2add4dc9-971f-4524-a132-3df00eb5e582"
   },
   "outputs": [
    {
     "data": {
      "text/plain": [
       "array([ 2, 17, 25, 19, 28, 18,  8, 10, 30, 22,  5, 13, 15,  1, 11,  7, 27,\n",
       "       34, 36,  0, 16, 23, 24, 33])"
      ]
     },
     "execution_count": 130,
     "metadata": {},
     "output_type": "execute_result"
    }
   ],
   "source": [
    "# class3_train_indexes"
   ]
  },
  {
   "cell_type": "code",
   "execution_count": null,
   "metadata": {
    "colab": {
     "base_uri": "https://localhost:8080/"
    },
    "executionInfo": {
     "elapsed": 22,
     "status": "ok",
     "timestamp": 1649662894777,
     "user": {
      "displayName": "P hs",
      "userId": "08419383816950303247"
     },
     "user_tz": -600
    },
    "id": "szmRz68i4sTC",
    "outputId": "45e3d3d2-308a-4ae0-f06a-c2a56ecc9574"
   },
   "outputs": [
    {
     "data": {
      "text/plain": [
       "array([24, 30, 20, 15, 28, 25,  9])"
      ]
     },
     "execution_count": 131,
     "metadata": {},
     "output_type": "execute_result"
    }
   ],
   "source": [
    "# class3_valid_indexes"
   ]
  },
  {
   "cell_type": "code",
   "execution_count": null,
   "metadata": {
    "colab": {
     "base_uri": "https://localhost:8080/"
    },
    "executionInfo": {
     "elapsed": 20,
     "status": "ok",
     "timestamp": 1649662894778,
     "user": {
      "displayName": "P hs",
      "userId": "08419383816950303247"
     },
     "user_tz": -600
    },
    "id": "N0N1AfUr4sTC",
    "outputId": "95ea8148-8104-4c7a-af8f-32696d32f43b"
   },
   "outputs": [
    {
     "data": {
      "text/plain": [
       "array([10, 17, 16, 33, 14,  3])"
      ]
     },
     "execution_count": 132,
     "metadata": {},
     "output_type": "execute_result"
    }
   ],
   "source": [
    "# class3_test_indexes"
   ]
  },
  {
   "cell_type": "code",
   "execution_count": null,
   "metadata": {
    "id": "-xHQfg2vaaLB"
   },
   "outputs": [],
   "source": [
    "#################################\n",
    "# clean up the existing folder before saving samples \n",
    "#################################\n",
    "def remove_samples_folder(sample_dir):\n",
    "    base_path = base_dir + \"/\" + sample_dir\n",
    "    for root, dirs, files in os.walk(base_path, topdown=False):\n",
    "        for name in files:\n",
    "            os.remove(os.path.join(root, name))\n",
    "        for name in dirs:\n",
    "            os.rmdir(os.path.join(root, name))"
   ]
  },
  {
   "cell_type": "code",
   "execution_count": null,
   "metadata": {
    "id": "fTFl4smCbG4U"
   },
   "outputs": [],
   "source": [
    "remove_samples_folder(sample_dir)"
   ]
  },
  {
   "cell_type": "code",
   "execution_count": null,
   "metadata": {
    "id": "7frUeLslcXpZ"
   },
   "outputs": [],
   "source": [
    "#################################\n",
    "# create sample folders.\n",
    "# a train , valid and test folder should be created.\n",
    "# Under each folder, each class folder should be created.\n",
    "#################################\n",
    "def create_samples_folder(sample_dir):\n",
    "    base_path = base_dir + \"/\" + sample_dir\n",
    "    \n",
    "    for target_dir in [\"train\", \"valid\", \"test\"]:\n",
    "        os.mkdir(base_path + \"/\" + target_dir)\n",
    "        os.mkdir(base_path + \"/\" + target_dir + \"/0\")\n",
    "        os.mkdir(base_path + \"/\" + target_dir + \"/1\")\n",
    "        os.mkdir(base_path + \"/\" + target_dir + \"/2\")\n",
    "        os.mkdir(base_path + \"/\" + target_dir + \"/3\")"
   ]
  },
  {
   "cell_type": "code",
   "execution_count": null,
   "metadata": {
    "id": "I3o6UHSReV7D"
   },
   "outputs": [],
   "source": [
    "create_samples_folder(sample_dir)"
   ]
  },
  {
   "cell_type": "code",
   "execution_count": null,
   "metadata": {
    "id": "1vGbaOSYWPd4"
   },
   "outputs": [],
   "source": [
    "#################################\n",
    "# we will create image based on these 3 zips.\n",
    "# Created sample images are distributed into each class folder.\n",
    "#################################\n",
    "\n",
    "def create_samples(sample_type, class0_sample_indexes, class3_sample_indexes, img_size):\n",
    "    # [train, valid, test]\n",
    "    base_path = base_dir + \"/\" + sample_dir + \"/\" + sample_type\n",
    "\n",
    "\n",
    "    # common settings\n",
    "    class0_dir = \"0\"\n",
    "    class1_dir = \"1\"\n",
    "    class2_dir = \"2\"\n",
    "    class3_dir = \"3\"\n",
    "\n",
    "    img_path = \"\"\n",
    "    # img_size = 224\n",
    "    img_size = img_size\n",
    "    img_type = '.jpg'\n",
    "\n",
    "    for i in class0_sample_indexes:\n",
    "        img_npy = class0_zips[i][0]\n",
    "        img_class = class0_zips[i][1]\n",
    "        img_index = class0_zips[i][2]\n",
    "\n",
    "        if img_class == 0:\n",
    "            img_path = class0_dir \n",
    "        elif img_class == 1:\n",
    "            img_path = class1_dir \n",
    "        elif img_class == 2:\n",
    "            img_path = class2_dir \n",
    "        elif img_class == 3:\n",
    "            img_path = class3_dir  \n",
    "\n",
    "        img_resized = cv2.resize(img_npy, (img_size, img_size), interpolation=cv2.INTER_AREA)\n",
    "        plt.imsave(f\"{base_path}/{img_path}/{img_index}{img_type}\", img_resized)\n",
    "    \n",
    "    for i in class3_sample_indexes:\n",
    "        img_npy = class3_zips[i][0]\n",
    "        img_class = class3_zips[i][1]\n",
    "        img_index = class3_zips[i][2]\n",
    "\n",
    "        if img_class == 0:\n",
    "            img_path = class0_dir \n",
    "        elif img_class == 1:\n",
    "            img_path = class1_dir \n",
    "        elif img_class == 2:\n",
    "            img_path = class2_dir \n",
    "        elif img_class == 3:\n",
    "            img_path = class3_dir  \n",
    "\n",
    "        img_resized = cv2.resize(img_npy, (img_size, img_size), interpolation=cv2.INTER_AREA)\n",
    "        plt.imsave(f\"{base_path}/{img_path}/{img_index}{img_type}\", img_resized)"
   ]
  },
  {
   "cell_type": "code",
   "execution_count": null,
   "metadata": {
    "id": "vAqC34LMZzPC"
   },
   "outputs": [],
   "source": [
    "#################################\n",
    "# Create sample images for training\n",
    "#################################\n",
    "create_samples(\"train\", class0_train_indexes, class3_train_indexes, img_size)"
   ]
  },
  {
   "cell_type": "code",
   "execution_count": null,
   "metadata": {
    "id": "5_x76HFdaA1W"
   },
   "outputs": [],
   "source": [
    "#################################\n",
    "# Create sample images for validation\n",
    "#################################\n",
    "create_samples(\"valid\", class0_valid_indexes, class3_valid_indexes, img_size)"
   ]
  },
  {
   "cell_type": "code",
   "execution_count": null,
   "metadata": {
    "id": "rXb9nY73luZJ"
   },
   "outputs": [],
   "source": [
    "#################################\n",
    "# Create sample images for testing\n",
    "#################################\n",
    "create_samples(\"test\", class0_test_indexes, class3_test_indexes, img_size)"
   ]
  },
  {
   "cell_type": "code",
   "execution_count": null,
   "metadata": {
    "id": "Dd0j50d74sTF"
   },
   "outputs": [],
   "source": []
  }
 ],
 "metadata": {
  "colab": {
   "collapsed_sections": [],
   "name": "phs_pytorch_dataset_2.ipynb",
   "provenance": []
  },
  "kernelspec": {
   "display_name": "Python 3 (ipykernel)",
   "language": "python",
   "name": "python3"
  },
  "language_info": {
   "codemirror_mode": {
    "name": "ipython",
    "version": 3
   },
   "file_extension": ".py",
   "mimetype": "text/x-python",
   "name": "python",
   "nbconvert_exporter": "python",
   "pygments_lexer": "ipython3",
   "version": "3.9.7"
  }
 },
 "nbformat": 4,
 "nbformat_minor": 1
}
