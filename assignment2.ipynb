{
 "cells": [
  {
   "cell_type": "code",
   "execution_count": 86,
   "id": "bac2c60a",
   "metadata": {},
   "outputs": [],
   "source": [
    "import numpy as np\n",
    "import pandas as pd\n",
    "from sklearn.model_selection import train_test_split\n",
    "from sklearn.preprocessing import StandardScaler\n",
    "from scipy.optimize import minimize\n",
    "from sklearn.linear_model import LogisticRegression\n",
    "from sklearn.metrics import log_loss\n",
    "import matplotlib.pyplot as plt"
   ]
  },
  {
   "cell_type": "markdown",
   "id": "34714373",
   "metadata": {},
   "source": [
    "## (C)"
   ]
  },
  {
   "cell_type": "code",
   "execution_count": 106,
   "id": "daf5901e",
   "metadata": {},
   "outputs": [
    {
     "data": {
      "text/html": [
       "<div>\n",
       "<style scoped>\n",
       "    .dataframe tbody tr th:only-of-type {\n",
       "        vertical-align: middle;\n",
       "    }\n",
       "\n",
       "    .dataframe tbody tr th {\n",
       "        vertical-align: top;\n",
       "    }\n",
       "\n",
       "    .dataframe thead th {\n",
       "        text-align: right;\n",
       "    }\n",
       "</style>\n",
       "<table border=\"1\" class=\"dataframe\">\n",
       "  <thead>\n",
       "    <tr style=\"text-align: right;\">\n",
       "      <th></th>\n",
       "      <th>Artist Name</th>\n",
       "      <th>Track Name</th>\n",
       "      <th>Popularity</th>\n",
       "      <th>danceability</th>\n",
       "      <th>energy</th>\n",
       "      <th>key</th>\n",
       "      <th>loudness</th>\n",
       "      <th>mode</th>\n",
       "      <th>speechiness</th>\n",
       "      <th>acousticness</th>\n",
       "      <th>instrumentalness</th>\n",
       "      <th>liveness</th>\n",
       "      <th>valence</th>\n",
       "      <th>tempo</th>\n",
       "      <th>duration_in min/ms</th>\n",
       "      <th>time_signature</th>\n",
       "      <th>Class</th>\n",
       "    </tr>\n",
       "  </thead>\n",
       "  <tbody>\n",
       "    <tr>\n",
       "      <th>0</th>\n",
       "      <td>Bruno Mars</td>\n",
       "      <td>That's What I Like (feat. Gucci Mane)</td>\n",
       "      <td>60.0</td>\n",
       "      <td>0.854</td>\n",
       "      <td>0.564</td>\n",
       "      <td>1.0</td>\n",
       "      <td>-4.964</td>\n",
       "      <td>1</td>\n",
       "      <td>0.0485</td>\n",
       "      <td>0.017100</td>\n",
       "      <td>NaN</td>\n",
       "      <td>0.0849</td>\n",
       "      <td>0.8990</td>\n",
       "      <td>134.071</td>\n",
       "      <td>234596.0</td>\n",
       "      <td>4</td>\n",
       "      <td>5</td>\n",
       "    </tr>\n",
       "    <tr>\n",
       "      <th>1</th>\n",
       "      <td>Boston</td>\n",
       "      <td>Hitch a Ride</td>\n",
       "      <td>54.0</td>\n",
       "      <td>0.382</td>\n",
       "      <td>0.814</td>\n",
       "      <td>3.0</td>\n",
       "      <td>-7.230</td>\n",
       "      <td>1</td>\n",
       "      <td>0.0406</td>\n",
       "      <td>0.001100</td>\n",
       "      <td>0.004010</td>\n",
       "      <td>0.1010</td>\n",
       "      <td>0.5690</td>\n",
       "      <td>116.454</td>\n",
       "      <td>251733.0</td>\n",
       "      <td>4</td>\n",
       "      <td>10</td>\n",
       "    </tr>\n",
       "    <tr>\n",
       "      <th>2</th>\n",
       "      <td>The Raincoats</td>\n",
       "      <td>No Side to Fall In</td>\n",
       "      <td>35.0</td>\n",
       "      <td>0.434</td>\n",
       "      <td>0.614</td>\n",
       "      <td>6.0</td>\n",
       "      <td>-8.334</td>\n",
       "      <td>1</td>\n",
       "      <td>0.0525</td>\n",
       "      <td>0.486000</td>\n",
       "      <td>0.000196</td>\n",
       "      <td>0.3940</td>\n",
       "      <td>0.7870</td>\n",
       "      <td>147.681</td>\n",
       "      <td>109667.0</td>\n",
       "      <td>4</td>\n",
       "      <td>6</td>\n",
       "    </tr>\n",
       "    <tr>\n",
       "      <th>3</th>\n",
       "      <td>Deno</td>\n",
       "      <td>Lingo (feat. J.I &amp; Chunkz)</td>\n",
       "      <td>66.0</td>\n",
       "      <td>0.853</td>\n",
       "      <td>0.597</td>\n",
       "      <td>10.0</td>\n",
       "      <td>-6.528</td>\n",
       "      <td>0</td>\n",
       "      <td>0.0555</td>\n",
       "      <td>0.021200</td>\n",
       "      <td>NaN</td>\n",
       "      <td>0.1220</td>\n",
       "      <td>0.5690</td>\n",
       "      <td>107.033</td>\n",
       "      <td>173968.0</td>\n",
       "      <td>4</td>\n",
       "      <td>5</td>\n",
       "    </tr>\n",
       "    <tr>\n",
       "      <th>4</th>\n",
       "      <td>Red Hot Chili Peppers</td>\n",
       "      <td>Nobody Weird Like Me - Remastered</td>\n",
       "      <td>53.0</td>\n",
       "      <td>0.167</td>\n",
       "      <td>0.975</td>\n",
       "      <td>2.0</td>\n",
       "      <td>-4.279</td>\n",
       "      <td>1</td>\n",
       "      <td>0.2160</td>\n",
       "      <td>0.000169</td>\n",
       "      <td>0.016100</td>\n",
       "      <td>0.1720</td>\n",
       "      <td>0.0918</td>\n",
       "      <td>199.060</td>\n",
       "      <td>229960.0</td>\n",
       "      <td>4</td>\n",
       "      <td>10</td>\n",
       "    </tr>\n",
       "  </tbody>\n",
       "</table>\n",
       "</div>"
      ],
      "text/plain": [
       "             Artist Name                             Track Name  Popularity  \\\n",
       "0             Bruno Mars  That's What I Like (feat. Gucci Mane)        60.0   \n",
       "1                 Boston                           Hitch a Ride        54.0   \n",
       "2          The Raincoats                     No Side to Fall In        35.0   \n",
       "3                   Deno             Lingo (feat. J.I & Chunkz)        66.0   \n",
       "4  Red Hot Chili Peppers      Nobody Weird Like Me - Remastered        53.0   \n",
       "\n",
       "   danceability  energy   key  loudness  mode  speechiness  acousticness  \\\n",
       "0         0.854   0.564   1.0    -4.964     1       0.0485      0.017100   \n",
       "1         0.382   0.814   3.0    -7.230     1       0.0406      0.001100   \n",
       "2         0.434   0.614   6.0    -8.334     1       0.0525      0.486000   \n",
       "3         0.853   0.597  10.0    -6.528     0       0.0555      0.021200   \n",
       "4         0.167   0.975   2.0    -4.279     1       0.2160      0.000169   \n",
       "\n",
       "   instrumentalness  liveness  valence    tempo  duration_in min/ms  \\\n",
       "0               NaN    0.0849   0.8990  134.071            234596.0   \n",
       "1          0.004010    0.1010   0.5690  116.454            251733.0   \n",
       "2          0.000196    0.3940   0.7870  147.681            109667.0   \n",
       "3               NaN    0.1220   0.5690  107.033            173968.0   \n",
       "4          0.016100    0.1720   0.0918  199.060            229960.0   \n",
       "\n",
       "   time_signature  Class  \n",
       "0               4      5  \n",
       "1               4     10  \n",
       "2               4      6  \n",
       "3               4      5  \n",
       "4               4     10  "
      ]
     },
     "execution_count": 106,
     "metadata": {},
     "output_type": "execute_result"
    }
   ],
   "source": [
    "data = pd.read_csv('songs.csv')\n",
    "data.head()"
   ]
  },
  {
   "cell_type": "code",
   "execution_count": 107,
   "id": "b0e689a0",
   "metadata": {},
   "outputs": [
    {
     "data": {
      "text/html": [
       "<div>\n",
       "<style scoped>\n",
       "    .dataframe tbody tr th:only-of-type {\n",
       "        vertical-align: middle;\n",
       "    }\n",
       "\n",
       "    .dataframe tbody tr th {\n",
       "        vertical-align: top;\n",
       "    }\n",
       "\n",
       "    .dataframe thead th {\n",
       "        text-align: right;\n",
       "    }\n",
       "</style>\n",
       "<table border=\"1\" class=\"dataframe\">\n",
       "  <thead>\n",
       "    <tr style=\"text-align: right;\">\n",
       "      <th></th>\n",
       "      <th>Popularity</th>\n",
       "      <th>danceability</th>\n",
       "      <th>energy</th>\n",
       "      <th>loudness</th>\n",
       "      <th>speechiness</th>\n",
       "      <th>acousticness</th>\n",
       "      <th>liveness</th>\n",
       "      <th>valence</th>\n",
       "      <th>tempo</th>\n",
       "      <th>duration_in min/ms</th>\n",
       "      <th>Class</th>\n",
       "    </tr>\n",
       "  </thead>\n",
       "  <tbody>\n",
       "    <tr>\n",
       "      <th>0</th>\n",
       "      <td>60.0</td>\n",
       "      <td>0.854</td>\n",
       "      <td>0.564</td>\n",
       "      <td>-4.964</td>\n",
       "      <td>0.0485</td>\n",
       "      <td>0.017100</td>\n",
       "      <td>0.0849</td>\n",
       "      <td>0.8990</td>\n",
       "      <td>134.071</td>\n",
       "      <td>234596.0</td>\n",
       "      <td>5</td>\n",
       "    </tr>\n",
       "    <tr>\n",
       "      <th>1</th>\n",
       "      <td>54.0</td>\n",
       "      <td>0.382</td>\n",
       "      <td>0.814</td>\n",
       "      <td>-7.230</td>\n",
       "      <td>0.0406</td>\n",
       "      <td>0.001100</td>\n",
       "      <td>0.1010</td>\n",
       "      <td>0.5690</td>\n",
       "      <td>116.454</td>\n",
       "      <td>251733.0</td>\n",
       "      <td>10</td>\n",
       "    </tr>\n",
       "    <tr>\n",
       "      <th>2</th>\n",
       "      <td>35.0</td>\n",
       "      <td>0.434</td>\n",
       "      <td>0.614</td>\n",
       "      <td>-8.334</td>\n",
       "      <td>0.0525</td>\n",
       "      <td>0.486000</td>\n",
       "      <td>0.3940</td>\n",
       "      <td>0.7870</td>\n",
       "      <td>147.681</td>\n",
       "      <td>109667.0</td>\n",
       "      <td>6</td>\n",
       "    </tr>\n",
       "    <tr>\n",
       "      <th>3</th>\n",
       "      <td>66.0</td>\n",
       "      <td>0.853</td>\n",
       "      <td>0.597</td>\n",
       "      <td>-6.528</td>\n",
       "      <td>0.0555</td>\n",
       "      <td>0.021200</td>\n",
       "      <td>0.1220</td>\n",
       "      <td>0.5690</td>\n",
       "      <td>107.033</td>\n",
       "      <td>173968.0</td>\n",
       "      <td>5</td>\n",
       "    </tr>\n",
       "    <tr>\n",
       "      <th>4</th>\n",
       "      <td>53.0</td>\n",
       "      <td>0.167</td>\n",
       "      <td>0.975</td>\n",
       "      <td>-4.279</td>\n",
       "      <td>0.2160</td>\n",
       "      <td>0.000169</td>\n",
       "      <td>0.1720</td>\n",
       "      <td>0.0918</td>\n",
       "      <td>199.060</td>\n",
       "      <td>229960.0</td>\n",
       "      <td>10</td>\n",
       "    </tr>\n",
       "  </tbody>\n",
       "</table>\n",
       "</div>"
      ],
      "text/plain": [
       "   Popularity  danceability  energy  loudness  speechiness  acousticness  \\\n",
       "0        60.0         0.854   0.564    -4.964       0.0485      0.017100   \n",
       "1        54.0         0.382   0.814    -7.230       0.0406      0.001100   \n",
       "2        35.0         0.434   0.614    -8.334       0.0525      0.486000   \n",
       "3        66.0         0.853   0.597    -6.528       0.0555      0.021200   \n",
       "4        53.0         0.167   0.975    -4.279       0.2160      0.000169   \n",
       "\n",
       "   liveness  valence    tempo  duration_in min/ms  Class  \n",
       "0    0.0849   0.8990  134.071            234596.0      5  \n",
       "1    0.1010   0.5690  116.454            251733.0     10  \n",
       "2    0.3940   0.7870  147.681            109667.0      6  \n",
       "3    0.1220   0.5690  107.033            173968.0      5  \n",
       "4    0.1720   0.0918  199.060            229960.0     10  "
      ]
     },
     "execution_count": 107,
     "metadata": {},
     "output_type": "execute_result"
    }
   ],
   "source": [
    "#(I)\n",
    "remove_features = ['Artist Name','Track Name','key','mode','time_signature','instrumentalness']\n",
    "data = data.drop(remove_features,axis=1)\n",
    "data.head()"
   ]
  },
  {
   "cell_type": "code",
   "execution_count": 108,
   "id": "2768771a",
   "metadata": {},
   "outputs": [
    {
     "data": {
      "text/html": [
       "<div>\n",
       "<style scoped>\n",
       "    .dataframe tbody tr th:only-of-type {\n",
       "        vertical-align: middle;\n",
       "    }\n",
       "\n",
       "    .dataframe tbody tr th {\n",
       "        vertical-align: top;\n",
       "    }\n",
       "\n",
       "    .dataframe thead th {\n",
       "        text-align: right;\n",
       "    }\n",
       "</style>\n",
       "<table border=\"1\" class=\"dataframe\">\n",
       "  <thead>\n",
       "    <tr style=\"text-align: right;\">\n",
       "      <th></th>\n",
       "      <th>Popularity</th>\n",
       "      <th>danceability</th>\n",
       "      <th>energy</th>\n",
       "      <th>loudness</th>\n",
       "      <th>speechiness</th>\n",
       "      <th>acousticness</th>\n",
       "      <th>liveness</th>\n",
       "      <th>valence</th>\n",
       "      <th>tempo</th>\n",
       "      <th>duration_in min/ms</th>\n",
       "      <th>Class</th>\n",
       "    </tr>\n",
       "  </thead>\n",
       "  <tbody>\n",
       "    <tr>\n",
       "      <th>0</th>\n",
       "      <td>60.0</td>\n",
       "      <td>0.854</td>\n",
       "      <td>0.564</td>\n",
       "      <td>-4.964</td>\n",
       "      <td>0.0485</td>\n",
       "      <td>0.0171</td>\n",
       "      <td>0.0849</td>\n",
       "      <td>0.899</td>\n",
       "      <td>134.071</td>\n",
       "      <td>234596.0</td>\n",
       "      <td>1</td>\n",
       "    </tr>\n",
       "    <tr>\n",
       "      <th>1</th>\n",
       "      <td>66.0</td>\n",
       "      <td>0.853</td>\n",
       "      <td>0.597</td>\n",
       "      <td>-6.528</td>\n",
       "      <td>0.0555</td>\n",
       "      <td>0.0212</td>\n",
       "      <td>0.1220</td>\n",
       "      <td>0.569</td>\n",
       "      <td>107.033</td>\n",
       "      <td>173968.0</td>\n",
       "      <td>1</td>\n",
       "    </tr>\n",
       "    <tr>\n",
       "      <th>2</th>\n",
       "      <td>14.0</td>\n",
       "      <td>0.716</td>\n",
       "      <td>0.885</td>\n",
       "      <td>-4.348</td>\n",
       "      <td>0.0333</td>\n",
       "      <td>0.0614</td>\n",
       "      <td>0.2530</td>\n",
       "      <td>0.833</td>\n",
       "      <td>128.043</td>\n",
       "      <td>164093.0</td>\n",
       "      <td>-1</td>\n",
       "    </tr>\n",
       "    <tr>\n",
       "      <th>3</th>\n",
       "      <td>34.0</td>\n",
       "      <td>0.585</td>\n",
       "      <td>0.381</td>\n",
       "      <td>-7.622</td>\n",
       "      <td>0.0463</td>\n",
       "      <td>0.4350</td>\n",
       "      <td>0.1260</td>\n",
       "      <td>0.322</td>\n",
       "      <td>143.876</td>\n",
       "      <td>206875.0</td>\n",
       "      <td>-1</td>\n",
       "    </tr>\n",
       "    <tr>\n",
       "      <th>4</th>\n",
       "      <td>14.0</td>\n",
       "      <td>0.713</td>\n",
       "      <td>0.939</td>\n",
       "      <td>-3.609</td>\n",
       "      <td>0.0372</td>\n",
       "      <td>0.1100</td>\n",
       "      <td>0.3310</td>\n",
       "      <td>0.880</td>\n",
       "      <td>108.034</td>\n",
       "      <td>179320.0</td>\n",
       "      <td>-1</td>\n",
       "    </tr>\n",
       "    <tr>\n",
       "      <th>...</th>\n",
       "      <td>...</td>\n",
       "      <td>...</td>\n",
       "      <td>...</td>\n",
       "      <td>...</td>\n",
       "      <td>...</td>\n",
       "      <td>...</td>\n",
       "      <td>...</td>\n",
       "      <td>...</td>\n",
       "      <td>...</td>\n",
       "      <td>...</td>\n",
       "      <td>...</td>\n",
       "    </tr>\n",
       "    <tr>\n",
       "      <th>3966</th>\n",
       "      <td>53.0</td>\n",
       "      <td>0.697</td>\n",
       "      <td>0.777</td>\n",
       "      <td>-3.472</td>\n",
       "      <td>0.0834</td>\n",
       "      <td>0.0107</td>\n",
       "      <td>0.0970</td>\n",
       "      <td>0.555</td>\n",
       "      <td>103.996</td>\n",
       "      <td>151442.0</td>\n",
       "      <td>-1</td>\n",
       "    </tr>\n",
       "    <tr>\n",
       "      <th>3967</th>\n",
       "      <td>72.0</td>\n",
       "      <td>0.647</td>\n",
       "      <td>0.844</td>\n",
       "      <td>-3.756</td>\n",
       "      <td>0.0457</td>\n",
       "      <td>0.0137</td>\n",
       "      <td>0.1020</td>\n",
       "      <td>0.746</td>\n",
       "      <td>146.962</td>\n",
       "      <td>193829.0</td>\n",
       "      <td>-1</td>\n",
       "    </tr>\n",
       "    <tr>\n",
       "      <th>3968</th>\n",
       "      <td>69.0</td>\n",
       "      <td>0.552</td>\n",
       "      <td>0.846</td>\n",
       "      <td>-4.912</td>\n",
       "      <td>0.3420</td>\n",
       "      <td>0.0114</td>\n",
       "      <td>0.3090</td>\n",
       "      <td>0.554</td>\n",
       "      <td>98.560</td>\n",
       "      <td>236600.0</td>\n",
       "      <td>1</td>\n",
       "    </tr>\n",
       "    <tr>\n",
       "      <th>3969</th>\n",
       "      <td>55.0</td>\n",
       "      <td>0.384</td>\n",
       "      <td>0.820</td>\n",
       "      <td>-3.928</td>\n",
       "      <td>0.2010</td>\n",
       "      <td>0.3970</td>\n",
       "      <td>0.1140</td>\n",
       "      <td>0.441</td>\n",
       "      <td>90.712</td>\n",
       "      <td>178605.0</td>\n",
       "      <td>1</td>\n",
       "    </tr>\n",
       "    <tr>\n",
       "      <th>3970</th>\n",
       "      <td>20.0</td>\n",
       "      <td>0.597</td>\n",
       "      <td>0.633</td>\n",
       "      <td>-8.163</td>\n",
       "      <td>0.0971</td>\n",
       "      <td>0.0101</td>\n",
       "      <td>0.6310</td>\n",
       "      <td>0.719</td>\n",
       "      <td>139.969</td>\n",
       "      <td>244053.0</td>\n",
       "      <td>-1</td>\n",
       "    </tr>\n",
       "  </tbody>\n",
       "</table>\n",
       "<p>3971 rows × 11 columns</p>\n",
       "</div>"
      ],
      "text/plain": [
       "      Popularity  danceability  energy  loudness  speechiness  acousticness  \\\n",
       "0           60.0         0.854   0.564    -4.964       0.0485        0.0171   \n",
       "1           66.0         0.853   0.597    -6.528       0.0555        0.0212   \n",
       "2           14.0         0.716   0.885    -4.348       0.0333        0.0614   \n",
       "3           34.0         0.585   0.381    -7.622       0.0463        0.4350   \n",
       "4           14.0         0.713   0.939    -3.609       0.0372        0.1100   \n",
       "...          ...           ...     ...       ...          ...           ...   \n",
       "3966        53.0         0.697   0.777    -3.472       0.0834        0.0107   \n",
       "3967        72.0         0.647   0.844    -3.756       0.0457        0.0137   \n",
       "3968        69.0         0.552   0.846    -4.912       0.3420        0.0114   \n",
       "3969        55.0         0.384   0.820    -3.928       0.2010        0.3970   \n",
       "3970        20.0         0.597   0.633    -8.163       0.0971        0.0101   \n",
       "\n",
       "      liveness  valence    tempo  duration_in min/ms  Class  \n",
       "0       0.0849    0.899  134.071            234596.0      1  \n",
       "1       0.1220    0.569  107.033            173968.0      1  \n",
       "2       0.2530    0.833  128.043            164093.0     -1  \n",
       "3       0.1260    0.322  143.876            206875.0     -1  \n",
       "4       0.3310    0.880  108.034            179320.0     -1  \n",
       "...        ...      ...      ...                 ...    ...  \n",
       "3966    0.0970    0.555  103.996            151442.0     -1  \n",
       "3967    0.1020    0.746  146.962            193829.0     -1  \n",
       "3968    0.3090    0.554   98.560            236600.0      1  \n",
       "3969    0.1140    0.441   90.712            178605.0      1  \n",
       "3970    0.6310    0.719  139.969            244053.0     -1  \n",
       "\n",
       "[3971 rows x 11 columns]"
      ]
     },
     "execution_count": 108,
     "metadata": {},
     "output_type": "execute_result"
    }
   ],
   "source": [
    "#(II)\n",
    "data = data[(data['Class']== 5) | (data['Class']== 9)]\n",
    "data['Class'].replace([5,9],[1,-1],inplace=True) #inplace=True는 실제 데이터도 바꿔줌\n",
    "data = data.reset_index(drop=True)\n",
    "data"
   ]
  },
  {
   "cell_type": "code",
   "execution_count": 109,
   "id": "61d1b661",
   "metadata": {},
   "outputs": [
    {
     "data": {
      "text/plain": [
       "Popularity            0\n",
       "danceability          0\n",
       "energy                0\n",
       "loudness              0\n",
       "speechiness           0\n",
       "acousticness          0\n",
       "liveness              0\n",
       "valence               0\n",
       "tempo                 0\n",
       "duration_in min/ms    0\n",
       "Class                 0\n",
       "dtype: int64"
      ]
     },
     "execution_count": 109,
     "metadata": {},
     "output_type": "execute_result"
    }
   ],
   "source": [
    "#(III)\n",
    "data = data.dropna()\n",
    "data.isnull().sum()"
   ]
  },
  {
   "cell_type": "code",
   "execution_count": 110,
   "id": "42b906d6",
   "metadata": {},
   "outputs": [],
   "source": [
    "#(IV)\n",
    "X_train, X_test, Y_train, Y_test = train_test_split(data.iloc[:,0:-1], data.iloc[:,-1], test_size=0.3, random_state=23)"
   ]
  },
  {
   "cell_type": "code",
   "execution_count": 111,
   "id": "091a6b33",
   "metadata": {},
   "outputs": [],
   "source": [
    "#(V)\n",
    "scaler = StandardScaler().fit(X_train)\n",
    "X_train = scaler.transform(X_train)\n",
    "X_test = scaler.transform(X_test)"
   ]
  },
  {
   "cell_type": "code",
   "execution_count": 112,
   "id": "a9b4a1d8",
   "metadata": {
    "scrolled": true
   },
   "outputs": [],
   "source": [
    "#(VI)\n",
    "X_train = pd.DataFrame(X_train, \n",
    "             columns=['Popularity', \n",
    "                      'danceability', \n",
    "                      'energy', \n",
    "                      'loudness', \n",
    "                      'speechiness', \n",
    "                      'acousticness', \n",
    "                      'liveness', \n",
    "                      'valence', \n",
    "                      'tempo', \n",
    "                      'duration_in min/ms'])\n",
    "\n",
    "X_test = pd.DataFrame(X_test, \n",
    "             columns=['Popularity', \n",
    "                      'danceability', \n",
    "                      'energy', \n",
    "                      'loudness', \n",
    "                      'speechiness', \n",
    "                      'acousticness', \n",
    "                      'liveness', \n",
    "                      'valence', \n",
    "                      'tempo', \n",
    "                      'duration_in min/ms'])\n",
    "\n",
    "Y_train = pd.DataFrame(Y_train, \n",
    "             columns=['Class']) \n",
    "\n",
    "Y_test = pd.DataFrame(Y_test, \n",
    "             columns=['Class']) "
   ]
  },
  {
   "cell_type": "code",
   "execution_count": 113,
   "id": "0579eb57",
   "metadata": {},
   "outputs": [
    {
     "name": "stdout",
     "output_type": "stream",
     "text": [
      "X_train is first row is \n",
      "Popularity     -0.935558\n",
      "danceability    0.675193\n",
      "energy          1.384998\n",
      "Name: 0, dtype: float64\n",
      "\n",
      "X_train last row is\n",
      "Popularity     -1.133015\n",
      "danceability   -1.094589\n",
      "energy          0.967024\n",
      "Name: 2719, dtype: float64\n",
      "X_test is first row is \n",
      "Popularity     -0.293825\n",
      "danceability    1.360051\n",
      "energy          0.263068\n",
      "Name: 0, dtype: float64\n",
      "\n",
      "X_test last row is\n",
      "Popularity     -0.293825\n",
      "danceability   -1.053904\n",
      "energy         -1.348332\n",
      "Name: 1165, dtype: float64\n",
      "Y_train is first row is \n",
      "Class   -1\n",
      "Name: 3293, dtype: int64\n",
      "\n",
      "Y_train last row is\n",
      "Class    1\n",
      "Name: 612, dtype: int64\n",
      "Y_test is first row is \n",
      "Class   -1\n",
      "Name: 3476, dtype: int64\n",
      "\n",
      "Y_test last row is\n",
      "Class    1\n",
      "Name: 25, dtype: int64\n"
     ]
    }
   ],
   "source": [
    "X_train_first = X_train.iloc[0,0:3]\n",
    "X_train_last = X_train.iloc[-1,0:3]\n",
    "print(\"X_train first row is \")\n",
    "print(X_train_first)\n",
    "print(\"\\nX_train last row is\")\n",
    "print(X_train_last)\n",
    "\n",
    "X_test_first = X_test.iloc[0,0:3]\n",
    "X_test_last = X_test.iloc[-1,0:3]\n",
    "print(\"X_test is first row is \")\n",
    "print(X_test_first)\n",
    "print(\"\\nX_test last row is\")\n",
    "print(X_test_last)\n",
    "\n",
    "\n",
    "Y_train_first = Y_train.iloc[0]\n",
    "Y_train_last = Y_train.iloc[-1]\n",
    "print(\"Y_train first row is \")\n",
    "print(Y_train_first)\n",
    "print(\"\\nY_train last row is\")\n",
    "print(Y_train_last)\n",
    "\n",
    "Y_test_first = Y_test.iloc[0]\n",
    "Y_test_last = Y_test.iloc[-1]\n",
    "print(\"Y_test first row is \")\n",
    "print(Y_test_first)\n",
    "print(\"\\nY_test last row is\")\n",
    "print(Y_test_last)"
   ]
  },
  {
   "cell_type": "markdown",
   "id": "08488215",
   "metadata": {},
   "source": [
    "## (d)\n",
    "\n",
    "#### In homework1 we fit the sklearn.preprocessing.StandardScaler to the entire dataset yet here we are being more careful by only fitting it to the training data. In the context of a real-world prediction problem, explain why what we are doing here is the proper thing to do. What to submit: some commentary."
   ]
  },
  {
   "cell_type": "markdown",
   "id": "8f484e8c",
   "metadata": {},
   "source": [
    "It is essential to fit the model only with training data, not to the entire dataset.\n",
    "Because the test set is used to predict the performance of the model on unseen data(real-word data that we don't know).\n",
    "However, if we build the model with test data, then we use the test set for training the model. \n",
    "Hence, test data is no longer unseen data.\n",
    "So we couldn't check the performance of the model accurately.\n",
    "And this also could cause the overestimation of the model.\n",
    "Thus, it is important to fit the model only with the training data."
   ]
  },
  {
   "cell_type": "markdown",
   "id": "ff870234",
   "metadata": {},
   "source": [
    "# (e)"
   ]
  },
  {
   "cell_type": "code",
   "execution_count": 114,
   "id": "629946eb",
   "metadata": {},
   "outputs": [],
   "source": [
    "#should be deleted later\n",
    "c = -1.4\n",
    "w = 0.1 * np.ones(X_train.shape[1]) \n",
    "W = np.insert(w, 0, c)"
   ]
  },
  {
   "cell_type": "code",
   "execution_count": 115,
   "id": "1fe4f825",
   "metadata": {},
   "outputs": [],
   "source": [
    "def reg_log_loss(W, C, X, y):\n",
    "    c = W[0]#1x1\n",
    "    w_T = W[1:].reshape(1,X.shape[1]) \n",
    "    X = X.values\n",
    "    Y = y.values\n",
    "    sum = 0\n",
    "    \n",
    "    \n",
    "    for i in range(0,2720):\n",
    "        x = X[i].reshape(X.shape[1],1)\n",
    "        y = Y[i]\n",
    "        wx = np.dot(w_T,x)\n",
    "        exponent = -1*y*(wx+c)\n",
    "        sum = sum + np.logaddexp(0,exponent)\n",
    "   \n",
    "    loss = 0.5*(np.linalg.norm(w_T, ord = 2 )**2)+C*sum\n",
    "    return loss[0]\n",
    "        "
   ]
  },
  {
   "cell_type": "code",
   "execution_count": 116,
   "id": "735347ec",
   "metadata": {},
   "outputs": [
    {
     "name": "stdout",
     "output_type": "stream",
     "text": [
      "[1.93565389]\n"
     ]
    }
   ],
   "source": [
    "#should be deleted later\n",
    "loss = reg_log_loss(W, 0.001, X_train, Y_train)\n",
    "print(loss)"
   ]
  },
  {
   "cell_type": "code",
   "execution_count": 117,
   "id": "de6eedf5",
   "metadata": {},
   "outputs": [],
   "source": [
    "w = 0.35 * np.ones(X_train.shape[1])\n",
    "c=1.2\n",
    "W = np.insert(w, 0, c)"
   ]
  },
  {
   "cell_type": "code",
   "execution_count": 118,
   "id": "5de89819",
   "metadata": {},
   "outputs": [
    {
     "name": "stdout",
     "output_type": "stream",
     "text": [
      "[3.29878514]\n"
     ]
    }
   ],
   "source": [
    "loss = reg_log_loss(W, 0.001, X_train, Y_train)\n",
    "print(loss)"
   ]
  },
  {
   "cell_type": "markdown",
   "id": "4a789328",
   "metadata": {},
   "source": [
    "## (f)"
   ]
  },
  {
   "cell_type": "code",
   "execution_count": 119,
   "id": "08b5d94d",
   "metadata": {},
   "outputs": [
    {
     "data": {
      "text/plain": [
       "LogisticRegression(C=0.4, solver='liblinear', tol=1e-06)"
      ]
     },
     "execution_count": 119,
     "metadata": {},
     "output_type": "execute_result"
    }
   ],
   "source": [
    "model1 = LogisticRegression(penalty='l2',tol=1e-6,C=0.4,solver='liblinear')\n",
    "y_train =  Y_train.values.ravel()\n",
    "model1.fit(X_train,y_train)"
   ]
  },
  {
   "cell_type": "code",
   "execution_count": 120,
   "id": "1edae9a9",
   "metadata": {},
   "outputs": [],
   "source": [
    "w_hat1 = model.coef_\n",
    "c_hat1 = model.intercept_\n",
    "W_hat1 = np.insert(w_hat1,0, c_hat1)"
   ]
  },
  {
   "cell_type": "code",
   "execution_count": 49,
   "id": "52e65383",
   "metadata": {},
   "outputs": [],
   "source": [
    "def reg_log_fit(X,y,C):\n",
    "    w = 0.1 * np.ones(X_train.shape[1])\n",
    "    W0 = np.insert(w,0, -1.4)\n",
    "    g = lambda W:  reg_log_loss(W, C, X, y)\n",
    "    optimize = minimize(g, W0, method=\"Nelder-Mead\", tol=1e-6, options = {'maxfev': 7115})\n",
    "    return optimize"
   ]
  },
  {
   "cell_type": "code",
   "execution_count": 51,
   "id": "35f0b59a",
   "metadata": {},
   "outputs": [],
   "source": [
    "result1 = reg_log_fit(X_train, Y_train, 0.4) "
   ]
  },
  {
   "cell_type": "code",
   "execution_count": 52,
   "id": "c7fa4008",
   "metadata": {},
   "outputs": [
    {
     "data": {
      "text/plain": [
       " final_simplex: (array([[-0.77035497, -0.30853632,  0.65455425,  0.18467272, -0.19457437,\n",
       "         1.63567268, -0.34512432,  0.1657955 , -0.3601103 ,  0.00491957,\n",
       "         0.57886566],\n",
       "       [-0.770355  , -0.30853677,  0.65455492,  0.18467215, -0.19457457,\n",
       "         1.63567272, -0.34512459,  0.16579541, -0.36011041,  0.00491962,\n",
       "         0.57886576],\n",
       "       [-0.77035523, -0.30853665,  0.65455438,  0.18467293, -0.19457503,\n",
       "         1.63567333, -0.34512457,  0.16579536, -0.3601105 ,  0.00491962,\n",
       "         0.57886593],\n",
       "       [-0.77035535, -0.30853646,  0.65455415,  0.1846733 , -0.19457439,\n",
       "         1.63567228, -0.34512403,  0.1657947 , -0.36011069,  0.00491932,\n",
       "         0.57886587],\n",
       "       [-0.77035535, -0.30853676,  0.65455491,  0.18467306, -0.19457513,\n",
       "         1.63567251, -0.34512409,  0.16579577, -0.36011068,  0.00491965,\n",
       "         0.5788655 ],\n",
       "       [-0.7703551 , -0.3085369 ,  0.65455464,  0.18467348, -0.19457512,\n",
       "         1.63567265, -0.34512421,  0.16579512, -0.36011048,  0.00491919,\n",
       "         0.57886587],\n",
       "       [-0.7703557 , -0.30853686,  0.65455422,  0.18467274, -0.19457529,\n",
       "         1.63567272, -0.34512482,  0.1657954 , -0.36011016,  0.0049197 ,\n",
       "         0.57886601],\n",
       "       [-0.77035522, -0.30853703,  0.65455466,  0.18467289, -0.19457481,\n",
       "         1.63567263, -0.3451242 ,  0.16579511, -0.36011038,  0.00491943,\n",
       "         0.57886582],\n",
       "       [-0.77035474, -0.30853686,  0.6545547 ,  0.18467287, -0.19457412,\n",
       "         1.63567298, -0.34512435,  0.16579496, -0.36011084,  0.0049192 ,\n",
       "         0.57886522],\n",
       "       [-0.77035547, -0.30853677,  0.65455409,  0.18467286, -0.19457448,\n",
       "         1.63567273, -0.34512395,  0.16579544, -0.36011039,  0.00491926,\n",
       "         0.57886612],\n",
       "       [-0.77035473, -0.30853663,  0.65455455,  0.18467217, -0.19457464,\n",
       "         1.63567292, -0.34512479,  0.16579515, -0.36011127,  0.00491944,\n",
       "         0.57886591],\n",
       "       [-0.77035537, -0.30853711,  0.65455452,  0.18467329, -0.19457492,\n",
       "         1.63567278, -0.34512435,  0.16579531, -0.36011009,  0.00491982,\n",
       "         0.57886633]]), array([436.58864745, 436.58864745, 436.58864745, 436.58864745,\n",
       "       436.58864745, 436.58864745, 436.58864745, 436.58864745,\n",
       "       436.58864745, 436.58864745, 436.58864745, 436.58864745]))\n",
       "           fun: 436.58864745174316\n",
       "       message: 'Optimization terminated successfully.'\n",
       "          nfev: 7114\n",
       "           nit: 5181\n",
       "        status: 0\n",
       "       success: True\n",
       "             x: array([-0.77035497, -0.30853632,  0.65455425,  0.18467272, -0.19457437,\n",
       "        1.63567268, -0.34512432,  0.1657955 , -0.3601103 ,  0.00491957,\n",
       "        0.57886566])"
      ]
     },
     "execution_count": 52,
     "metadata": {},
     "output_type": "execute_result"
    }
   ],
   "source": [
    "result1"
   ]
  },
  {
   "cell_type": "code",
   "execution_count": 53,
   "id": "35257570",
   "metadata": {},
   "outputs": [
    {
     "data": {
      "text/plain": [
       "array([-0.77035497, -0.30853632,  0.65455425,  0.18467272, -0.19457437,\n",
       "        1.63567268, -0.34512432,  0.1657955 , -0.3601103 ,  0.00491957,\n",
       "        0.57886566])"
      ]
     },
     "execution_count": 53,
     "metadata": {},
     "output_type": "execute_result"
    }
   ],
   "source": [
    "optimal_W = result1.x\n",
    "optimal_W"
   ]
  },
  {
   "cell_type": "markdown",
   "id": "c95841b8",
   "metadata": {},
   "source": [
    "### (I) Use the sklearn.metrics.log loss to compute the train and test losses of your resulting model. Recall that the predictions of your model can be calculated using the formula: σ(wˆT xi + cˆ) where xi is a single feature vector.\n",
    "\n",
    "#### 내가 만든 함수 reg_log_loss를 minimize해서 구한 coefficient를 가지고 y_pred를 구해서 log_loss로 계산하는 방법"
   ]
  },
  {
   "cell_type": "code",
   "execution_count": 123,
   "id": "64459ceb",
   "metadata": {},
   "outputs": [],
   "source": [
    "def y_pred(W, X):\n",
    "    c = W[0]\n",
    "    w = W[1:].reshape(1,X.shape[1]) #1x10\n",
    "    X = X.values\n",
    "    Y_predict = []\n",
    "    \n",
    "    for i in range(0,X.shape[0]):\n",
    "        x = X[i]\n",
    "        wx = np.dot(w,x)\n",
    "        exponent = -1*(wx+c)\n",
    "        y_predict = 1/(1 + np.exp(exponent)) #p(y=1|x):hiphop\n",
    "        Y_predict.append(y_predict)\n",
    "    return Y_predict   "
   ]
  },
  {
   "cell_type": "code",
   "execution_count": 124,
   "id": "9e849351",
   "metadata": {},
   "outputs": [],
   "source": [
    "Y_train_predict = y_pred(optimal_W, X_train)\n",
    "Y_test_predict = y_pred(optimal_W,X_test)"
   ]
  },
  {
   "cell_type": "code",
   "execution_count": 129,
   "id": "5e694e80",
   "metadata": {},
   "outputs": [],
   "source": [
    "train_loss = log_loss(Y_train, Y_train_predict)\n",
    "test_loss = log_loss(Y_test, Y_test_predict)"
   ]
  },
  {
   "cell_type": "code",
   "execution_count": 130,
   "id": "bce158bd",
   "metadata": {},
   "outputs": [
    {
     "name": "stdout",
     "output_type": "stream",
     "text": [
      "Train loss is 0.3994921335707408\n",
      "Test loss is 0.39939623876525937\n"
     ]
    }
   ],
   "source": [
    "print(\"Train loss is {}\".format(train_loss))\n",
    "print(\"Test loss is {}\".format(test_loss))"
   ]
  },
  {
   "cell_type": "markdown",
   "id": "97c08965",
   "metadata": {},
   "source": [
    "### (II) Fit a logistic regression model using sklearn.linear model.LogisticRegression and use the parameters: C=1, tol=1e-6, penalty=’l2’, solver=’liblinear’. Com- pute the train and test losses for this model.\n",
    "\n",
    "#### 그냥 한번에 model을 fit해서 구하는 방법"
   ]
  },
  {
   "cell_type": "code",
   "execution_count": 157,
   "id": "5258ab84",
   "metadata": {},
   "outputs": [
    {
     "data": {
      "text/plain": [
       "LogisticRegression(C=1, solver='liblinear', tol=1e-06)"
      ]
     },
     "execution_count": 157,
     "metadata": {},
     "output_type": "execute_result"
    }
   ],
   "source": [
    "model = LogisticRegression(penalty='l2',tol=1e-6,C=1,solver='liblinear')\n",
    "y_train =  Y_train.values.ravel()\n",
    "model.fit(X_train,y_train)"
   ]
  },
  {
   "cell_type": "code",
   "execution_count": 158,
   "id": "3e0dce35",
   "metadata": {},
   "outputs": [
    {
     "data": {
      "text/plain": [
       "array([-0.76991488, -0.31225414,  0.65985006,  0.18671143, -0.19600804,\n",
       "        1.6489653 , -0.34670163,  0.1674819 , -0.36523069,  0.00552138,\n",
       "        0.58417585])"
      ]
     },
     "execution_count": 158,
     "metadata": {},
     "output_type": "execute_result"
    }
   ],
   "source": [
    "W = np.insert(model.coef_, 0, model.intercept_)\n",
    "W"
   ]
  },
  {
   "cell_type": "code",
   "execution_count": 159,
   "id": "5d207c7b",
   "metadata": {},
   "outputs": [],
   "source": [
    "train_loss = log_loss(Y_train, y_pred(W, X_train)) \n",
    "test_loss = log_loss(Y_test, y_pred(W, X_test))"
   ]
  },
  {
   "cell_type": "code",
   "execution_count": 160,
   "id": "b98fb186",
   "metadata": {},
   "outputs": [
    {
     "name": "stdout",
     "output_type": "stream",
     "text": [
      "Train loss is 0.39947109084441795\n",
      "Test loss is 0.3992719018540252\n"
     ]
    }
   ],
   "source": [
    "print(\"Train loss is {}\".format(train_loss))\n",
    "print(\"Test loss is {}\".format(test_loss))"
   ]
  },
  {
   "cell_type": "markdown",
   "id": "56cc3731",
   "metadata": {},
   "source": [
    "## (g)"
   ]
  },
  {
   "cell_type": "code",
   "execution_count": 224,
   "id": "f6aae794",
   "metadata": {},
   "outputs": [],
   "source": [
    "Cs = np.linspace(0.001, 0.2, num=100) #generate the list of C values"
   ]
  },
  {
   "cell_type": "markdown",
   "id": "6a0bc7ed",
   "metadata": {},
   "source": [
    "### For each value of C, fit the model and store the coefficients of each feature."
   ]
  },
  {
   "cell_type": "code",
   "execution_count": 241,
   "id": "f9ed5285",
   "metadata": {},
   "outputs": [],
   "source": [
    "coefficients = []\n",
    "for c in Cs:\n",
    "    l1_model = LogisticRegression(penalty='l1', solver='liblinear', C=c)\n",
    "    l1_model.fit(X_train,y_train)\n",
    "    coef = l1_model.coef_[0] #to aviod double bracket [[]]\n",
    "    coefficients.append(coef)"
   ]
  },
  {
   "cell_type": "code",
   "execution_count": 246,
   "id": "eec6270a",
   "metadata": {},
   "outputs": [],
   "source": [
    "coefficients = pd.DataFrame(coefficients)"
   ]
  },
  {
   "cell_type": "markdown",
   "id": "03acf282",
   "metadata": {},
   "source": [
    "###  Create a plot with log(C) on the x-axis, and the coefficient value on the y-axis for each feature in each of the fitted models.\n",
    "#### (Your plot must have a legend clearly representing the different features using the following color scheme: [’red’, ’brown’, ’green’, ’blue’, ’orange’, ’pink’, ’purple’, ’grey’, ’black’, ’y’] )"
   ]
  },
  {
   "cell_type": "code",
   "execution_count": 216,
   "id": "b03e25a8",
   "metadata": {},
   "outputs": [],
   "source": [
    "import matplotlib.pyplot as plt"
   ]
  },
  {
   "cell_type": "code",
   "execution_count": 243,
   "id": "d0cc1daa",
   "metadata": {},
   "outputs": [],
   "source": [
    "colors = ['red', 'brown', 'green', 'blue', 'orange', 'pink', 'purple', 'grey', 'black', 'y']\n",
    "lables = ['popularity', 'danceability', 'energy', 'loudness', 'speechiness', 'acousticness', 'liveness', 'valence', 'tempo', 'duration']"
   ]
  },
  {
   "cell_type": "code",
   "execution_count": 244,
   "id": "0a6314e9",
   "metadata": {},
   "outputs": [
    {
     "data": {
      "text/plain": [
       "<matplotlib.legend.Legend at 0x122a4a460>"
      ]
     },
     "execution_count": 244,
     "metadata": {},
     "output_type": "execute_result"
    },
    {
     "data": {
      "image/png": "[encoded data removed]",
      "text/plain": [
       "<Figure size 432x288 with 1 Axes>"
      ]
     },
     "metadata": {
      "needs_background": "light"
     },
     "output_type": "display_data"
    }
   ],
   "source": [
    "for i in range(10):\n",
    "    plt.plot(np.log(Cs), coefficients.iloc[:,i], color = colors[i], label = lables[i])\n",
    "    \n",
    "plt.legend(bbox_to_anchor = (1.05, 1))"
   ]
  },
  {
   "cell_type": "markdown",
   "id": "01666b78",
   "metadata": {},
   "source": [
    "### Based on this plot, explain why l1 regularization can be thought of as performing feature selection,"
   ]
  },
  {
   "cell_type": "markdown",
   "id": "79737dc2",
   "metadata": {},
   "source": [
    "As we change the log(C), coefficient of each parameter is changed.\n",
    "Hence, if we want to remove some features then we could drop it by adjusting the value of C.\n",
    "For example, when log(c) is -7, we only choose speechiness as an feature. \n",
    "Because, other feature's coefficients are 0.\n",
    "Thus, in this way, l1 regularization performs feature selection."
   ]
  },
  {
   "cell_type": "markdown",
   "id": "8ba39977",
   "metadata": {},
   "source": [
    "### further comment on which features seem the most important to you (based on the plot) and why."
   ]
  },
  {
   "cell_type": "markdown",
   "id": "762686cd",
   "metadata": {},
   "source": [
    "It seems like speechiness is the the most important feature. Because, it is chosen as an feature no matter what the log(C) is."
   ]
  },
  {
   "cell_type": "markdown",
   "id": "5649a3cf",
   "metadata": {},
   "source": [
    "# (h)"
   ]
  },
  {
   "cell_type": "markdown",
   "id": "e82e7502",
   "metadata": {},
   "source": [
    "### We now work through an example of using cross validation to choose the best choice of C based on the data. Specifically, we will use Leave-One-Out Cross Validation (LOOCV). "
   ]
  },
  {
   "cell_type": "markdown",
   "id": "5a7d5c16",
   "metadata": {},
   "source": [
    "###  Create a grid of C values using the code Cs = np.linspace(0.0001, 0.8, num=25)"
   ]
  },
  {
   "cell_type": "code",
   "execution_count": 247,
   "id": "84ec651d",
   "metadata": {},
   "outputs": [],
   "source": [
    "Cs = np.linspace(0.0001, 0.8, num=25)"
   ]
  },
  {
   "cell_type": "markdown",
   "id": "9edb1c17",
   "metadata": {},
   "source": [
    "### LOOCV is computa- tionally intesive so we will only work with the first 20% of the training data (the first n = 544 observations). "
   ]
  },
  {
   "cell_type": "code",
   "execution_count": 269,
   "id": "34883933",
   "metadata": {},
   "outputs": [],
   "source": [
    "small_x_train = X_train.iloc[:544]\n",
    "small_y_train = Y_train.iloc[:544]\n",
    "small_y_train = small_y_train.reset_index(drop=True)"
   ]
  },
  {
   "cell_type": "code",
   "execution_count": 270,
   "id": "a07e0b07",
   "metadata": {},
   "outputs": [
    {
     "data": {
      "text/html": [
       "<div>\n",
       "<style scoped>\n",
       "    .dataframe tbody tr th:only-of-type {\n",
       "        vertical-align: middle;\n",
       "    }\n",
       "\n",
       "    .dataframe tbody tr th {\n",
       "        vertical-align: top;\n",
       "    }\n",
       "\n",
       "    .dataframe thead th {\n",
       "        text-align: right;\n",
       "    }\n",
       "</style>\n",
       "<table border=\"1\" class=\"dataframe\">\n",
       "  <thead>\n",
       "    <tr style=\"text-align: right;\">\n",
       "      <th></th>\n",
       "      <th>Popularity</th>\n",
       "      <th>danceability</th>\n",
       "      <th>energy</th>\n",
       "      <th>loudness</th>\n",
       "      <th>speechiness</th>\n",
       "      <th>acousticness</th>\n",
       "      <th>liveness</th>\n",
       "      <th>valence</th>\n",
       "      <th>tempo</th>\n",
       "      <th>duration_in min/ms</th>\n",
       "    </tr>\n",
       "  </thead>\n",
       "  <tbody>\n",
       "    <tr>\n",
       "      <th>0</th>\n",
       "      <td>-0.935558</td>\n",
       "      <td>0.675193</td>\n",
       "      <td>1.384998</td>\n",
       "      <td>0.853794</td>\n",
       "      <td>-0.283317</td>\n",
       "      <td>0.347567</td>\n",
       "      <td>1.195610</td>\n",
       "      <td>0.639519</td>\n",
       "      <td>-0.839537</td>\n",
       "      <td>0.002854</td>\n",
       "    </tr>\n",
       "    <tr>\n",
       "      <th>1</th>\n",
       "      <td>-0.293825</td>\n",
       "      <td>-0.769112</td>\n",
       "      <td>-2.442763</td>\n",
       "      <td>-1.964013</td>\n",
       "      <td>-0.775845</td>\n",
       "      <td>0.889946</td>\n",
       "      <td>-0.441932</td>\n",
       "      <td>-1.561036</td>\n",
       "      <td>0.706490</td>\n",
       "      <td>-0.534662</td>\n",
       "    </tr>\n",
       "    <tr>\n",
       "      <th>2</th>\n",
       "      <td>1.137733</td>\n",
       "      <td>-0.016446</td>\n",
       "      <td>1.071518</td>\n",
       "      <td>0.538745</td>\n",
       "      <td>-0.735321</td>\n",
       "      <td>-0.656403</td>\n",
       "      <td>-0.826693</td>\n",
       "      <td>0.196697</td>\n",
       "      <td>-0.374438</td>\n",
       "      <td>-0.325879</td>\n",
       "    </tr>\n",
       "    <tr>\n",
       "      <th>3</th>\n",
       "      <td>-0.590010</td>\n",
       "      <td>-0.274115</td>\n",
       "      <td>-0.902859</td>\n",
       "      <td>-0.832215</td>\n",
       "      <td>0.972940</td>\n",
       "      <td>1.030282</td>\n",
       "      <td>-0.744816</td>\n",
       "      <td>-0.020195</td>\n",
       "      <td>1.065473</td>\n",
       "      <td>0.888450</td>\n",
       "    </tr>\n",
       "    <tr>\n",
       "      <th>4</th>\n",
       "      <td>0.199816</td>\n",
       "      <td>1.387174</td>\n",
       "      <td>-0.226401</td>\n",
       "      <td>0.734596</td>\n",
       "      <td>-0.040171</td>\n",
       "      <td>-0.460312</td>\n",
       "      <td>-0.152592</td>\n",
       "      <td>0.933228</td>\n",
       "      <td>0.703872</td>\n",
       "      <td>-0.580907</td>\n",
       "    </tr>\n",
       "    <tr>\n",
       "      <th>...</th>\n",
       "      <td>...</td>\n",
       "      <td>...</td>\n",
       "      <td>...</td>\n",
       "      <td>...</td>\n",
       "      <td>...</td>\n",
       "      <td>...</td>\n",
       "      <td>...</td>\n",
       "      <td>...</td>\n",
       "      <td>...</td>\n",
       "      <td>...</td>\n",
       "    </tr>\n",
       "    <tr>\n",
       "      <th>539</th>\n",
       "      <td>1.878195</td>\n",
       "      <td>0.349716</td>\n",
       "      <td>0.582048</td>\n",
       "      <td>0.868741</td>\n",
       "      <td>-0.708044</td>\n",
       "      <td>-0.975156</td>\n",
       "      <td>-0.448089</td>\n",
       "      <td>0.485887</td>\n",
       "      <td>0.056843</td>\n",
       "      <td>-2.347198</td>\n",
       "    </tr>\n",
       "    <tr>\n",
       "      <th>540</th>\n",
       "      <td>-1.231743</td>\n",
       "      <td>-1.664174</td>\n",
       "      <td>-1.023852</td>\n",
       "      <td>-0.216682</td>\n",
       "      <td>-0.503084</td>\n",
       "      <td>2.099870</td>\n",
       "      <td>-0.582909</td>\n",
       "      <td>-1.163400</td>\n",
       "      <td>-1.050516</td>\n",
       "      <td>0.444136</td>\n",
       "    </tr>\n",
       "    <tr>\n",
       "      <th>541</th>\n",
       "      <td>-0.047005</td>\n",
       "      <td>1.427859</td>\n",
       "      <td>-0.429889</td>\n",
       "      <td>-0.156125</td>\n",
       "      <td>-0.133689</td>\n",
       "      <td>-0.509620</td>\n",
       "      <td>-0.429620</td>\n",
       "      <td>-0.711540</td>\n",
       "      <td>-0.961326</td>\n",
       "      <td>-0.120965</td>\n",
       "    </tr>\n",
       "    <tr>\n",
       "      <th>542</th>\n",
       "      <td>0.693457</td>\n",
       "      <td>-0.389388</td>\n",
       "      <td>1.198010</td>\n",
       "      <td>0.894420</td>\n",
       "      <td>2.874472</td>\n",
       "      <td>-0.834668</td>\n",
       "      <td>0.395308</td>\n",
       "      <td>1.136565</td>\n",
       "      <td>1.976234</td>\n",
       "      <td>0.199393</td>\n",
       "    </tr>\n",
       "    <tr>\n",
       "      <th>543</th>\n",
       "      <td>-0.688738</td>\n",
       "      <td>-1.813351</td>\n",
       "      <td>-1.518821</td>\n",
       "      <td>-0.225880</td>\n",
       "      <td>-0.778183</td>\n",
       "      <td>2.008841</td>\n",
       "      <td>4.402978</td>\n",
       "      <td>-0.982656</td>\n",
       "      <td>0.666611</td>\n",
       "      <td>-2.347182</td>\n",
       "    </tr>\n",
       "  </tbody>\n",
       "</table>\n",
       "<p>544 rows × 10 columns</p>\n",
       "</div>"
      ],
      "text/plain": [
       "     Popularity  danceability    energy  loudness  speechiness  acousticness  \\\n",
       "0     -0.935558      0.675193  1.384998  0.853794    -0.283317      0.347567   \n",
       "1     -0.293825     -0.769112 -2.442763 -1.964013    -0.775845      0.889946   \n",
       "2      1.137733     -0.016446  1.071518  0.538745    -0.735321     -0.656403   \n",
       "3     -0.590010     -0.274115 -0.902859 -0.832215     0.972940      1.030282   \n",
       "4      0.199816      1.387174 -0.226401  0.734596    -0.040171     -0.460312   \n",
       "..          ...           ...       ...       ...          ...           ...   \n",
       "539    1.878195      0.349716  0.582048  0.868741    -0.708044     -0.975156   \n",
       "540   -1.231743     -1.664174 -1.023852 -0.216682    -0.503084      2.099870   \n",
       "541   -0.047005      1.427859 -0.429889 -0.156125    -0.133689     -0.509620   \n",
       "542    0.693457     -0.389388  1.198010  0.894420     2.874472     -0.834668   \n",
       "543   -0.688738     -1.813351 -1.518821 -0.225880    -0.778183      2.008841   \n",
       "\n",
       "     liveness   valence     tempo  duration_in min/ms  \n",
       "0    1.195610  0.639519 -0.839537            0.002854  \n",
       "1   -0.441932 -1.561036  0.706490           -0.534662  \n",
       "2   -0.826693  0.196697 -0.374438           -0.325879  \n",
       "3   -0.744816 -0.020195  1.065473            0.888450  \n",
       "4   -0.152592  0.933228  0.703872           -0.580907  \n",
       "..        ...       ...       ...                 ...  \n",
       "539 -0.448089  0.485887  0.056843           -2.347198  \n",
       "540 -0.582909 -1.163400 -1.050516            0.444136  \n",
       "541 -0.429620 -0.711540 -0.961326           -0.120965  \n",
       "542  0.395308  1.136565  1.976234            0.199393  \n",
       "543  4.402978 -0.982656  0.666611           -2.347182  \n",
       "\n",
       "[544 rows x 10 columns]"
      ]
     },
     "execution_count": 270,
     "metadata": {},
     "output_type": "execute_result"
    }
   ],
   "source": [
    "small_x_train"
   ]
  },
  {
   "cell_type": "code",
   "execution_count": 271,
   "id": "7e9d7523",
   "metadata": {},
   "outputs": [
    {
     "data": {
      "text/html": [
       "<div>\n",
       "<style scoped>\n",
       "    .dataframe tbody tr th:only-of-type {\n",
       "        vertical-align: middle;\n",
       "    }\n",
       "\n",
       "    .dataframe tbody tr th {\n",
       "        vertical-align: top;\n",
       "    }\n",
       "\n",
       "    .dataframe thead th {\n",
       "        text-align: right;\n",
       "    }\n",
       "</style>\n",
       "<table border=\"1\" class=\"dataframe\">\n",
       "  <thead>\n",
       "    <tr style=\"text-align: right;\">\n",
       "      <th></th>\n",
       "      <th>Class</th>\n",
       "    </tr>\n",
       "  </thead>\n",
       "  <tbody>\n",
       "    <tr>\n",
       "      <th>0</th>\n",
       "      <td>-1</td>\n",
       "    </tr>\n",
       "    <tr>\n",
       "      <th>1</th>\n",
       "      <td>-1</td>\n",
       "    </tr>\n",
       "    <tr>\n",
       "      <th>2</th>\n",
       "      <td>-1</td>\n",
       "    </tr>\n",
       "    <tr>\n",
       "      <th>3</th>\n",
       "      <td>1</td>\n",
       "    </tr>\n",
       "    <tr>\n",
       "      <th>4</th>\n",
       "      <td>1</td>\n",
       "    </tr>\n",
       "    <tr>\n",
       "      <th>...</th>\n",
       "      <td>...</td>\n",
       "    </tr>\n",
       "    <tr>\n",
       "      <th>539</th>\n",
       "      <td>-1</td>\n",
       "    </tr>\n",
       "    <tr>\n",
       "      <th>540</th>\n",
       "      <td>-1</td>\n",
       "    </tr>\n",
       "    <tr>\n",
       "      <th>541</th>\n",
       "      <td>1</td>\n",
       "    </tr>\n",
       "    <tr>\n",
       "      <th>542</th>\n",
       "      <td>1</td>\n",
       "    </tr>\n",
       "    <tr>\n",
       "      <th>543</th>\n",
       "      <td>-1</td>\n",
       "    </tr>\n",
       "  </tbody>\n",
       "</table>\n",
       "<p>544 rows × 1 columns</p>\n",
       "</div>"
      ],
      "text/plain": [
       "     Class\n",
       "0       -1\n",
       "1       -1\n",
       "2       -1\n",
       "3        1\n",
       "4        1\n",
       "..     ...\n",
       "539     -1\n",
       "540     -1\n",
       "541      1\n",
       "542      1\n",
       "543     -1\n",
       "\n",
       "[544 rows x 1 columns]"
      ]
     },
     "execution_count": 271,
     "metadata": {},
     "output_type": "execute_result"
    }
   ],
   "source": [
    "small_y_train"
   ]
  },
  {
   "cell_type": "markdown",
   "id": "1b858902",
   "metadata": {},
   "source": [
    "### For a given C value, fit the logistic regression model with l1 penalty on the dataset with point i removed. You should have a total of n models for each C value.\n",
    "### For your i-th model (the one trained by leaving out point i) compute the leave-one-out error of predicting yi (the log-loss of predicting the left out point).\n",
    "#### (you are permitted to use sklearn.LogisticRegression to fit the models, and sklearn.metrics.log loss to compute the losses )\n",
    " \n",
    "### Average the losses over all n choics of i to get your CV score for that particular choice of C."
   ]
  },
  {
   "cell_type": "code",
   "execution_count": 276,
   "id": "ce7e786e",
   "metadata": {},
   "outputs": [],
   "source": [
    "avg_loss = []\n",
    "for c in Cs:\n",
    "    loss_sum = 0\n",
    "    _model = LogisticRegression(penalty='l1',solver='liblinear', C=c)\n",
    "    for i in range(544):\n",
    "        x_tr = small_x_train.drop(index = i).values\n",
    "        y_tr = small_y_train.drop(index = i).values.ravel()\n",
    "        \n",
    "        x_ts = small_x_train.iloc[i].values.reshape(1, -1)\n",
    "        y_ts = small_y_train.iloc[i].values.ravel()  \n",
    "        \n",
    "        _model.fit(x_tr,y_tr)\n",
    "        y_pred = _model.predict_proba(x_ts)\n",
    "        loss_ = log_loss(y_ts, y_pred, labels = (-1,1))\n",
    "        loss_sum = loss_sum + loss_\n",
    "    avg = loss_sum / 544\n",
    "    avg_loss.append(avg)  "
   ]
  },
  {
   "cell_type": "code",
   "execution_count": 277,
   "id": "a7c9b9de",
   "metadata": {},
   "outputs": [
    {
     "data": {
      "text/plain": [
       "[0.6931471805599468,\n",
       " 0.4559380008456632,\n",
       " 0.424744495113735,\n",
       " 0.4160003197984372,\n",
       " 0.4115927406544707,\n",
       " 0.4082793799414353,\n",
       " 0.4063043541413416,\n",
       " 0.40510292840435996,\n",
       " 0.40432995475449374,\n",
       " 0.4038201899448722,\n",
       " 0.4035133324604438,\n",
       " 0.4033523430310938,\n",
       " 0.4032974128596377,\n",
       " 0.40333250464210607,\n",
       " 0.4034442872142655,\n",
       " 0.40361768359013755,\n",
       " 0.4038383353497826,\n",
       " 0.40401305637471807,\n",
       " 0.4041432461446842,\n",
       " 0.4042393648219504,\n",
       " 0.4043164339417271,\n",
       " 0.4043839815202266,\n",
       " 0.4044403968847153,\n",
       " 0.40449035449776766,\n",
       " 0.40453482651537837]"
      ]
     },
     "execution_count": 277,
     "metadata": {},
     "output_type": "execute_result"
    }
   ],
   "source": [
    "avg_loss"
   ]
  },
  {
   "cell_type": "markdown",
   "id": "680da4fb",
   "metadata": {},
   "source": [
    "### Plot the leave-one-out error against C and report the best C value."
   ]
  },
  {
   "cell_type": "code",
   "execution_count": 278,
   "id": "86c37670",
   "metadata": {},
   "outputs": [
    {
     "data": {
      "text/plain": [
       "Text(0, 0.5, 'loss')"
      ]
     },
     "execution_count": 278,
     "metadata": {},
     "output_type": "execute_result"
    },
    {
     "data": {
      "image/png": "[encoded data removed]",
      "text/plain": [
       "<Figure size 432x288 with 1 Axes>"
      ]
     },
     "metadata": {
      "needs_background": "light"
     },
     "output_type": "display_data"
    }
   ],
   "source": [
    "plt.plot(Cs, avg_loss)\n",
    "plt.xlabel(\"C\")                                    \n",
    "plt.ylabel(\"loss\")"
   ]
  },
  {
   "cell_type": "code",
   "execution_count": 41,
   "id": "44d4db51",
   "metadata": {},
   "outputs": [
    {
     "data": {
      "text/plain": [
       "array([1.00000000e-04, 3.34291667e-02, 6.67583333e-02, 1.00087500e-01,\n",
       "       1.33416667e-01, 1.66745833e-01, 2.00075000e-01, 2.33404167e-01,\n",
       "       2.66733333e-01, 3.00062500e-01, 3.33391667e-01, 3.66720833e-01,\n",
       "       4.00050000e-01, 4.33379167e-01, 4.66708333e-01, 5.00037500e-01,\n",
       "       5.33366667e-01, 5.66695833e-01, 6.00025000e-01, 6.33354167e-01,\n",
       "       6.66683333e-01, 7.00012500e-01, 7.33341667e-01, 7.66670833e-01,\n",
       "       8.00000000e-01])"
      ]
     },
     "execution_count": 41,
     "metadata": {},
     "output_type": "execute_result"
    }
   ],
   "source": [
    "Cs"
   ]
  },
  {
   "cell_type": "markdown",
   "id": "73f4fd54",
   "metadata": {},
   "source": [
    "Thus, the best c is the biggest value among Cs which is 0.8. Since the loss are mostly small at that point"
   ]
  },
  {
   "cell_type": "markdown",
   "id": "81aa44a5",
   "metadata": {},
   "source": [
    "# Question2"
   ]
  },
  {
   "cell_type": "code",
   "execution_count": 215,
   "id": "ed92fbe6",
   "metadata": {},
   "outputs": [],
   "source": [
    "import numpy as np\n",
    "import pandas as pd # not really needed, only for preference\n",
    "import matplotlib.pyplot as plt \n",
    "from util import *\n",
    "#plot perceptron function that automatically plots a scatter of the data as well as your perceptron model."
   ]
  },
  {
   "cell_type": "code",
   "execution_count": 279,
   "id": "fa6829fc",
   "metadata": {},
   "outputs": [],
   "source": [
    "X = pd.read_csv('PerceptronX.csv', header=None)\n",
    "Y = pd.read_csv('Perceptrony.csv',header=None)"
   ]
  },
  {
   "cell_type": "markdown",
   "id": "e4f5b382",
   "metadata": {},
   "source": [
    "### Write a function that implements the perceptron algorithm and run it on X, y. Your implementa- tion should be based on the following pseudo-code:"
   ]
  },
  {
   "cell_type": "code",
   "execution_count": 280,
   "id": "113a8e98",
   "metadata": {},
   "outputs": [
    {
     "data": {
      "text/plain": [
       "array([0., 0., 0.])"
      ]
     },
     "execution_count": 280,
     "metadata": {},
     "output_type": "execute_result"
    }
   ],
   "source": [
    "w0 = np.zeros(3) #3,\n",
    "w0.ravel()"
   ]
  },
  {
   "cell_type": "code",
   "execution_count": 282,
   "id": "f042328e",
   "metadata": {},
   "outputs": [],
   "source": [
    "def perceptron(X, y, max_iter=100):\n",
    "    np.random.seed(1)\n",
    "    w = np.zeros(3)\n",
    "    nmb_iter = 0\n",
    "    converged = False\n",
    "    while converged == False:\n",
    "        converged = True\n",
    "        nmb_iter = nmb_iter + 1\n",
    "        misscl = [] \n",
    "        \n",
    "        if nmb_iter > max_iter:\n",
    "            break\n",
    "        \n",
    "        for i in range(0,82):\n",
    "            x = X.iloc[i].values\n",
    "            y = Y.iloc[i].values\n",
    "            xy = np.insert(y, 0, x)\n",
    "            wx = np.dot(w,x)\n",
    "            \n",
    "            if y*wx <= 0:\n",
    "                misscl.append(xy)\n",
    "                converged = False\n",
    "            \n",
    "        if converged == False:\n",
    "            ind = np.random.choice(len(misscl)) #pick a random index\n",
    "            random_row = misscl[ind] # pick a corresponding row\n",
    "            x_ = random_row[:-1]\n",
    "            y_ = random_row[-1]\n",
    "            w = w + y_*x_\n",
    "        \n",
    "    return w, nmb_iter-1    "
   ]
  },
  {
   "cell_type": "code",
   "execution_count": 283,
   "id": "804a4d8b",
   "metadata": {},
   "outputs": [],
   "source": [
    "w, nmb_iter = perceptron(X, Y, max_iter=100)"
   ]
  },
  {
   "cell_type": "code",
   "execution_count": 284,
   "id": "4e95826f",
   "metadata": {},
   "outputs": [
    {
     "data": {
      "text/plain": [
       "array([ 4.        ,  4.37835008, -3.32545901])"
      ]
     },
     "execution_count": 284,
     "metadata": {},
     "output_type": "execute_result"
    }
   ],
   "source": [
    "w"
   ]
  },
  {
   "cell_type": "code",
   "execution_count": 285,
   "id": "07b84bd7",
   "metadata": {},
   "outputs": [
    {
     "data": {
      "text/plain": [
       "22"
      ]
     },
     "execution_count": 285,
     "metadata": {},
     "output_type": "execute_result"
    }
   ],
   "source": [
    "nmb_iter"
   ]
  },
  {
   "cell_type": "code",
   "execution_count": 286,
   "id": "0570eeaa",
   "metadata": {},
   "outputs": [],
   "source": [
    "def plot_perceptron2(ax, X, y, w):\n",
    "    pos_points = X.iloc[np.where(Y==1)[0]]\n",
    "    neg_points = X.iloc[np.where(y==-1)[0]]\n",
    "    ax.scatter(pos_points.iloc[:, 1], pos_points.iloc[:, 2], color='blue')\n",
    "    ax.scatter(neg_points.iloc[:, 1], neg_points.iloc[:, 2], color='red')\n",
    "    xx = np.linspace(-6,6)\n",
    "    yy = -w[0]/w[2] - w[1]/w[2] * xx\n",
    "    ax.plot(xx, yy, color='orange')\n",
    "    ratio = (w[2]/w[1] + w[1]/w[2])\n",
    "    xpt = (-1*w[0] / w[2]) * 1/ratio\n",
    "    ypt = (-1*w[0] / w[1]) * 1/ratio\n",
    "    \n",
    "    ax.arrow(xpt, ypt, w[1], w[2], head_width=0.2, color='orange')\n",
    "    ax.axis('equal')"
   ]
  },
  {
   "cell_type": "code",
   "execution_count": 287,
   "id": "9778fd33",
   "metadata": {},
   "outputs": [
    {
     "data": {
      "image/png": "[encoded data removed]",
      "text/plain": [
       "<Figure size 432x288 with 1 Axes>"
      ]
     },
     "metadata": {
      "needs_background": "light"
     },
     "output_type": "display_data"
    }
   ],
   "source": [
    "fig, ax = plt.subplots()\n",
    "plot_perceptron2(ax, X, Y, w) \n",
    "ax.set_title(f\"w={w}, iterations={nmb_iter}\")\n",
    "plt.show()"
   ]
  },
  {
   "cell_type": "markdown",
   "id": "aa628f02",
   "metadata": {},
   "source": [
    "##  (b)"
   ]
  },
  {
   "cell_type": "code",
   "execution_count": 288,
   "id": "832182ed",
   "metadata": {},
   "outputs": [],
   "source": [
    "Gram = X@X.T\n",
    "#Gram"
   ]
  },
  {
   "cell_type": "code",
   "execution_count": 289,
   "id": "e0f2c070",
   "metadata": {},
   "outputs": [],
   "source": [
    "def dual_perceptron(X, y, max_iter=100):\n",
    "    np.random.seed(1)\n",
    "    alpha = alpha = np.zeros(82)\n",
    "    nmb_iter = 0\n",
    "    converged = False\n",
    "    while converged == False:\n",
    "        converged = True\n",
    "        nmb_iter = nmb_iter + 1\n",
    "        misscl_i = [] \n",
    "        \n",
    "        if nmb_iter > max_iter:\n",
    "            break\n",
    "        \n",
    "        for i in range(0,82):\n",
    "            sum = 0 #나중에 위치 확인하기\n",
    "            x_i = X.iloc[i].values\n",
    "            y_i = Y.iloc[i].values\n",
    "            #xy = np.insert(y_i, 0, x_i)\n",
    "            \n",
    "            for j in range(0,82):\n",
    "                y_j = Y.iloc[j].values\n",
    "                a_j = alpha[j]\n",
    "                sum = sum + a_j*y_j*Gram.loc[j,i]\n",
    "            \n",
    "            condition = y_i * sum\n",
    "            if condition <= 0:\n",
    "                misscl_i.append(i)\n",
    "                converged = False\n",
    "        #print(converged)   \n",
    "        if converged == False:\n",
    "            ind = np.random.choice(len(misscl_i)) #pick a random index\n",
    "            random_row = misscl_i[ind] # pick a corresponding row\n",
    "            alpha[random_row] = alpha[random_row]+1\n",
    "    return alpha, nmb_iter-1"
   ]
  },
  {
   "cell_type": "code",
   "execution_count": 290,
   "id": "f9116871",
   "metadata": {},
   "outputs": [],
   "source": [
    "alpha, t = dual_perceptron(X, Y, max_iter=100)"
   ]
  },
  {
   "cell_type": "code",
   "execution_count": 291,
   "id": "e7666b8d",
   "metadata": {},
   "outputs": [
    {
     "data": {
      "text/plain": [
       "array([0., 0., 0., 1., 0., 0., 1., 0., 0., 0., 0., 0., 0., 0., 0., 0., 0.,\n",
       "       0., 0., 0., 0., 1., 0., 2., 1., 0., 0., 1., 0., 0., 1., 0., 0., 0.,\n",
       "       0., 0., 0., 1., 0., 0., 0., 0., 0., 0., 0., 0., 0., 0., 0., 0., 0.,\n",
       "       0., 0., 1., 0., 0., 0., 0., 0., 0., 0., 0., 2., 1., 1., 0., 0., 0.,\n",
       "       0., 0., 8., 0., 0., 0., 0., 0., 0., 0., 0., 0., 0., 0.])"
      ]
     },
     "execution_count": 291,
     "metadata": {},
     "output_type": "execute_result"
    }
   ],
   "source": [
    "alpha"
   ]
  },
  {
   "cell_type": "code",
   "execution_count": 292,
   "id": "cc1b378c",
   "metadata": {},
   "outputs": [
    {
     "data": {
      "text/plain": [
       "22"
      ]
     },
     "execution_count": 292,
     "metadata": {},
     "output_type": "execute_result"
    }
   ],
   "source": [
    "t"
   ]
  },
  {
   "cell_type": "code",
   "execution_count": 293,
   "id": "b14044bf",
   "metadata": {},
   "outputs": [
    {
     "name": "stdout",
     "output_type": "stream",
     "text": [
      "[ 4.          4.37835008 -3.32545901]\n"
     ]
    }
   ],
   "source": [
    "w_ = np.zeros(3)\n",
    "for i in range(0,82):\n",
    "    a_i = alpha[i]\n",
    "    x_i = X.iloc[i].values\n",
    "    y_i = Y.iloc[i].values\n",
    "    w_ = w_ + a_i*y_i*x_i\n",
    "W = w\n",
    "print(W)"
   ]
  },
  {
   "cell_type": "markdown",
   "id": "6cd9ca3f",
   "metadata": {},
   "source": [
    "## Provide a plot of your final perceptron as in the previous part (using the same title format),"
   ]
  },
  {
   "cell_type": "code",
   "execution_count": 294,
   "id": "c3db66b0",
   "metadata": {},
   "outputs": [
    {
     "data": {
      "image/png": "[encoded data removed]",
      "text/plain": [
       "<Figure size 432x288 with 1 Axes>"
      ]
     },
     "metadata": {
      "needs_background": "light"
     },
     "output_type": "display_data"
    }
   ],
   "source": [
    "fig, ax = plt.subplots()\n",
    "plot_perceptron2(ax, X, Y, W) \n",
    "ax.set_title(f\"w={w}, iterations={t}\")\n",
    "plt.show()"
   ]
  },
  {
   "cell_type": "markdown",
   "id": "4118a4dd",
   "metadata": {},
   "source": [
    "## provide a plot with x-axis representing each of the i = 1, . . . , n points, and y-axis representing the value αi."
   ]
  },
  {
   "cell_type": "code",
   "execution_count": 295,
   "id": "5a7b1d9a",
   "metadata": {},
   "outputs": [],
   "source": [
    "i = np.linspace(1,82,82)"
   ]
  },
  {
   "cell_type": "code",
   "execution_count": 296,
   "id": "52e93276",
   "metadata": {},
   "outputs": [],
   "source": [
    "import matplotlib.pyplot as plt\n",
    "from importlib import reload\n",
    "plt=reload(plt)"
   ]
  },
  {
   "cell_type": "code",
   "execution_count": 297,
   "id": "963cab33",
   "metadata": {},
   "outputs": [
    {
     "data": {
      "image/png": "[encoded data removed]",
      "text/plain": [
       "<Figure size 432x288 with 1 Axes>"
      ]
     },
     "metadata": {
      "needs_background": "light"
     },
     "output_type": "display_data"
    }
   ],
   "source": [
    "plt.plot(i,alpha)\n",
    "plt.xlabel('x')\n",
    "plt.ylabel('alpha')\n",
    "plt.show()"
   ]
  },
  {
   "cell_type": "markdown",
   "id": "17df2c5b",
   "metadata": {},
   "source": [
    "### (c)"
   ]
  },
  {
   "cell_type": "code",
   "execution_count": 298,
   "id": "a1e2f26a",
   "metadata": {},
   "outputs": [],
   "source": [
    "def rperceptron(X, y, max_iter=100):\n",
    "    np.random.seed(1)\n",
    "    w = np.zeros(3)\n",
    "    I = np.zeros(82)\n",
    "    nmb_iter = 0\n",
    "    converged = False\n",
    "    \n",
    "    while converged == False:\n",
    "        #print(I)\n",
    "        converged = True\n",
    "        nmb_iter = nmb_iter + 1\n",
    "        misscl = [] \n",
    "        \n",
    "        if nmb_iter > max_iter:\n",
    "            break\n",
    "        \n",
    "        for i in range(0,82):\n",
    "            x = X.iloc[i].values\n",
    "            y = Y.iloc[i].values\n",
    "            xy = np.insert(y, 0, x)\n",
    "            wx = np.dot(w,x)\n",
    "        \n",
    "            if y*wx + 2*I[i] <= 0:\n",
    "                misscl.append(i)\n",
    "                converged = False\n",
    "                \n",
    "        if converged == False:\n",
    "            ind = np.random.choice(len(misscl)) #pick a random index of misscl\n",
    "            random_ind = misscl[ind] # find the random index in terms of i\n",
    "            I[random_ind] = 1      \n",
    "\n",
    "            x_ = X.iloc[random_ind].values\n",
    "            y_ = Y.iloc[random_ind].values\n",
    "    \n",
    "            w = w + y_*x_\n",
    "              \n",
    "    return w, nmb_iter-1         "
   ]
  },
  {
   "cell_type": "code",
   "execution_count": 300,
   "id": "478cc19c",
   "metadata": {},
   "outputs": [],
   "source": [
    "r_w, r_nmb_iter = rperceptron(X, Y, max_iter=100)"
   ]
  },
  {
   "cell_type": "code",
   "execution_count": 301,
   "id": "785dc4bb",
   "metadata": {},
   "outputs": [
    {
     "data": {
      "text/plain": [
       "array([ 2.        ,  4.31842869, -2.16285772])"
      ]
     },
     "execution_count": 301,
     "metadata": {},
     "output_type": "execute_result"
    }
   ],
   "source": [
    "r_w"
   ]
  },
  {
   "cell_type": "code",
   "execution_count": 302,
   "id": "654476e4",
   "metadata": {},
   "outputs": [
    {
     "data": {
      "text/plain": [
       "10"
      ]
     },
     "execution_count": 302,
     "metadata": {},
     "output_type": "execute_result"
    }
   ],
   "source": [
    "r_nmb_iter"
   ]
  },
  {
   "cell_type": "code",
   "execution_count": 303,
   "id": "3de5c334",
   "metadata": {},
   "outputs": [
    {
     "data": {
      "image/png": "[encoded data removed]",
      "text/plain": [
       "<Figure size 432x288 with 1 Axes>"
      ]
     },
     "metadata": {
      "needs_background": "light"
     },
     "output_type": "display_data"
    }
   ],
   "source": [
    "fig, ax = plt.subplots()\n",
    "plot_perceptron2(ax, X, Y, r_w) \n",
    "ax.set_title(f\"w={r_w}, iterations={r_nmb_iter}\")\n",
    "plt.show()"
   ]
  },
  {
   "cell_type": "markdown",
   "id": "df214c96",
   "metadata": {},
   "source": [
    "### (d)"
   ]
  },
  {
   "cell_type": "markdown",
   "id": "43cba324",
   "metadata": {},
   "source": [
    "### Derive a dual version of the rPerceptron algorithm and describe it using pseudo-code (use the template pseudocode from the previous parts to get an idea of what is expected here). Implement your algorithm in code (using the same randomization steps as above) and run it on X, y with r = 2. Produce the same two plots as requested in part (b). What to submit: a pseudocode description of your algorithm, two plots, a screen shot of your code used for this section, a copy of your code in solutions.py"
   ]
  },
  {
   "cell_type": "code",
   "execution_count": 304,
   "id": "30093e50",
   "metadata": {},
   "outputs": [],
   "source": [
    "def rdual_perceptron(X, y, max_iter=100):\n",
    "    np.random.seed(1)\n",
    "    alpha = alpha = np.zeros(82)\n",
    "    nmb_iter = 0\n",
    "    I = np.zeros(82)\n",
    "    converged = False\n",
    "    while converged == False:\n",
    "        converged = True\n",
    "        nmb_iter = nmb_iter + 1\n",
    "        misscl_i = [] \n",
    "        \n",
    "        if nmb_iter > max_iter:\n",
    "            break\n",
    "        \n",
    "        for i in range(0,82):\n",
    "            sum = 0 #나중에 위치 확인하기\n",
    "            x_i = X.iloc[i].values\n",
    "            y_i = Y.iloc[i].values\n",
    "            \n",
    "            for j in range(0,82):\n",
    "                y_j = Y.iloc[j].values\n",
    "                a_j = alpha[j]\n",
    "                sum = sum + a_j*y_j*Gram.loc[j,i]\n",
    "            \n",
    "            condition = y_i * sum + 2*I[i]\n",
    "            if condition <= 0:\n",
    "                misscl_i.append(i)\n",
    "                converged = False\n",
    "        \n",
    "        if converged == False:\n",
    "            ind = np.random.choice(len(misscl_i)) #pick a random index of misscl_i\n",
    "            random_ind = misscl_i[ind] # pick a random index of data\n",
    "            I[random_ind] = 1 \n",
    "            alpha[random_ind] = alpha[random_ind]+1\n",
    "            \n",
    "    return alpha, nmb_iter-1"
   ]
  },
  {
   "cell_type": "code",
   "execution_count": 305,
   "id": "5ad0e5cd",
   "metadata": {},
   "outputs": [],
   "source": [
    "r_alpha, rnmb_iter = rdual_perceptron(X, Y, max_iter=100)"
   ]
  },
  {
   "cell_type": "code",
   "execution_count": 306,
   "id": "9e3b3d95",
   "metadata": {},
   "outputs": [
    {
     "data": {
      "text/plain": [
       "array([1., 1., 0., 0., 0., 0., 0., 0., 0., 0., 0., 0., 0., 0., 0., 0., 0.,\n",
       "       0., 0., 0., 0., 1., 0., 0., 0., 0., 0., 0., 0., 0., 0., 0., 0., 0.,\n",
       "       0., 0., 0., 1., 0., 0., 0., 0., 0., 0., 0., 1., 0., 0., 0., 0., 0.,\n",
       "       1., 0., 1., 0., 0., 0., 0., 0., 0., 0., 0., 0., 0., 0., 0., 1., 0.,\n",
       "       0., 0., 2., 0., 0., 0., 0., 0., 0., 0., 0., 0., 0., 0.])"
      ]
     },
     "execution_count": 306,
     "metadata": {},
     "output_type": "execute_result"
    }
   ],
   "source": [
    "r_alpha"
   ]
  },
  {
   "cell_type": "code",
   "execution_count": 307,
   "id": "c5eaaf0b",
   "metadata": {},
   "outputs": [
    {
     "data": {
      "text/plain": [
       "10"
      ]
     },
     "execution_count": 307,
     "metadata": {},
     "output_type": "execute_result"
    }
   ],
   "source": [
    "rnmb_iter"
   ]
  },
  {
   "cell_type": "code",
   "execution_count": 308,
   "id": "a40a9b3e",
   "metadata": {},
   "outputs": [
    {
     "name": "stdout",
     "output_type": "stream",
     "text": [
      "[ 2.          4.31842869 -2.16285772]\n"
     ]
    }
   ],
   "source": [
    "w_ = np.zeros(3)\n",
    "for i in range(0,82):\n",
    "    a_i = r_alpha[i]\n",
    "    x_i = X.iloc[i].values\n",
    "    y_i = Y.iloc[i].values\n",
    "    w_ = w_ + a_i*y_i*x_i\n",
    "    #print(w_)\n",
    "W = w_\n",
    "print(W)"
   ]
  },
  {
   "cell_type": "code",
   "execution_count": 309,
   "id": "03fc42ae",
   "metadata": {},
   "outputs": [
    {
     "data": {
      "image/png": "[encoded data removed]",
      "text/plain": [
       "<Figure size 432x288 with 1 Axes>"
      ]
     },
     "metadata": {
      "needs_background": "light"
     },
     "output_type": "display_data"
    }
   ],
   "source": [
    "fig, ax = plt.subplots()\n",
    "plot_perceptron2(ax, X, Y, W) \n",
    "ax.set_title(f\"w={W}, iterations={rnmb_iter}\")\n",
    "plt.show()"
   ]
  },
  {
   "cell_type": "code",
   "execution_count": 311,
   "id": "c79c15cb",
   "metadata": {},
   "outputs": [],
   "source": [
    "i = np.linspace(1,82,82)"
   ]
  },
  {
   "cell_type": "code",
   "execution_count": 312,
   "id": "09f00a9d",
   "metadata": {},
   "outputs": [
    {
     "data": {
      "image/png": "[encoded data removed]",
      "text/plain": [
       "<Figure size 432x288 with 1 Axes>"
      ]
     },
     "metadata": {
      "needs_background": "light"
     },
     "output_type": "display_data"
    }
   ],
   "source": [
    "plt.plot(i,r_alpha)\n",
    "plt.xlabel('x')\n",
    "plt.ylabel('alpha')\n",
    "plt.show()"
   ]
  }
 ],
 "metadata": {
  "kernelspec": {
   "display_name": "Python 3 (ipykernel)",
   "language": "python",
   "name": "python3"
  },
  "language_info": {
   "codemirror_mode": {
    "name": "ipython",
    "version": 3
   },
   "file_extension": ".py",
   "mimetype": "text/x-python",
   "name": "python",
   "nbconvert_exporter": "python",
   "pygments_lexer": "ipython3",
   "version": "3.9.7"
  }
 },
 "nbformat": 4,
 "nbformat_minor": 5
}
