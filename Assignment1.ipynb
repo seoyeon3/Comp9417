{
 "cells": [
  {
   "cell_type": "code",
   "execution_count": 347,
   "id": "23d95611",
   "metadata": {},
   "outputs": [],
   "source": [
    "import numpy as np\n",
    "import matplotlib.pyplot as plt\n",
    "from numpy.linalg import det, inv\n",
    "import pandas as pd\n",
    "from sklearn.model_selection import train_test_split"
   ]
  },
  {
   "cell_type": "markdown",
   "id": "0f0ffa9c",
   "metadata": {},
   "source": [
    "# (a)"
   ]
  },
  {
   "cell_type": "code",
   "execution_count": 332,
   "id": "308a06b3",
   "metadata": {},
   "outputs": [
    {
     "data": {
      "text/plain": [
       "array([[ 1,  2,  1, -1],\n",
       "       [-1,  1,  0,  2],\n",
       "       [ 0, -1, -2,  1]])"
      ]
     },
     "execution_count": 332,
     "metadata": {},
     "output_type": "execute_result"
    }
   ],
   "source": [
    "A = np.array([[1,2,1,-1],[-1,1,0,2],[0,-1,-2,1]])\n",
    "A"
   ]
  },
  {
   "cell_type": "code",
   "execution_count": 333,
   "id": "adaecf7e",
   "metadata": {},
   "outputs": [
    {
     "data": {
      "text/plain": [
       "array([[ 3],\n",
       "       [ 2],\n",
       "       [-2]])"
      ]
     },
     "execution_count": 333,
     "metadata": {},
     "output_type": "execute_result"
    }
   ],
   "source": [
    "b = np.array([3,2,-2]).reshape(3,1)\n",
    "b"
   ]
  },
  {
   "cell_type": "code",
   "execution_count": 334,
   "id": "3d51d749",
   "metadata": {},
   "outputs": [
    {
     "data": {
      "text/plain": [
       "array([[ 1, -1,  0],\n",
       "       [ 2,  1, -1],\n",
       "       [ 1,  0, -2],\n",
       "       [-1,  2,  1]])"
      ]
     },
     "execution_count": 334,
     "metadata": {},
     "output_type": "execute_result"
    }
   ],
   "source": [
    "A_t = A.T\n",
    "A_t"
   ]
  },
  {
   "cell_type": "code",
   "execution_count": 335,
   "id": "78af51eb",
   "metadata": {},
   "outputs": [
    {
     "data": {
      "text/plain": [
       "array([[1],\n",
       "       [1],\n",
       "       [1],\n",
       "       [1]])"
      ]
     },
     "execution_count": 335,
     "metadata": {},
     "output_type": "execute_result"
    }
   ],
   "source": [
    "x0 = np.array([1,1,1,1]).reshape(4,1)\n",
    "x0"
   ]
  },
  {
   "cell_type": "code",
   "execution_count": 336,
   "id": "84ff87e5",
   "metadata": {},
   "outputs": [
    {
     "data": {
      "text/plain": [
       "array([[0.98],\n",
       "       [0.98],\n",
       "       [0.98],\n",
       "       [0.98]])"
      ]
     },
     "execution_count": 336,
     "metadata": {},
     "output_type": "execute_result"
    }
   ],
   "source": [
    "x1 = x0 - 0.1*(-A_t@b + A_t@A@x0 + 0.2*x0)\n",
    "x1"
   ]
  },
  {
   "cell_type": "code",
   "execution_count": 337,
   "id": "216a6486",
   "metadata": {},
   "outputs": [
    {
     "data": {
      "text/plain": [
       "0.4"
      ]
     },
     "execution_count": 337,
     "metadata": {},
     "output_type": "execute_result"
    }
   ],
   "source": [
    "f = 0.5*np.linalg.norm(A@x0 - b, ord=2)**2 + 0.1*np.linalg.norm(x0, ord=2)**2\n",
    "f"
   ]
  },
  {
   "cell_type": "code",
   "execution_count": 338,
   "id": "5f1791ae",
   "metadata": {},
   "outputs": [],
   "source": [
    "def f(A,b,x):\n",
    "    loss = 0.5*np.linalg.norm(A@x - b, ord=2)**2 + 0.1*np.linalg.norm(x, ord=2)**2\n",
    "    return loss"
   ]
  },
  {
   "cell_type": "code",
   "execution_count": 339,
   "id": "4010d686",
   "metadata": {},
   "outputs": [
    {
     "data": {
      "text/plain": [
       "0.4"
      ]
     },
     "execution_count": 339,
     "metadata": {},
     "output_type": "execute_result"
    }
   ],
   "source": [
    "f= f(A,b,x0)\n",
    "f"
   ]
  },
  {
   "cell_type": "code",
   "execution_count": 340,
   "id": "86f5545e",
   "metadata": {},
   "outputs": [],
   "source": [
    "def find_X(A, A_t, b, x0, alpha):\n",
    "    X = []\n",
    "    X.append(x0)\n",
    "    x = x0\n",
    "    k = 1\n",
    "    while True:\n",
    "        delta = -A_t@b + A_t@A@x + 0.2*x\n",
    "        delta_2norm = np.linalg.norm(delta, ord=2)\n",
    "        if delta_2norm < 0.001 or k >= 10000:\n",
    "            break\n",
    "        \n",
    "        #X_ = x - 0.1*delta\n",
    "        X_ = x - alpha*delta\n",
    "        \n",
    "        x = X_\n",
    "        X.append(X_)\n",
    "        k = k + 1\n",
    "        \n",
    "    return X\n",
    "        \n",
    "    "
   ]
  },
  {
   "cell_type": "code",
   "execution_count": 341,
   "id": "4c43d996",
   "metadata": {},
   "outputs": [],
   "source": [
    "X = find_X(A, A_t, b, x0, 0.1)\n",
    "#X"
   ]
  },
  {
   "cell_type": "code",
   "execution_count": 342,
   "id": "7a679a01",
   "metadata": {},
   "outputs": [
    {
     "name": "stdout",
     "output_type": "stream",
     "text": [
      "k=0,    x(k)=[1,1,1,1]\n",
      "k=1,    x(k)=[0.98,0.98,0.98,0.98]\n",
      "k=2,    x(k)=[0.9624,0.9804,0.9744,0.9584]\n",
      "k=3,    x(k)=[0.9427,0.9824,0.9668,0.9433]\n",
      "k=4,    x(k)=[0.9234,0.9866,0.9598,0.9295]\n",
      "k=5,    x(k)=[0.9044,0.9916,0.9526,0.9169]\n",
      "k=272,  x(k)=[0.0666,1.3366,0.4928,0.3251]\n",
      "k=273,  x(k)=[0.0666,1.3366,0.4928,0.325]\n",
      "k=274,  x(k)=[0.0665,1.3366,0.4927,0.325]\n",
      "k=275,  x(k)=[0.0664,1.3367,0.4927,0.3249]\n",
      "k=276,  x(k)=[0.0663,1.3367,0.4927,0.3249]\n"
     ]
    }
   ],
   "source": [
    "length = len(X)\n",
    "\n",
    "for i in range(0,6):\n",
    "    x = X[i].T[0]\n",
    "    print(\"k={},    x(k)=[{},{},{},{}]\".format(i,round(x[0],4) ,round(x[1],4), round(x[2],4), round(x[3],4)))\n",
    "    \n",
    "\n",
    "for j in range(length-5,length):\n",
    "    x = X[j].T[0]\n",
    "    print(\"k={},  x(k)=[{},{},{},{}]\".format(j,round(x[0],4) ,round(x[1],4), round(x[2],4), round(x[3],4)))\n",
    "\n",
    "\n",
    "k=227"
   ]
  },
  {
   "cell_type": "code",
   "execution_count": null,
   "id": "c535a268",
   "metadata": {},
   "outputs": [],
   "source": []
  },
  {
   "cell_type": "code",
   "execution_count": 395,
   "id": "aaf73a31",
   "metadata": {},
   "outputs": [],
   "source": [
    "def find_X(A, A_t, b, x0, alpha):\n",
    "    X = []\n",
    "    X.append(x0)\n",
    "    x = x0\n",
    "    k = 1\n",
    "    while True:\n",
    "        delta = -A_t@b + A_t@A@x + 0.2*x\n",
    "        delta_2norm = np.linalg.norm(delta, ord=2)\n",
    "        if delta_2norm < 0.001 or k >= 10000:\n",
    "            break\n",
    "        \n",
    "        #X_ = x - 0.1*delta\n",
    "        X_ = x - alpha*delta\n",
    "        \n",
    "        if X_[0] == float(\"inf\"):\n",
    "            break\n",
    "        \n",
    "        x = X_\n",
    "        X.append(X_)\n",
    "        k = k + 1\n",
    "        \n",
    "    return X"
   ]
  },
  {
   "cell_type": "code",
   "execution_count": 396,
   "id": "ad69cbd6",
   "metadata": {},
   "outputs": [
    {
     "name": "stderr",
     "output_type": "stream",
     "text": [
      "/var/folders/ps/5d5cgvy91xv6hkty0gc2y0g00000gn/T/ipykernel_41396/1035185866.py:7: RuntimeWarning: overflow encountered in matmul\n",
      "  delta = -A_t@b + A_t@A@x + 0.2*x\n"
     ]
    },
    {
     "data": {
      "text/plain": [
       "[array([[1],\n",
       "        [1],\n",
       "        [1],\n",
       "        [1]]),\n",
       " array([[-1.],\n",
       "        [-1.],\n",
       "        [-1.],\n",
       "        [-1.]]),\n",
       " array([[ 21.],\n",
       "        [201.],\n",
       "        [141.],\n",
       "        [-19.]]),\n",
       " array([[ -4421.],\n",
       "        [-18201.],\n",
       "        [-15941.],\n",
       "        [  8019.]]),\n",
       " array([[  674841.],\n",
       "        [ 1872401.],\n",
       "        [ 1825881.],\n",
       "        [-1282039.]]),\n",
       " array([[-8.96156410e+07],\n",
       "        [-2.06820401e+08],\n",
       "        [-2.13225481e+08],\n",
       "        [ 1.71950039e+08]]),\n",
       " array([[ 1.12408885e+10],\n",
       "        [ 2.37607206e+10],\n",
       "        [ 2.52019732e+10],\n",
       "        [-2.16423901e+10]]),\n",
       " array([[-1.37495730e+12],\n",
       "        [-2.78631567e+12],\n",
       "        [-2.99741004e+12],\n",
       "        [ 2.65107885e+12]]),\n",
       " array([[ 1.66243726e+14],\n",
       "        [ 3.30122019e+14],\n",
       "        [ 3.57602478e+14],\n",
       "        [-3.20749987e+14]]),\n",
       " array([[-1.99908628e+16],\n",
       "        [-3.93114794e+16],\n",
       "        [-4.27275440e+16],\n",
       "        [ 3.85823555e+16]]),\n",
       " array([[ 2.39766902e+18],\n",
       "        [ 4.69283419e+18],\n",
       "        [ 5.10894321e+18],\n",
       "        [-4.62819068e+18]]),\n",
       " array([[-2.87214544e+20],\n",
       "        [-5.60879211e+20],\n",
       "        [-6.11091882e+20],\n",
       "        [ 5.54446340e+20]]),\n",
       " array([[ 3.43846066e+22],\n",
       "        [ 6.70739160e+22],\n",
       "        [ 7.31063901e+22],\n",
       "        [-6.63792116e+22]]),\n",
       " array([[-4.11525615e+24],\n",
       "        [-8.02340266e+24],\n",
       "        [-8.74660495e+24],\n",
       "        [ 7.94460097e+24]]),\n",
       " array([[ 4.92458484e+26],\n",
       "        [ 9.59890331e+26],\n",
       "        [ 1.04650355e+27],\n",
       "        [-9.50710519e+26]]),\n",
       " array([[-5.89268825e+28],\n",
       "        [-1.14845142e+29],\n",
       "        [-1.25213195e+29],\n",
       "        [ 1.13761106e+29]]),\n",
       " array([[ 7.05088108e+30],\n",
       "        [ 1.37409613e+31],\n",
       "        [ 1.49817806e+31],\n",
       "        [-1.36120812e+31]]),\n",
       " array([[-8.43658358e+32],\n",
       "        [-1.64409949e+33],\n",
       "        [-1.79258051e+33],\n",
       "        [ 1.62872642e+33]]),\n",
       " array([[ 1.00945418e+35],\n",
       "        [ 1.96717137e+35],\n",
       "        [ 2.14483962e+35],\n",
       "        [-1.94880472e+35]]),\n",
       " array([[-1.20782789e+37],\n",
       "        [-2.35373627e+37],\n",
       "        [-2.56632359e+37],\n",
       "        [ 2.33177616e+37]]),\n",
       " array([[ 1.44518269e+39],\n",
       "        [ 2.81626897e+39],\n",
       "        [ 3.07063518e+39],\n",
       "        [-2.79000253e+39]]),\n",
       " array([[-1.72917954e+41],\n",
       "        [-3.36969666e+41],\n",
       "        [-3.67405056e+41],\n",
       "        [ 3.33827380e+41]]),\n",
       " array([[ 2.06898457e+43],\n",
       "        [ 4.03188052e+43],\n",
       "        [ 4.39604454e+43],\n",
       "        [-3.99428571e+43]]),\n",
       " array([[-2.47556498e+45],\n",
       "        [-4.82419196e+45],\n",
       "        [-5.25991910e+45],\n",
       "        [ 4.77921107e+45]]),\n",
       " array([[ 2.96204307e+47],\n",
       "        [ 5.77220234e+47],\n",
       "        [ 6.29355534e+47],\n",
       "        [-5.71838317e+47]]),\n",
       " array([[-3.54411977e+49],\n",
       "        [-6.90650819e+49],\n",
       "        [-7.53031342e+49],\n",
       "        [ 6.84211349e+49]]),\n",
       " array([[ 4.24058136e+51],\n",
       "        [ 8.26371869e+51],\n",
       "        [ 9.01010914e+51],\n",
       "        [-8.18667001e+51]]),\n",
       " array([[-5.07390587e+53],\n",
       "        [-9.88763720e+53],\n",
       "        [-1.07807023e+54],\n",
       "        [ 9.79544772e+53]]),\n",
       " array([[ 6.07098850e+55],\n",
       "        [ 1.18306750e+56],\n",
       "        [ 1.28992379e+56],\n",
       "        [-1.17203693e+56]]),\n",
       " array([[-7.26400966e+57],\n",
       "        [-1.41555427e+58],\n",
       "        [-1.54340910e+58],\n",
       "        [ 1.40235607e+58]]),\n",
       " array([[ 8.69147360e+59],\n",
       "        [ 1.69372745e+60],\n",
       "        [ 1.84670726e+60],\n",
       "        [-1.67793565e+60]]),\n",
       " array([[-1.03994511e+62],\n",
       "        [-2.02656495e+62],\n",
       "        [-2.20960711e+62],\n",
       "        [ 2.00766988e+62]]),\n",
       " array([[ 1.24430664e+64],\n",
       "        [ 2.42480896e+64],\n",
       "        [ 2.64382108e+64],\n",
       "        [-2.40220079e+64]]),\n",
       " array([[-1.48882764e+66],\n",
       "        [-2.90131264e+66],\n",
       "        [-3.16336324e+66],\n",
       "        [ 2.87426169e+66]]),\n",
       " array([[ 1.78139990e+68],\n",
       "        [ 3.47145494e+68],\n",
       "        [ 3.78500158e+68],\n",
       "        [-3.43908816e+68]]),\n",
       " array([[-2.13146608e+70],\n",
       "        [-4.15363695e+70],\n",
       "        [-4.52879922e+70],\n",
       "        [ 4.11490971e+70]]),\n",
       " array([[ 2.55032441e+72],\n",
       "        [ 4.96987581e+72],\n",
       "        [ 5.41876190e+72],\n",
       "        [-4.92353821e+72]]),\n",
       " array([[-3.05149336e+74],\n",
       "        [-5.94651526e+74],\n",
       "        [-6.48361280e+74],\n",
       "        [ 5.89107178e+74]]),\n",
       " array([[ 3.65114795e+76],\n",
       "        [ 7.11507594e+76],\n",
       "        [ 7.75771950e+76],\n",
       "        [-7.04873716e+76]]),\n",
       " array([[-4.36864176e+78],\n",
       "        [-8.51327264e+78],\n",
       "        [-9.28220327e+78],\n",
       "        [ 8.43389750e+78]]),\n",
       " array([[ 5.22713161e+80],\n",
       "        [ 1.01862315e+81],\n",
       "        [ 1.11062661e+81],\n",
       "        [-1.00912582e+81]]),\n",
       " array([[-6.25432488e+82],\n",
       "        [-1.21879467e+83],\n",
       "        [-1.32887790e+83],\n",
       "        [ 1.20743100e+83]]),\n",
       " array([[ 7.48337379e+84],\n",
       "        [ 1.45830226e+85],\n",
       "        [ 1.59001814e+85],\n",
       "        [-1.44470549e+85]]),\n",
       " array([[-8.95394538e+86],\n",
       "        [-1.74487592e+87],\n",
       "        [-1.90247554e+87],\n",
       "        [ 1.72860723e+87]]),\n",
       " array([[ 1.07135017e+89],\n",
       "        [ 2.08776471e+89],\n",
       "        [ 2.27633452e+89],\n",
       "        [-2.06829903e+89]]),\n",
       " array([[-1.28188317e+91],\n",
       "        [-2.49803520e+91],\n",
       "        [-2.72366121e+91],\n",
       "        [ 2.47474428e+91]]),\n",
       " array([[ 1.53378839e+93],\n",
       "        [ 2.98892870e+93],\n",
       "        [ 3.25889290e+93],\n",
       "        [-2.96106085e+93]]),\n",
       " array([[-1.83519598e+95],\n",
       "        [-3.57628859e+95],\n",
       "        [-3.89930395e+95],\n",
       "        [ 3.54294437e+95]]),\n",
       " array([[ 2.19583372e+97],\n",
       "        [ 4.27907166e+97],\n",
       "        [ 4.66556336e+97],\n",
       "        [-4.23917491e+97]]),\n",
       " array([[-2.62734106e+99],\n",
       "        [-5.11995992e+99],\n",
       "        [-5.58240182e+99],\n",
       "        [ 5.07222298e+99]]),\n",
       " array([[ 3.14364469e+101],\n",
       "        [ 6.12609268e+101],\n",
       "        [ 6.67940990e+101],\n",
       "        [-6.06897488e+101]]),\n",
       " array([[-3.76140811e+103],\n",
       "        [-7.32994245e+103],\n",
       "        [-7.99199305e+103],\n",
       "        [ 7.26160032e+103]]),\n",
       " array([[ 4.50056935e+105],\n",
       "        [ 8.77036296e+105],\n",
       "        [ 9.56251434e+105],\n",
       "        [-8.68859079e+105]]),\n",
       " array([[-5.38498453e+107],\n",
       "        [-1.04938432e+108],\n",
       "        [-1.14416617e+108],\n",
       "        [ 1.03960018e+108]]),\n",
       " array([[ 6.44319777e+109],\n",
       "        [ 1.25560076e+110],\n",
       "        [ 1.36900837e+110],\n",
       "        [-1.24389393e+110]]),\n",
       " array([[-7.70936244e+111],\n",
       "        [-1.50234118e+112],\n",
       "        [-1.63803473e+112],\n",
       "        [ 1.48833382e+112]]),\n",
       " array([[ 9.22434347e+113],\n",
       "        [ 1.79756902e+114],\n",
       "        [ 1.95992795e+114],\n",
       "        [-1.78080904e+114]]),\n",
       " array([[-1.10370362e+116],\n",
       "        [-2.15081262e+116],\n",
       "        [-2.34507701e+116],\n",
       "        [ 2.13075911e+116]]),\n",
       " array([[ 1.32059446e+118],\n",
       "        [ 2.57347278e+118],\n",
       "        [ 2.80591242e+118],\n",
       "        [-2.54947851e+118]]),\n",
       " array([[-1.58010691e+120],\n",
       "        [-3.07919066e+120],\n",
       "        [-3.35730744e+120],\n",
       "        [ 3.05048123e+120]]),\n",
       " array([[ 1.89061663e+122],\n",
       "        [ 3.68428809e+122],\n",
       "        [ 4.01705812e+122],\n",
       "        [-3.64993692e+122]]),\n",
       " array([[-2.26214519e+124],\n",
       "        [-4.40829434e+124],\n",
       "        [-4.80645761e+124],\n",
       "        [ 4.36719275e+124]]),\n",
       " array([[ 2.70668351e+126],\n",
       "        [ 5.27457639e+126],\n",
       "        [ 5.75098346e+126],\n",
       "        [-5.22539785e+126]]),\n",
       " array([[-3.23857888e+128],\n",
       "        [-6.31109312e+128],\n",
       "        [-6.88111983e+128],\n",
       "        [ 6.25225042e+128]]),\n",
       " array([[ 3.87499799e+130],\n",
       "        [ 7.55129766e+130],\n",
       "        [ 8.23334137e+130],\n",
       "        [-7.48089168e+130]]),\n",
       " array([[-4.63648099e+132],\n",
       "        [-9.03521709e+132],\n",
       "        [-9.85129047e+132],\n",
       "        [ 8.95097550e+132]]),\n",
       " array([[ 5.54760441e+134],\n",
       "        [ 1.08107443e+135],\n",
       "        [ 1.17871857e+135],\n",
       "        [-1.07099482e+135]]),\n",
       " array([[-6.63777439e+136],\n",
       "        [-1.29351836e+137],\n",
       "        [-1.41035073e+137],\n",
       "        [ 1.28145799e+137]]),\n",
       " array([[ 7.94217567e+138],\n",
       "        [ 1.54771003e+139],\n",
       "        [ 1.68750136e+139],\n",
       "        [-1.53327966e+139]]),\n",
       " array([[-9.50290725e+140],\n",
       "        [-1.85185338e+141],\n",
       "        [-2.01911536e+141],\n",
       "        [ 1.83458727e+141]]),\n",
       " array([[ 1.13703411e+143],\n",
       "        [ 2.21576451e+143],\n",
       "        [ 2.41589544e+143],\n",
       "        [-2.19510540e+143]]),\n",
       " array([[-1.36047478e+145],\n",
       "        [-2.65118848e+145],\n",
       "        [-2.89064751e+145],\n",
       "        [ 2.62646961e+145]]),\n",
       " array([[ 1.62782418e+147],\n",
       "        [ 3.17217841e+147],\n",
       "        [ 3.45869398e+147],\n",
       "        [-3.14260200e+147]]),\n",
       " array([[-1.94771092e+149],\n",
       "        [-3.79554904e+149],\n",
       "        [-4.13836831e+149],\n",
       "        [ 3.76016051e+149]]),\n",
       " array([[ 2.33045918e+151],\n",
       "        [ 4.54141938e+151],\n",
       "        [ 4.95160670e+151],\n",
       "        [-4.49907658e+151]]),\n",
       " array([[-2.78842201e+153],\n",
       "        [-5.43386208e+153],\n",
       "        [-5.92465606e+153],\n",
       "        [ 5.38319842e+153]]),\n",
       " array([[ 3.33637996e+155],\n",
       "        [ 6.50168034e+155],\n",
       "        [ 7.08892115e+155],\n",
       "        [-6.44106066e+155]]),\n",
       " array([[-3.99201814e+157],\n",
       "        [-7.77933753e+157],\n",
       "        [-8.48197812e+157],\n",
       "        [ 7.70680537e+157]]),\n",
       " array([[ 4.77649699e+159],\n",
       "        [ 9.30806949e+159],\n",
       "        [ 1.01487873e+160],\n",
       "        [-9.22128391e+159]]),\n",
       " array([[-5.71513522e+161],\n",
       "        [-1.11372154e+162],\n",
       "        [-1.21431442e+162],\n",
       "        [ 1.10333754e+162]]),\n",
       " array([[ 6.83822698e+163],\n",
       "        [ 1.33258101e+164],\n",
       "        [ 1.45294158e+164],\n",
       "        [-1.32015644e+164]]),\n",
       " array([[-8.18201957e+165],\n",
       "        [-1.59444896e+166],\n",
       "        [-1.73846181e+166],\n",
       "        [ 1.57958281e+166]]),\n",
       " array([[ 9.78988332e+167],\n",
       "        [ 1.90777707e+168],\n",
       "        [ 2.08009015e+168],\n",
       "        [-1.88998954e+168]]),\n",
       " array([[-1.17137113e+170],\n",
       "        [-2.28267786e+170],\n",
       "        [-2.48885250e+170],\n",
       "        [ 2.26139487e+170]]),\n",
       " array([[ 1.40155944e+172],\n",
       "        [ 2.73125110e+172],\n",
       "        [ 2.97794149e+172],\n",
       "        [-2.70578575e+172]]),\n",
       " array([[-1.67698246e+174],\n",
       "        [-3.26797428e+174],\n",
       "        [-3.56314227e+174],\n",
       "        [ 3.23750469e+174]]),\n",
       " array([[ 2.00652938e+176],\n",
       "        [ 3.91016994e+176],\n",
       "        [ 4.26334193e+176],\n",
       "        [-3.87371271e+176]]),\n",
       " array([[-2.40083617e+178],\n",
       "        [-4.67856464e+178],\n",
       "        [-5.10113911e+178],\n",
       "        [ 4.63494314e+178]]),\n",
       " array([[ 2.87262891e+180],\n",
       "        [ 5.59795800e+180],\n",
       "        [ 6.10357336e+180],\n",
       "        [-5.54576436e+180]]),\n",
       " array([[-3.43713452e+182],\n",
       "        [-6.69802305e+182],\n",
       "        [-7.30299782e+182],\n",
       "        [ 6.63557274e+182]]),\n",
       " array([[ 4.11257216e+184],\n",
       "        [ 8.01426392e+184],\n",
       "        [ 8.73812338e+184],\n",
       "        [-7.93954138e+184]]),\n",
       " array([[-4.92074130e+186],\n",
       "        [-9.58916170e+186],\n",
       "        [-1.04552681e+187],\n",
       "        [ 9.49975530e+186]]),\n",
       " array([[ 5.88772524e+188],\n",
       "        [ 1.14735455e+189],\n",
       "        [ 1.25098521e+189],\n",
       "        [-1.13665697e+189]]),\n",
       " array([[-7.04473299e+190],\n",
       "        [-1.37282331e+191],\n",
       "        [-1.49681862e+191],\n",
       "        [ 1.36002353e+191]]),\n",
       " array([[ 8.42910646e+192],\n",
       "        [ 1.64259935e+193],\n",
       "        [ 1.79096121e+193],\n",
       "        [-1.62728426e+193]]),\n",
       " array([[-1.00855257e+195],\n",
       "        [-1.96538958e+195],\n",
       "        [-2.14290630e+195],\n",
       "        [ 1.94706489e+195]]),\n",
       " array([[ 1.20674510e+197],\n",
       "        [ 2.35161191e+197],\n",
       "        [ 2.56401277e+197],\n",
       "        [-2.32968620e+197]]),\n",
       " array([[-1.44388480e+199],\n",
       "        [-2.81373151e+199],\n",
       "        [-3.06787165e+199],\n",
       "        [ 2.78749714e+199]]),\n",
       " array([[ 1.72762526e+201],\n",
       "        [ 3.36666307e+201],\n",
       "        [ 3.67074476e+201],\n",
       "        [-3.33527334e+201]]),\n",
       " array([[-2.06712409e+203],\n",
       "        [-4.02825224e+203],\n",
       "        [-4.39208959e+203],\n",
       "        [ 3.99069405e+203]]),\n",
       " array([[ 2.47333846e+205],\n",
       "        [ 4.81985152e+205],\n",
       "        [ 5.25518721e+205],\n",
       "        [-4.77491270e+205]]),\n",
       " array([[-2.95937876e+207],\n",
       "        [-5.76700942e+207],\n",
       "        [-6.28789374e+207],\n",
       "        [ 5.71323960e+207]]),\n",
       " array([[ 3.54093174e+209],\n",
       "        [ 6.90029508e+209],\n",
       "        [ 7.52353933e+209],\n",
       "        [-6.83595885e+209]]),\n",
       " array([[-4.23676676e+211],\n",
       "        [-8.25628479e+211],\n",
       "        [-9.00200392e+211],\n",
       "        [ 8.17930572e+211]]),\n",
       " array([[ 5.06934161e+213],\n",
       "        [ 9.87874254e+213],\n",
       "        [ 1.07710043e+214],\n",
       "        [-9.78663617e+213]]),\n",
       " array([[-6.06552727e+215],\n",
       "        [-1.18200324e+216],\n",
       "        [-1.28876342e+216],\n",
       "        [ 1.17098261e+216]]),\n",
       " array([[ 7.25747522e+217],\n",
       "        [ 1.41428088e+218],\n",
       "        [ 1.54202070e+218],\n",
       "        [-1.40109456e+218]]),\n",
       " array([[-8.68365506e+219],\n",
       "        [-1.69220383e+220],\n",
       "        [-1.84504603e+220],\n",
       "        [ 1.67642624e+220]]),\n",
       " array([[ 1.03900961e+222],\n",
       "        [ 2.02474192e+222],\n",
       "        [ 2.20761943e+222],\n",
       "        [-2.00586385e+222]]),\n",
       " array([[-1.24318731e+224],\n",
       "        [-2.42262769e+224],\n",
       "        [-2.64144279e+224],\n",
       "        [ 2.40003985e+224]]),\n",
       " array([[ 1.48748834e+226],\n",
       "        [ 2.89870272e+226],\n",
       "        [ 3.16051759e+226],\n",
       "        [-2.87167611e+226]]),\n",
       " array([[-1.77979741e+228],\n",
       "        [-3.46833214e+228],\n",
       "        [-3.78159672e+228],\n",
       "        [ 3.43599448e+228]]),\n",
       " array([[ 2.12954869e+230],\n",
       "        [ 4.14990048e+230],\n",
       "        [ 4.52472527e+230],\n",
       "        [-4.11120809e+230]]),\n",
       " array([[-2.54803022e+232],\n",
       "        [-4.96540508e+232],\n",
       "        [-5.41388738e+232],\n",
       "        [ 4.91910917e+232]]),\n",
       " array([[ 3.04874834e+234],\n",
       "        [ 5.94116599e+234],\n",
       "        [ 6.47778037e+234],\n",
       "        [-5.88577238e+234]]),\n",
       " array([[-3.64786350e+236],\n",
       "        [-7.10867547e+236],\n",
       "        [-7.75074093e+236],\n",
       "        [ 7.04239636e+236]]),\n",
       " array([[ 4.36471188e+238],\n",
       "        [ 8.50561440e+238],\n",
       "        [ 9.27385332e+238],\n",
       "        [-8.42631066e+238]]),\n",
       " array([[-5.22242946e+240],\n",
       "        [-1.01770684e+241],\n",
       "        [-1.10962753e+241],\n",
       "        [ 1.00821805e+241]]),\n",
       " array([[ 6.24869871e+242],\n",
       "        [ 1.21769828e+243],\n",
       "        [ 1.32768249e+243],\n",
       "        [-1.20634484e+243]]),\n",
       " array([[-7.47664201e+244],\n",
       "        [-1.45699042e+245],\n",
       "        [-1.58858782e+245],\n",
       "        [ 1.44340589e+245]]),\n",
       " array([[ 8.94589072e+246],\n",
       "        [ 1.74330629e+247],\n",
       "        [ 1.90076414e+247],\n",
       "        [-1.72705224e+247]]),\n",
       " array([[-1.07038642e+249],\n",
       "        [-2.08588663e+249],\n",
       "        [-2.27428681e+249],\n",
       "        [ 2.06643846e+249]]),\n",
       " array([[ 1.28073003e+251],\n",
       "        [ 2.49578805e+251],\n",
       "        [ 2.72121110e+251],\n",
       "        [-2.47251809e+251]]),\n",
       " array([[-1.53240865e+253],\n",
       "        [-2.98623997e+253],\n",
       "        [-3.25596131e+253],\n",
       "        [ 2.95839718e+253]]),\n",
       " array([[ 1.83354510e+255],\n",
       "        [ 3.57307149e+255],\n",
       "        [ 3.89579628e+255],\n",
       "        [-3.53975727e+255]]),\n",
       " array([[-2.19385843e+257],\n",
       "        [-4.27522235e+257],\n",
       "        [-4.66136639e+257],\n",
       "        [ 4.23536149e+257]]),\n",
       " array([[ 2.62497759e+259],\n",
       "        [ 5.11535418e+259],\n",
       "        [ 5.57738009e+259],\n",
       "        [-5.06766019e+259]]),\n",
       " array([[-3.14081678e+261],\n",
       "        [-6.12058186e+261],\n",
       "        [-6.67340133e+261],\n",
       "        [ 6.06351544e+261]]),\n",
       " array([[ 3.75802447e+263],\n",
       "        [ 7.32334869e+263],\n",
       "        [ 7.98480374e+263],\n",
       "        [-7.25506804e+263]]),\n",
       " array([[-4.49652079e+265],\n",
       "        [-8.76247345e+265],\n",
       "        [-9.55391224e+265],\n",
       "        [ 8.68077484e+265]]),\n",
       " array([[ 5.38014039e+267],\n",
       "        [ 1.04844033e+268],\n",
       "        [ 1.14313692e+268],\n",
       "        [-1.03866499e+268]]),\n",
       " array([[-6.43740169e+269],\n",
       "        [-1.25447127e+270],\n",
       "        [-1.36777686e+270],\n",
       "        [ 1.24277496e+270]]),\n",
       " array([[ 7.70242737e+271],\n",
       "        [ 1.50098973e+272],\n",
       "        [ 1.63656121e+272],\n",
       "        [-1.48699496e+272]]),\n",
       " array([[-9.21604558e+273],\n",
       "        [-1.79595199e+274],\n",
       "        [-1.95816487e+274],\n",
       "        [ 1.77920708e+274]]),\n",
       " array([[ 1.10271077e+276],\n",
       "        [ 2.14887783e+276],\n",
       "        [ 2.34296746e+276],\n",
       "        [-2.12884235e+276]]),\n",
       " array([[-1.31940650e+278],\n",
       "        [-2.57115777e+278],\n",
       "        [-2.80338832e+278],\n",
       "        [ 2.54718508e+278]]),\n",
       " array([[ 1.57868550e+280],\n",
       "        [ 3.07642073e+280],\n",
       "        [ 3.35428733e+280],\n",
       "        [-3.04773712e+280]]),\n",
       " array([[-1.88891590e+282],\n",
       "        [-3.68097383e+282],\n",
       "        [-4.01344451e+282],\n",
       "        [ 3.64665356e+282]]),\n",
       " array([[ 2.26011024e+284],\n",
       "        [ 4.40432879e+284],\n",
       "        [ 4.80213389e+284],\n",
       "        [-4.36326418e+284]]),\n",
       " array([[-2.70424867e+286],\n",
       "        [-5.26983156e+286],\n",
       "        [-5.74581008e+286],\n",
       "        [ 5.22069727e+286]]),\n",
       " array([[ 3.23566557e+288],\n",
       "        [ 6.30541588e+288],\n",
       "        [ 6.87492981e+288],\n",
       "        [-6.24662612e+288]]),\n",
       " array([[-3.87151217e+290],\n",
       "        [-7.54450478e+290],\n",
       "        [-8.22593495e+290],\n",
       "        [ 7.47416213e+290]]),\n",
       " array([[ 4.63231017e+292],\n",
       "        [ 9.02708933e+292],\n",
       "        [ 9.84242859e+292],\n",
       "        [-8.94292352e+292]]),\n",
       " array([[-5.54261398e+294],\n",
       "        [-1.08010193e+295],\n",
       "        [-1.17765824e+295],\n",
       "        [ 1.07003139e+295]]),\n",
       " array([[ 6.63180328e+296],\n",
       "        [ 1.29235475e+297],\n",
       "        [ 1.40908203e+297],\n",
       "        [-1.28030523e+297]]),\n",
       " array([[-7.93503117e+298],\n",
       "        [-1.54631777e+299],\n",
       "        [-1.68598334e+299],\n",
       "        [ 1.53190037e+299]]),\n",
       " array([[ 9.49435877e+300],\n",
       "        [ 1.85018752e+301],\n",
       "        [ 2.01729903e+301],\n",
       "        [-1.83293694e+301]]),\n",
       " array([[-1.13601127e+303],\n",
       "        [-2.21377128e+303],\n",
       "        [-2.41372219e+303],\n",
       "        [ 2.19313076e+303]]),\n",
       " array([[ 1.35925094e+305],\n",
       "        [ 2.64880356e+305],\n",
       "        [ 2.88804718e+305],\n",
       "        [-2.62410693e+305]]),\n",
       " array([[-1.62635985e+307],\n",
       "        [-3.16932483e+307],\n",
       "        [-3.45558266e+307],\n",
       "        [ 3.13977502e+307]])]"
      ]
     },
     "execution_count": 396,
     "metadata": {},
     "output_type": "execute_result"
    }
   ],
   "source": [
    "X = find_X(A, A_t, b, x0, 10)\n",
    "X"
   ]
  },
  {
   "cell_type": "code",
   "execution_count": 397,
   "id": "fbfc519d",
   "metadata": {},
   "outputs": [
    {
     "data": {
      "text/plain": [
       "150"
      ]
     },
     "execution_count": 397,
     "metadata": {},
     "output_type": "execute_result"
    }
   ],
   "source": [
    "len(X)"
   ]
  },
  {
   "cell_type": "code",
   "execution_count": 405,
   "id": "5a48c6df",
   "metadata": {},
   "outputs": [
    {
     "data": {
      "image/png": "[encoded data removed]",
      "text/plain": [
       "<Figure size 432x288 with 1 Axes>"
      ]
     },
     "metadata": {
      "needs_background": "light"
     },
     "output_type": "display_data"
    }
   ],
   "source": [
    "Delta = []\n",
    "for x in X:\n",
    "    delta = x - x_hat\n",
    "    delta_2norm = np.linalg.norm(delta, ord=2) \n",
    "    Delta.append(delta_2norm)\n",
    "\n",
    "k = np.arange(0,150)\n",
    "plt.plot(k,Delta)\n",
    "#plt.axhline(0.001, color = 'red')\n",
    "plt.show()"
   ]
  },
  {
   "cell_type": "markdown",
   "id": "939e9aff",
   "metadata": {},
   "source": [
    "# (d)"
   ]
  },
  {
   "cell_type": "code",
   "execution_count": 127,
   "id": "e54d851c",
   "metadata": {},
   "outputs": [],
   "source": [
    "alphas = 0.0000001, 0.000001, 0.00001, 0.0001, 0.001, 0.01, 0.02, 0.1, 0.15"
   ]
  },
  {
   "cell_type": "code",
   "execution_count": 128,
   "id": "73bd183f",
   "metadata": {},
   "outputs": [
    {
     "data": {
      "text/plain": [
       "array([[0.06285483],\n",
       "       [1.33819951],\n",
       "       [0.49067315],\n",
       "       [0.32238443]])"
      ]
     },
     "execution_count": 128,
     "metadata": {},
     "output_type": "execute_result"
    }
   ],
   "source": [
    "x_hat = inv(A_t@A + 0.2*np.identity(4))@A_t@b\n",
    "x_hat"
   ]
  },
  {
   "cell_type": "code",
   "execution_count": 137,
   "id": "bde5d501",
   "metadata": {},
   "outputs": [],
   "source": [
    "def find_delta(A, A_t, b, x0, x_hat, alpha):\n",
    "    Delta_2norms = []\n",
    "    X = find_X(A, A_t, b, x0, alpha)\n",
    "    #print(\"len is {}\\n\".format(len(X)))\n",
    "    for x in X:\n",
    "        delta = x - x_hat\n",
    "        delta_2norm = np.linalg.norm(delta, ord=2) \n",
    "        Delta_2norms.append(delta_2norm)\n",
    "    del Delta_2norms[0] #delete k = 0, because we need to draw from k=1\n",
    "    return Delta_2norms                "
   ]
  },
  {
   "cell_type": "code",
   "execution_count": 161,
   "id": "3d2a5945",
   "metadata": {},
   "outputs": [],
   "source": [
    "def graphs(A, A_t, b, x0, x_hat, alpha):\n",
    "    Delta_2norms = find_delta(A, A_t, b, x0, x_hat, alpha)\n",
    "    k = np.arange(1,len(Delta_2norms)+1)\n",
    "        \n",
    "    plt.subplot(3,3,i)\n",
    "    plt.plot(k,Delta_2norms)\n",
    "    plt.axhline(0.001, color = 'red')\n",
    "    \n",
    "    plt.xlabel(\"k\")                                    \n",
    "    plt.ylabel(\"Delta_2norm\")\n",
    "    plt.title(\"alpha=\"+str(alpha))\n",
    " "
   ]
  },
  {
   "cell_type": "code",
   "execution_count": 162,
   "id": "ad3e41d0",
   "metadata": {},
   "outputs": [
    {
     "data": {
      "image/png": "[encoded data removed]",
      "text/plain": [
       "<Figure size 432x288 with 9 Axes>"
      ]
     },
     "metadata": {
      "needs_background": "light"
     },
     "output_type": "display_data"
    }
   ],
   "source": [
    "i = 1\n",
    "for alpha in alphas:\n",
    "    plt.subplot(3,3,i)\n",
    "    graphs(A, A_t, b, x0, x_hat, alpha)\n",
    "    i = i + 1\n",
    "\n",
    "plt.tight_layout()\n",
    "plt.show()\n",
    "    \n",
    "   "
   ]
  },
  {
   "cell_type": "markdown",
   "id": "6dd6d12f",
   "metadata": {},
   "source": [
    "Delta_2norms = find_delta(A, A_t, b, x0, x_hat, 10) \n",
    "\n",
    "Delta_2norms\n",
    "#k = np.arange(1,len(Delta_2norms)+1)\n",
    "\n",
    "#plt.plot(k,Delta_2norms)\n",
    "#plt.axhline(0.001, color = 'red')\n",
    "#plt.show()"
   ]
  },
  {
   "cell_type": "markdown",
   "id": "0c84b4c4",
   "metadata": {},
   "source": [
    "### Comment on your results. What effect does changing the step-size have? What would you expect as you take the step-size to be increasingly large (α = 10 for example). "
   ]
  },
  {
   "cell_type": "markdown",
   "id": "e604a05f",
   "metadata": {},
   "source": [
    "Step size determines how much we will move in each step.\n",
    "\n",
    "For example, if the step size is too small such as 1e-07, 1e-06, 1e-05, then the y(Delta_2norm) changes very slowly. So it's not cost-effective. And it will take a long time to find a global minimum.\n",
    "\n",
    "In contrast, if the step size is too big such as 10, then it moves fast. \n",
    "But, it could pass the global minimum so that we cannot find the minimum point.\n",
    "\n",
    "In conclusion, it is important to find proper alpha, so we could find the minimum point effectively."
   ]
  },
  {
   "cell_type": "markdown",
   "id": "5c8bc673",
   "metadata": {},
   "source": [
    "\n",
    "\n",
    "\n",
    "\n",
    "\n",
    "Step size determines how much we will move in each step.\n",
    "If the step size is too small, It moves very little in one step.\n",
    "So y changes very slowly. \n",
    "For example, when alphas are 1e-07, 1e-06, 1e-05, it's hard to observe the change in the value of y.\n",
    "The red lines are almost straight.\n",
    "Thus, it's not cost-effective and it will take a long time to find a global minimum.\n",
    "\n",
    "In contrast, if the step size is too big such as 10, then it moves fast. \n",
    "Hence, in the beginning, y will decrease quickly.\n",
    "However, it will rapidly get bigger again as time goes and skip the global minimum.\n",
    "\n",
    "In conclusion, it is important to find proper alpha which is not too big and not too small, so we could find the minimum point effectively.\n",
    "For example, when alphas are 0.01, 0.02, 0.1, 0.15, y changes at an appropriate speed.\n",
    "So we can observe that y converges to 0 from the graphs."
   ]
  },
  {
   "cell_type": "markdown",
   "id": "7e0455a0",
   "metadata": {},
   "source": [
    "# (e)"
   ]
  },
  {
   "cell_type": "markdown",
   "id": "55c69235",
   "metadata": {},
   "source": [
    "We first need to preprocess the data. \n",
    "### 1. Remove all categorical features. "
   ]
  },
  {
   "cell_type": "code",
   "execution_count": 348,
   "id": "b7ba89b6",
   "metadata": {},
   "outputs": [
    {
     "data": {
      "text/html": [
       "<div>\n",
       "<style scoped>\n",
       "    .dataframe tbody tr th:only-of-type {\n",
       "        vertical-align: middle;\n",
       "    }\n",
       "\n",
       "    .dataframe tbody tr th {\n",
       "        vertical-align: top;\n",
       "    }\n",
       "\n",
       "    .dataframe thead th {\n",
       "        text-align: right;\n",
       "    }\n",
       "</style>\n",
       "<table border=\"1\" class=\"dataframe\">\n",
       "  <thead>\n",
       "    <tr style=\"text-align: right;\">\n",
       "      <th></th>\n",
       "      <th>Sales</th>\n",
       "      <th>CompPrice</th>\n",
       "      <th>Income</th>\n",
       "      <th>Advertising</th>\n",
       "      <th>Population</th>\n",
       "      <th>Price</th>\n",
       "      <th>ShelveLoc</th>\n",
       "      <th>Age</th>\n",
       "      <th>Education</th>\n",
       "      <th>Urban</th>\n",
       "      <th>US</th>\n",
       "    </tr>\n",
       "  </thead>\n",
       "  <tbody>\n",
       "    <tr>\n",
       "      <th>0</th>\n",
       "      <td>9.50</td>\n",
       "      <td>138</td>\n",
       "      <td>73</td>\n",
       "      <td>11</td>\n",
       "      <td>276</td>\n",
       "      <td>120</td>\n",
       "      <td>Bad</td>\n",
       "      <td>42</td>\n",
       "      <td>17</td>\n",
       "      <td>Yes</td>\n",
       "      <td>Yes</td>\n",
       "    </tr>\n",
       "    <tr>\n",
       "      <th>1</th>\n",
       "      <td>11.22</td>\n",
       "      <td>111</td>\n",
       "      <td>48</td>\n",
       "      <td>16</td>\n",
       "      <td>260</td>\n",
       "      <td>83</td>\n",
       "      <td>Good</td>\n",
       "      <td>65</td>\n",
       "      <td>10</td>\n",
       "      <td>Yes</td>\n",
       "      <td>Yes</td>\n",
       "    </tr>\n",
       "    <tr>\n",
       "      <th>2</th>\n",
       "      <td>10.06</td>\n",
       "      <td>113</td>\n",
       "      <td>35</td>\n",
       "      <td>10</td>\n",
       "      <td>269</td>\n",
       "      <td>80</td>\n",
       "      <td>Medium</td>\n",
       "      <td>59</td>\n",
       "      <td>12</td>\n",
       "      <td>Yes</td>\n",
       "      <td>Yes</td>\n",
       "    </tr>\n",
       "    <tr>\n",
       "      <th>3</th>\n",
       "      <td>7.40</td>\n",
       "      <td>117</td>\n",
       "      <td>100</td>\n",
       "      <td>4</td>\n",
       "      <td>466</td>\n",
       "      <td>97</td>\n",
       "      <td>Medium</td>\n",
       "      <td>55</td>\n",
       "      <td>14</td>\n",
       "      <td>Yes</td>\n",
       "      <td>Yes</td>\n",
       "    </tr>\n",
       "    <tr>\n",
       "      <th>4</th>\n",
       "      <td>4.15</td>\n",
       "      <td>141</td>\n",
       "      <td>64</td>\n",
       "      <td>3</td>\n",
       "      <td>340</td>\n",
       "      <td>128</td>\n",
       "      <td>Bad</td>\n",
       "      <td>38</td>\n",
       "      <td>13</td>\n",
       "      <td>Yes</td>\n",
       "      <td>No</td>\n",
       "    </tr>\n",
       "  </tbody>\n",
       "</table>\n",
       "</div>"
      ],
      "text/plain": [
       "   Sales  CompPrice  Income  Advertising  Population  Price ShelveLoc  Age  \\\n",
       "0   9.50        138      73           11         276    120       Bad   42   \n",
       "1  11.22        111      48           16         260     83      Good   65   \n",
       "2  10.06        113      35           10         269     80    Medium   59   \n",
       "3   7.40        117     100            4         466     97    Medium   55   \n",
       "4   4.15        141      64            3         340    128       Bad   38   \n",
       "\n",
       "   Education Urban   US  \n",
       "0         17   Yes  Yes  \n",
       "1         10   Yes  Yes  \n",
       "2         12   Yes  Yes  \n",
       "3         14   Yes  Yes  \n",
       "4         13   Yes   No  "
      ]
     },
     "execution_count": 348,
     "metadata": {},
     "output_type": "execute_result"
    }
   ],
   "source": [
    "data = pd.read_csv('CarSeats.csv')\n",
    "data.head()"
   ]
  },
  {
   "cell_type": "code",
   "execution_count": 349,
   "id": "e54ad016",
   "metadata": {},
   "outputs": [
    {
     "data": {
      "text/html": [
       "<div>\n",
       "<style scoped>\n",
       "    .dataframe tbody tr th:only-of-type {\n",
       "        vertical-align: middle;\n",
       "    }\n",
       "\n",
       "    .dataframe tbody tr th {\n",
       "        vertical-align: top;\n",
       "    }\n",
       "\n",
       "    .dataframe thead th {\n",
       "        text-align: right;\n",
       "    }\n",
       "</style>\n",
       "<table border=\"1\" class=\"dataframe\">\n",
       "  <thead>\n",
       "    <tr style=\"text-align: right;\">\n",
       "      <th></th>\n",
       "      <th>Sales</th>\n",
       "      <th>CompPrice</th>\n",
       "      <th>Income</th>\n",
       "      <th>Advertising</th>\n",
       "      <th>Population</th>\n",
       "      <th>Price</th>\n",
       "      <th>Age</th>\n",
       "      <th>Education</th>\n",
       "    </tr>\n",
       "  </thead>\n",
       "  <tbody>\n",
       "    <tr>\n",
       "      <th>0</th>\n",
       "      <td>9.50</td>\n",
       "      <td>138</td>\n",
       "      <td>73</td>\n",
       "      <td>11</td>\n",
       "      <td>276</td>\n",
       "      <td>120</td>\n",
       "      <td>42</td>\n",
       "      <td>17</td>\n",
       "    </tr>\n",
       "    <tr>\n",
       "      <th>1</th>\n",
       "      <td>11.22</td>\n",
       "      <td>111</td>\n",
       "      <td>48</td>\n",
       "      <td>16</td>\n",
       "      <td>260</td>\n",
       "      <td>83</td>\n",
       "      <td>65</td>\n",
       "      <td>10</td>\n",
       "    </tr>\n",
       "    <tr>\n",
       "      <th>2</th>\n",
       "      <td>10.06</td>\n",
       "      <td>113</td>\n",
       "      <td>35</td>\n",
       "      <td>10</td>\n",
       "      <td>269</td>\n",
       "      <td>80</td>\n",
       "      <td>59</td>\n",
       "      <td>12</td>\n",
       "    </tr>\n",
       "    <tr>\n",
       "      <th>3</th>\n",
       "      <td>7.40</td>\n",
       "      <td>117</td>\n",
       "      <td>100</td>\n",
       "      <td>4</td>\n",
       "      <td>466</td>\n",
       "      <td>97</td>\n",
       "      <td>55</td>\n",
       "      <td>14</td>\n",
       "    </tr>\n",
       "    <tr>\n",
       "      <th>4</th>\n",
       "      <td>4.15</td>\n",
       "      <td>141</td>\n",
       "      <td>64</td>\n",
       "      <td>3</td>\n",
       "      <td>340</td>\n",
       "      <td>128</td>\n",
       "      <td>38</td>\n",
       "      <td>13</td>\n",
       "    </tr>\n",
       "  </tbody>\n",
       "</table>\n",
       "</div>"
      ],
      "text/plain": [
       "   Sales  CompPrice  Income  Advertising  Population  Price  Age  Education\n",
       "0   9.50        138      73           11         276    120   42         17\n",
       "1  11.22        111      48           16         260     83   65         10\n",
       "2  10.06        113      35           10         269     80   59         12\n",
       "3   7.40        117     100            4         466     97   55         14\n",
       "4   4.15        141      64            3         340    128   38         13"
      ]
     },
     "execution_count": 349,
     "metadata": {},
     "output_type": "execute_result"
    }
   ],
   "source": [
    "categorical_predictors = ['ShelveLoc','Urban','US']\n",
    "numerical_data = data.drop(categorical_predictors, axis=1)\n",
    "numerical_data.head()"
   ]
  },
  {
   "cell_type": "code",
   "execution_count": 350,
   "id": "1196cae9",
   "metadata": {},
   "outputs": [
    {
     "data": {
      "text/plain": [
       "Sales            7.496325\n",
       "CompPrice      124.975000\n",
       "Income          68.657500\n",
       "Advertising      6.635000\n",
       "Population     264.840000\n",
       "Price          115.795000\n",
       "Age             53.322500\n",
       "Education       13.900000\n",
       "dtype: float64"
      ]
     },
     "execution_count": 350,
     "metadata": {},
     "output_type": "execute_result"
    }
   ],
   "source": [
    "numerical_data.mean()"
   ]
  },
  {
   "cell_type": "code",
   "execution_count": 351,
   "id": "fae6a70b",
   "metadata": {},
   "outputs": [
    {
     "data": {
      "text/plain": [
       "Sales            2.824115\n",
       "CompPrice       15.334512\n",
       "Income          27.986037\n",
       "Advertising      6.650364\n",
       "Population     147.376436\n",
       "Price           23.676664\n",
       "Age             16.200297\n",
       "Education        2.620528\n",
       "dtype: float64"
      ]
     },
     "execution_count": 351,
     "metadata": {},
     "output_type": "execute_result"
    }
   ],
   "source": [
    "numerical_data.std()"
   ]
  },
  {
   "cell_type": "markdown",
   "id": "744ab550",
   "metadata": {},
   "source": [
    "### 2. Then use sklearn.preprocessing.StandardScaler to standardize the remaining features. "
   ]
  },
  {
   "cell_type": "code",
   "execution_count": 352,
   "id": "c0dcef3b",
   "metadata": {},
   "outputs": [
    {
     "name": "stdout",
     "output_type": "stream",
     "text": [
      "['CompPrice', 'Income', 'Advertising', 'Population', 'Price', 'Age', 'Education']\n"
     ]
    }
   ],
   "source": [
    "response = ['Sales']\n",
    "predictors=[x for x in list(numerical_data.columns) if x not in response]\n",
    "print(predictors)"
   ]
  },
  {
   "cell_type": "code",
   "execution_count": 353,
   "id": "8464f89b",
   "metadata": {},
   "outputs": [],
   "source": [
    "from sklearn.preprocessing import StandardScaler"
   ]
  },
  {
   "cell_type": "code",
   "execution_count": 354,
   "id": "85ea676f",
   "metadata": {},
   "outputs": [
    {
     "data": {
      "text/html": [
       "<div>\n",
       "<style scoped>\n",
       "    .dataframe tbody tr th:only-of-type {\n",
       "        vertical-align: middle;\n",
       "    }\n",
       "\n",
       "    .dataframe tbody tr th {\n",
       "        vertical-align: top;\n",
       "    }\n",
       "\n",
       "    .dataframe thead th {\n",
       "        text-align: right;\n",
       "    }\n",
       "</style>\n",
       "<table border=\"1\" class=\"dataframe\">\n",
       "  <thead>\n",
       "    <tr style=\"text-align: right;\">\n",
       "      <th></th>\n",
       "      <th>CompPrice</th>\n",
       "      <th>Income</th>\n",
       "      <th>Advertising</th>\n",
       "      <th>Population</th>\n",
       "      <th>Price</th>\n",
       "      <th>Age</th>\n",
       "      <th>Education</th>\n",
       "    </tr>\n",
       "  </thead>\n",
       "  <tbody>\n",
       "    <tr>\n",
       "      <th>0</th>\n",
       "      <td>0.850455</td>\n",
       "      <td>0.155361</td>\n",
       "      <td>0.657177</td>\n",
       "      <td>0.075819</td>\n",
       "      <td>0.177823</td>\n",
       "      <td>-0.699782</td>\n",
       "      <td>1.184449</td>\n",
       "    </tr>\n",
       "    <tr>\n",
       "      <th>1</th>\n",
       "      <td>-0.912484</td>\n",
       "      <td>-0.739060</td>\n",
       "      <td>1.409957</td>\n",
       "      <td>-0.032882</td>\n",
       "      <td>-1.386854</td>\n",
       "      <td>0.721723</td>\n",
       "      <td>-1.490113</td>\n",
       "    </tr>\n",
       "    <tr>\n",
       "      <th>2</th>\n",
       "      <td>-0.781896</td>\n",
       "      <td>-1.204159</td>\n",
       "      <td>0.506621</td>\n",
       "      <td>0.028262</td>\n",
       "      <td>-1.513719</td>\n",
       "      <td>0.350895</td>\n",
       "      <td>-0.725953</td>\n",
       "    </tr>\n",
       "    <tr>\n",
       "      <th>3</th>\n",
       "      <td>-0.520720</td>\n",
       "      <td>1.121336</td>\n",
       "      <td>-0.396715</td>\n",
       "      <td>1.366649</td>\n",
       "      <td>-0.794814</td>\n",
       "      <td>0.103677</td>\n",
       "      <td>0.038208</td>\n",
       "    </tr>\n",
       "    <tr>\n",
       "      <th>4</th>\n",
       "      <td>1.046337</td>\n",
       "      <td>-0.166631</td>\n",
       "      <td>-0.547271</td>\n",
       "      <td>0.510625</td>\n",
       "      <td>0.516132</td>\n",
       "      <td>-0.947000</td>\n",
       "      <td>-0.343872</td>\n",
       "    </tr>\n",
       "    <tr>\n",
       "      <th>...</th>\n",
       "      <td>...</td>\n",
       "      <td>...</td>\n",
       "      <td>...</td>\n",
       "      <td>...</td>\n",
       "      <td>...</td>\n",
       "      <td>...</td>\n",
       "      <td>...</td>\n",
       "    </tr>\n",
       "    <tr>\n",
       "      <th>395</th>\n",
       "      <td>0.850455</td>\n",
       "      <td>1.407551</td>\n",
       "      <td>1.560513</td>\n",
       "      <td>-0.420131</td>\n",
       "      <td>0.516132</td>\n",
       "      <td>-1.256023</td>\n",
       "      <td>0.038208</td>\n",
       "    </tr>\n",
       "    <tr>\n",
       "      <th>396</th>\n",
       "      <td>0.915749</td>\n",
       "      <td>-1.633482</td>\n",
       "      <td>-0.547271</td>\n",
       "      <td>-1.547909</td>\n",
       "      <td>0.177823</td>\n",
       "      <td>0.103677</td>\n",
       "      <td>-1.108033</td>\n",
       "    </tr>\n",
       "    <tr>\n",
       "      <th>397</th>\n",
       "      <td>2.417512</td>\n",
       "      <td>-1.526151</td>\n",
       "      <td>0.807733</td>\n",
       "      <td>0.700853</td>\n",
       "      <td>1.827078</td>\n",
       "      <td>-0.823391</td>\n",
       "      <td>1.566529</td>\n",
       "    </tr>\n",
       "    <tr>\n",
       "      <th>398</th>\n",
       "      <td>-1.630719</td>\n",
       "      <td>0.370022</td>\n",
       "      <td>0.054953</td>\n",
       "      <td>0.130170</td>\n",
       "      <td>-0.879391</td>\n",
       "      <td>-0.205346</td>\n",
       "      <td>-0.725953</td>\n",
       "    </tr>\n",
       "    <tr>\n",
       "      <th>399</th>\n",
       "      <td>0.589279</td>\n",
       "      <td>-1.132606</td>\n",
       "      <td>-0.998939</td>\n",
       "      <td>-1.615848</td>\n",
       "      <td>0.177823</td>\n",
       "      <td>-0.267150</td>\n",
       "      <td>0.802369</td>\n",
       "    </tr>\n",
       "  </tbody>\n",
       "</table>\n",
       "<p>400 rows × 7 columns</p>\n",
       "</div>"
      ],
      "text/plain": [
       "     CompPrice    Income  Advertising  Population     Price       Age  \\\n",
       "0     0.850455  0.155361     0.657177    0.075819  0.177823 -0.699782   \n",
       "1    -0.912484 -0.739060     1.409957   -0.032882 -1.386854  0.721723   \n",
       "2    -0.781896 -1.204159     0.506621    0.028262 -1.513719  0.350895   \n",
       "3    -0.520720  1.121336    -0.396715    1.366649 -0.794814  0.103677   \n",
       "4     1.046337 -0.166631    -0.547271    0.510625  0.516132 -0.947000   \n",
       "..         ...       ...          ...         ...       ...       ...   \n",
       "395   0.850455  1.407551     1.560513   -0.420131  0.516132 -1.256023   \n",
       "396   0.915749 -1.633482    -0.547271   -1.547909  0.177823  0.103677   \n",
       "397   2.417512 -1.526151     0.807733    0.700853  1.827078 -0.823391   \n",
       "398  -1.630719  0.370022     0.054953    0.130170 -0.879391 -0.205346   \n",
       "399   0.589279 -1.132606    -0.998939   -1.615848  0.177823 -0.267150   \n",
       "\n",
       "     Education  \n",
       "0     1.184449  \n",
       "1    -1.490113  \n",
       "2    -0.725953  \n",
       "3     0.038208  \n",
       "4    -0.343872  \n",
       "..         ...  \n",
       "395   0.038208  \n",
       "396  -1.108033  \n",
       "397   1.566529  \n",
       "398  -0.725953  \n",
       "399   0.802369  \n",
       "\n",
       "[400 rows x 7 columns]"
      ]
     },
     "execution_count": 354,
     "metadata": {},
     "output_type": "execute_result"
    }
   ],
   "source": [
    "# *******이거 잘한거 맞는지 체크하기\n",
    "scaler = StandardScaler()\n",
    "numerical_data[predictors] = scaler.fit_transform(numerical_data[predictors])\n",
    "numerical_data[predictors]"
   ]
  },
  {
   "cell_type": "markdown",
   "id": "a2f213f8",
   "metadata": {},
   "source": [
    "### 3. Print out the mean and variance of each of the standardized features. "
   ]
  },
  {
   "cell_type": "code",
   "execution_count": 198,
   "id": "d3d93f5b",
   "metadata": {},
   "outputs": [
    {
     "data": {
      "text/plain": [
       "CompPrice      3.483325e-16\n",
       "Income         5.162537e-17\n",
       "Advertising   -6.161738e-17\n",
       "Population     1.454392e-16\n",
       "Price         -6.994405e-17\n",
       "Age            1.786071e-16\n",
       "Education     -2.534084e-16\n",
       "dtype: float64"
      ]
     },
     "execution_count": 198,
     "metadata": {},
     "output_type": "execute_result"
    }
   ],
   "source": [
    "numerical_data[predictors].mean()"
   ]
  },
  {
   "cell_type": "code",
   "execution_count": 199,
   "id": "dfb9328d",
   "metadata": {},
   "outputs": [
    {
     "data": {
      "text/plain": [
       "CompPrice      1.001252\n",
       "Income         1.001252\n",
       "Advertising    1.001252\n",
       "Population     1.001252\n",
       "Price          1.001252\n",
       "Age            1.001252\n",
       "Education      1.001252\n",
       "dtype: float64"
      ]
     },
     "execution_count": 199,
     "metadata": {},
     "output_type": "execute_result"
    }
   ],
   "source": [
    "numerical_data[predictors].std()"
   ]
  },
  {
   "cell_type": "code",
   "execution_count": 343,
   "id": "579bbea2",
   "metadata": {},
   "outputs": [
    {
     "data": {
      "text/plain": [
       "CompPrice      1.002506\n",
       "Income         1.002506\n",
       "Advertising    1.002506\n",
       "Population     1.002506\n",
       "Price          1.002506\n",
       "Age            1.002506\n",
       "Education      1.002506\n",
       "dtype: float64"
      ]
     },
     "execution_count": 343,
     "metadata": {},
     "output_type": "execute_result"
    }
   ],
   "source": [
    "numerical_data[predictors].var()"
   ]
  },
  {
   "cell_type": "markdown",
   "id": "df8accdd",
   "metadata": {},
   "source": [
    "### 4. Next, center the target variable (sub- tract its mean)."
   ]
  },
  {
   "cell_type": "code",
   "execution_count": 355,
   "id": "9bbfe054",
   "metadata": {},
   "outputs": [
    {
     "data": {
      "text/html": [
       "<div>\n",
       "<style scoped>\n",
       "    .dataframe tbody tr th:only-of-type {\n",
       "        vertical-align: middle;\n",
       "    }\n",
       "\n",
       "    .dataframe tbody tr th {\n",
       "        vertical-align: top;\n",
       "    }\n",
       "\n",
       "    .dataframe thead th {\n",
       "        text-align: right;\n",
       "    }\n",
       "</style>\n",
       "<table border=\"1\" class=\"dataframe\">\n",
       "  <thead>\n",
       "    <tr style=\"text-align: right;\">\n",
       "      <th></th>\n",
       "      <th>Sales</th>\n",
       "    </tr>\n",
       "  </thead>\n",
       "  <tbody>\n",
       "    <tr>\n",
       "      <th>0</th>\n",
       "      <td>2.003675</td>\n",
       "    </tr>\n",
       "    <tr>\n",
       "      <th>1</th>\n",
       "      <td>3.723675</td>\n",
       "    </tr>\n",
       "    <tr>\n",
       "      <th>2</th>\n",
       "      <td>2.563675</td>\n",
       "    </tr>\n",
       "    <tr>\n",
       "      <th>3</th>\n",
       "      <td>-0.096325</td>\n",
       "    </tr>\n",
       "    <tr>\n",
       "      <th>4</th>\n",
       "      <td>-3.346325</td>\n",
       "    </tr>\n",
       "  </tbody>\n",
       "</table>\n",
       "</div>"
      ],
      "text/plain": [
       "      Sales\n",
       "0  2.003675\n",
       "1  3.723675\n",
       "2  2.563675\n",
       "3 -0.096325\n",
       "4 -3.346325"
      ]
     },
     "execution_count": 355,
     "metadata": {},
     "output_type": "execute_result"
    }
   ],
   "source": [
    "target_mean = numerical_data[response].mean()\n",
    "numerical_data[response] = numerical_data[response]-target_mean\n",
    "numerical_data[response].head()"
   ]
  },
  {
   "cell_type": "code",
   "execution_count": 203,
   "id": "e477fcda",
   "metadata": {},
   "outputs": [
    {
     "data": {
      "text/html": [
       "<div>\n",
       "<style scoped>\n",
       "    .dataframe tbody tr th:only-of-type {\n",
       "        vertical-align: middle;\n",
       "    }\n",
       "\n",
       "    .dataframe tbody tr th {\n",
       "        vertical-align: top;\n",
       "    }\n",
       "\n",
       "    .dataframe thead th {\n",
       "        text-align: right;\n",
       "    }\n",
       "</style>\n",
       "<table border=\"1\" class=\"dataframe\">\n",
       "  <thead>\n",
       "    <tr style=\"text-align: right;\">\n",
       "      <th></th>\n",
       "      <th>Sales</th>\n",
       "      <th>CompPrice</th>\n",
       "      <th>Income</th>\n",
       "      <th>Advertising</th>\n",
       "      <th>Population</th>\n",
       "      <th>Price</th>\n",
       "      <th>Age</th>\n",
       "      <th>Education</th>\n",
       "    </tr>\n",
       "  </thead>\n",
       "  <tbody>\n",
       "    <tr>\n",
       "      <th>0</th>\n",
       "      <td>2.003675</td>\n",
       "      <td>0.850455</td>\n",
       "      <td>0.155361</td>\n",
       "      <td>0.657177</td>\n",
       "      <td>0.075819</td>\n",
       "      <td>0.177823</td>\n",
       "      <td>-0.699782</td>\n",
       "      <td>1.184449</td>\n",
       "    </tr>\n",
       "    <tr>\n",
       "      <th>1</th>\n",
       "      <td>3.723675</td>\n",
       "      <td>-0.912484</td>\n",
       "      <td>-0.739060</td>\n",
       "      <td>1.409957</td>\n",
       "      <td>-0.032882</td>\n",
       "      <td>-1.386854</td>\n",
       "      <td>0.721723</td>\n",
       "      <td>-1.490113</td>\n",
       "    </tr>\n",
       "    <tr>\n",
       "      <th>2</th>\n",
       "      <td>2.563675</td>\n",
       "      <td>-0.781896</td>\n",
       "      <td>-1.204159</td>\n",
       "      <td>0.506621</td>\n",
       "      <td>0.028262</td>\n",
       "      <td>-1.513719</td>\n",
       "      <td>0.350895</td>\n",
       "      <td>-0.725953</td>\n",
       "    </tr>\n",
       "    <tr>\n",
       "      <th>3</th>\n",
       "      <td>-0.096325</td>\n",
       "      <td>-0.520720</td>\n",
       "      <td>1.121336</td>\n",
       "      <td>-0.396715</td>\n",
       "      <td>1.366649</td>\n",
       "      <td>-0.794814</td>\n",
       "      <td>0.103677</td>\n",
       "      <td>0.038208</td>\n",
       "    </tr>\n",
       "    <tr>\n",
       "      <th>4</th>\n",
       "      <td>-3.346325</td>\n",
       "      <td>1.046337</td>\n",
       "      <td>-0.166631</td>\n",
       "      <td>-0.547271</td>\n",
       "      <td>0.510625</td>\n",
       "      <td>0.516132</td>\n",
       "      <td>-0.947000</td>\n",
       "      <td>-0.343872</td>\n",
       "    </tr>\n",
       "    <tr>\n",
       "      <th>...</th>\n",
       "      <td>...</td>\n",
       "      <td>...</td>\n",
       "      <td>...</td>\n",
       "      <td>...</td>\n",
       "      <td>...</td>\n",
       "      <td>...</td>\n",
       "      <td>...</td>\n",
       "      <td>...</td>\n",
       "    </tr>\n",
       "    <tr>\n",
       "      <th>395</th>\n",
       "      <td>5.073675</td>\n",
       "      <td>0.850455</td>\n",
       "      <td>1.407551</td>\n",
       "      <td>1.560513</td>\n",
       "      <td>-0.420131</td>\n",
       "      <td>0.516132</td>\n",
       "      <td>-1.256023</td>\n",
       "      <td>0.038208</td>\n",
       "    </tr>\n",
       "    <tr>\n",
       "      <th>396</th>\n",
       "      <td>-1.356325</td>\n",
       "      <td>0.915749</td>\n",
       "      <td>-1.633482</td>\n",
       "      <td>-0.547271</td>\n",
       "      <td>-1.547909</td>\n",
       "      <td>0.177823</td>\n",
       "      <td>0.103677</td>\n",
       "      <td>-1.108033</td>\n",
       "    </tr>\n",
       "    <tr>\n",
       "      <th>397</th>\n",
       "      <td>-0.086325</td>\n",
       "      <td>2.417512</td>\n",
       "      <td>-1.526151</td>\n",
       "      <td>0.807733</td>\n",
       "      <td>0.700853</td>\n",
       "      <td>1.827078</td>\n",
       "      <td>-0.823391</td>\n",
       "      <td>1.566529</td>\n",
       "    </tr>\n",
       "    <tr>\n",
       "      <th>398</th>\n",
       "      <td>-1.556325</td>\n",
       "      <td>-1.630719</td>\n",
       "      <td>0.370022</td>\n",
       "      <td>0.054953</td>\n",
       "      <td>0.130170</td>\n",
       "      <td>-0.879391</td>\n",
       "      <td>-0.205346</td>\n",
       "      <td>-0.725953</td>\n",
       "    </tr>\n",
       "    <tr>\n",
       "      <th>399</th>\n",
       "      <td>2.213675</td>\n",
       "      <td>0.589279</td>\n",
       "      <td>-1.132606</td>\n",
       "      <td>-0.998939</td>\n",
       "      <td>-1.615848</td>\n",
       "      <td>0.177823</td>\n",
       "      <td>-0.267150</td>\n",
       "      <td>0.802369</td>\n",
       "    </tr>\n",
       "  </tbody>\n",
       "</table>\n",
       "<p>400 rows × 8 columns</p>\n",
       "</div>"
      ],
      "text/plain": [
       "        Sales  CompPrice    Income  Advertising  Population     Price  \\\n",
       "0    2.003675   0.850455  0.155361     0.657177    0.075819  0.177823   \n",
       "1    3.723675  -0.912484 -0.739060     1.409957   -0.032882 -1.386854   \n",
       "2    2.563675  -0.781896 -1.204159     0.506621    0.028262 -1.513719   \n",
       "3   -0.096325  -0.520720  1.121336    -0.396715    1.366649 -0.794814   \n",
       "4   -3.346325   1.046337 -0.166631    -0.547271    0.510625  0.516132   \n",
       "..        ...        ...       ...          ...         ...       ...   \n",
       "395  5.073675   0.850455  1.407551     1.560513   -0.420131  0.516132   \n",
       "396 -1.356325   0.915749 -1.633482    -0.547271   -1.547909  0.177823   \n",
       "397 -0.086325   2.417512 -1.526151     0.807733    0.700853  1.827078   \n",
       "398 -1.556325  -1.630719  0.370022     0.054953    0.130170 -0.879391   \n",
       "399  2.213675   0.589279 -1.132606    -0.998939   -1.615848  0.177823   \n",
       "\n",
       "          Age  Education  \n",
       "0   -0.699782   1.184449  \n",
       "1    0.721723  -1.490113  \n",
       "2    0.350895  -0.725953  \n",
       "3    0.103677   0.038208  \n",
       "4   -0.947000  -0.343872  \n",
       "..        ...        ...  \n",
       "395 -1.256023   0.038208  \n",
       "396  0.103677  -1.108033  \n",
       "397 -0.823391   1.566529  \n",
       "398 -0.205346  -0.725953  \n",
       "399 -0.267150   0.802369  \n",
       "\n",
       "[400 rows x 8 columns]"
      ]
     },
     "execution_count": 203,
     "metadata": {},
     "output_type": "execute_result"
    }
   ],
   "source": [
    "numerical_data"
   ]
  },
  {
   "cell_type": "markdown",
   "id": "a2e47d30",
   "metadata": {},
   "source": [
    "### 5. Finally, create a training set from the first half of the resulting dataset, and a test set from the remaining half and call these objects X train, X test, Y train and Y test."
   ]
  },
  {
   "cell_type": "code",
   "execution_count": 356,
   "id": "ea307d96",
   "metadata": {},
   "outputs": [],
   "source": [
    "X_train, X_test, Y_train, Y_test = train_test_split(numerical_data.iloc[:,1:], numerical_data.iloc[:,0], test_size=0.5, shuffle=False)"
   ]
  },
  {
   "cell_type": "markdown",
   "id": "49a8b87f",
   "metadata": {},
   "source": [
    "### 6. Print out the first and last rows of each of these."
   ]
  },
  {
   "cell_type": "code",
   "execution_count": 206,
   "id": "7ef4bf53",
   "metadata": {},
   "outputs": [
    {
     "data": {
      "text/html": [
       "<div>\n",
       "<style scoped>\n",
       "    .dataframe tbody tr th:only-of-type {\n",
       "        vertical-align: middle;\n",
       "    }\n",
       "\n",
       "    .dataframe tbody tr th {\n",
       "        vertical-align: top;\n",
       "    }\n",
       "\n",
       "    .dataframe thead th {\n",
       "        text-align: right;\n",
       "    }\n",
       "</style>\n",
       "<table border=\"1\" class=\"dataframe\">\n",
       "  <thead>\n",
       "    <tr style=\"text-align: right;\">\n",
       "      <th></th>\n",
       "      <th>CompPrice</th>\n",
       "      <th>Income</th>\n",
       "      <th>Advertising</th>\n",
       "      <th>Population</th>\n",
       "      <th>Price</th>\n",
       "      <th>Age</th>\n",
       "      <th>Education</th>\n",
       "    </tr>\n",
       "  </thead>\n",
       "  <tbody>\n",
       "    <tr>\n",
       "      <th>0</th>\n",
       "      <td>0.850455</td>\n",
       "      <td>0.155361</td>\n",
       "      <td>0.657177</td>\n",
       "      <td>0.075819</td>\n",
       "      <td>0.177823</td>\n",
       "      <td>-0.699782</td>\n",
       "      <td>1.184449</td>\n",
       "    </tr>\n",
       "  </tbody>\n",
       "</table>\n",
       "</div>"
      ],
      "text/plain": [
       "   CompPrice    Income  Advertising  Population     Price       Age  Education\n",
       "0   0.850455  0.155361     0.657177    0.075819  0.177823 -0.699782   1.184449"
      ]
     },
     "execution_count": 206,
     "metadata": {},
     "output_type": "execute_result"
    }
   ],
   "source": [
    "X_train.head(1)"
   ]
  },
  {
   "cell_type": "code",
   "execution_count": 207,
   "id": "becef024",
   "metadata": {},
   "outputs": [
    {
     "data": {
      "text/html": [
       "<div>\n",
       "<style scoped>\n",
       "    .dataframe tbody tr th:only-of-type {\n",
       "        vertical-align: middle;\n",
       "    }\n",
       "\n",
       "    .dataframe tbody tr th {\n",
       "        vertical-align: top;\n",
       "    }\n",
       "\n",
       "    .dataframe thead th {\n",
       "        text-align: right;\n",
       "    }\n",
       "</style>\n",
       "<table border=\"1\" class=\"dataframe\">\n",
       "  <thead>\n",
       "    <tr style=\"text-align: right;\">\n",
       "      <th></th>\n",
       "      <th>CompPrice</th>\n",
       "      <th>Income</th>\n",
       "      <th>Advertising</th>\n",
       "      <th>Population</th>\n",
       "      <th>Price</th>\n",
       "      <th>Age</th>\n",
       "      <th>Education</th>\n",
       "    </tr>\n",
       "  </thead>\n",
       "  <tbody>\n",
       "    <tr>\n",
       "      <th>199</th>\n",
       "      <td>-0.19425</td>\n",
       "      <td>0.692014</td>\n",
       "      <td>-0.246159</td>\n",
       "      <td>0.476656</td>\n",
       "      <td>0.431555</td>\n",
       "      <td>0.659918</td>\n",
       "      <td>0.038208</td>\n",
       "    </tr>\n",
       "  </tbody>\n",
       "</table>\n",
       "</div>"
      ],
      "text/plain": [
       "     CompPrice    Income  Advertising  Population     Price       Age  \\\n",
       "199   -0.19425  0.692014    -0.246159    0.476656  0.431555  0.659918   \n",
       "\n",
       "     Education  \n",
       "199   0.038208  "
      ]
     },
     "execution_count": 207,
     "metadata": {},
     "output_type": "execute_result"
    }
   ],
   "source": [
    "X_train.tail(1)"
   ]
  },
  {
   "cell_type": "code",
   "execution_count": 208,
   "id": "1735e05d",
   "metadata": {},
   "outputs": [
    {
     "data": {
      "text/html": [
       "<div>\n",
       "<style scoped>\n",
       "    .dataframe tbody tr th:only-of-type {\n",
       "        vertical-align: middle;\n",
       "    }\n",
       "\n",
       "    .dataframe tbody tr th {\n",
       "        vertical-align: top;\n",
       "    }\n",
       "\n",
       "    .dataframe thead th {\n",
       "        text-align: right;\n",
       "    }\n",
       "</style>\n",
       "<table border=\"1\" class=\"dataframe\">\n",
       "  <thead>\n",
       "    <tr style=\"text-align: right;\">\n",
       "      <th></th>\n",
       "      <th>CompPrice</th>\n",
       "      <th>Income</th>\n",
       "      <th>Advertising</th>\n",
       "      <th>Population</th>\n",
       "      <th>Price</th>\n",
       "      <th>Age</th>\n",
       "      <th>Education</th>\n",
       "    </tr>\n",
       "  </thead>\n",
       "  <tbody>\n",
       "    <tr>\n",
       "      <th>200</th>\n",
       "      <td>1.242219</td>\n",
       "      <td>0.835121</td>\n",
       "      <td>-0.998939</td>\n",
       "      <td>0.57177</td>\n",
       "      <td>1.277326</td>\n",
       "      <td>0.536309</td>\n",
       "      <td>-0.725953</td>\n",
       "    </tr>\n",
       "  </tbody>\n",
       "</table>\n",
       "</div>"
      ],
      "text/plain": [
       "     CompPrice    Income  Advertising  Population     Price       Age  \\\n",
       "200   1.242219  0.835121    -0.998939     0.57177  1.277326  0.536309   \n",
       "\n",
       "     Education  \n",
       "200  -0.725953  "
      ]
     },
     "execution_count": 208,
     "metadata": {},
     "output_type": "execute_result"
    }
   ],
   "source": [
    "X_test.head(1)"
   ]
  },
  {
   "cell_type": "code",
   "execution_count": 209,
   "id": "ad0f9f4b",
   "metadata": {},
   "outputs": [
    {
     "data": {
      "text/html": [
       "<div>\n",
       "<style scoped>\n",
       "    .dataframe tbody tr th:only-of-type {\n",
       "        vertical-align: middle;\n",
       "    }\n",
       "\n",
       "    .dataframe tbody tr th {\n",
       "        vertical-align: top;\n",
       "    }\n",
       "\n",
       "    .dataframe thead th {\n",
       "        text-align: right;\n",
       "    }\n",
       "</style>\n",
       "<table border=\"1\" class=\"dataframe\">\n",
       "  <thead>\n",
       "    <tr style=\"text-align: right;\">\n",
       "      <th></th>\n",
       "      <th>CompPrice</th>\n",
       "      <th>Income</th>\n",
       "      <th>Advertising</th>\n",
       "      <th>Population</th>\n",
       "      <th>Price</th>\n",
       "      <th>Age</th>\n",
       "      <th>Education</th>\n",
       "    </tr>\n",
       "  </thead>\n",
       "  <tbody>\n",
       "    <tr>\n",
       "      <th>399</th>\n",
       "      <td>0.589279</td>\n",
       "      <td>-1.132606</td>\n",
       "      <td>-0.998939</td>\n",
       "      <td>-1.615848</td>\n",
       "      <td>0.177823</td>\n",
       "      <td>-0.26715</td>\n",
       "      <td>0.802369</td>\n",
       "    </tr>\n",
       "  </tbody>\n",
       "</table>\n",
       "</div>"
      ],
      "text/plain": [
       "     CompPrice    Income  Advertising  Population     Price      Age  \\\n",
       "399   0.589279 -1.132606    -0.998939   -1.615848  0.177823 -0.26715   \n",
       "\n",
       "     Education  \n",
       "399   0.802369  "
      ]
     },
     "execution_count": 209,
     "metadata": {},
     "output_type": "execute_result"
    }
   ],
   "source": [
    "X_test.tail(1)"
   ]
  },
  {
   "cell_type": "code",
   "execution_count": 210,
   "id": "daf2e961",
   "metadata": {},
   "outputs": [
    {
     "data": {
      "text/plain": [
       "0    2.003675\n",
       "Name: Sales, dtype: float64"
      ]
     },
     "execution_count": 210,
     "metadata": {},
     "output_type": "execute_result"
    }
   ],
   "source": [
    "Y_train.head(1)"
   ]
  },
  {
   "cell_type": "code",
   "execution_count": 211,
   "id": "07dbbf30",
   "metadata": {},
   "outputs": [
    {
     "data": {
      "text/plain": [
       "199   -1.076325\n",
       "Name: Sales, dtype: float64"
      ]
     },
     "execution_count": 211,
     "metadata": {},
     "output_type": "execute_result"
    }
   ],
   "source": [
    "Y_train.tail(1)"
   ]
  },
  {
   "cell_type": "code",
   "execution_count": 212,
   "id": "d68a193b",
   "metadata": {},
   "outputs": [
    {
     "data": {
      "text/plain": [
       "200   -1.936325\n",
       "Name: Sales, dtype: float64"
      ]
     },
     "execution_count": 212,
     "metadata": {},
     "output_type": "execute_result"
    }
   ],
   "source": [
    "Y_test.head(1)"
   ]
  },
  {
   "cell_type": "code",
   "execution_count": 213,
   "id": "7729eb46",
   "metadata": {},
   "outputs": [
    {
     "data": {
      "text/plain": [
       "399    2.213675\n",
       "Name: Sales, dtype: float64"
      ]
     },
     "execution_count": 213,
     "metadata": {},
     "output_type": "execute_result"
    }
   ],
   "source": [
    "Y_test.tail(1)"
   ]
  },
  {
   "cell_type": "markdown",
   "id": "b1fe7aac",
   "metadata": {},
   "source": [
    "What to submit: a print out of the means and variances of features, a print out of the first and last rows of the 4 requested objects, and some commentary. Include a screen shot of any code used for this section and a copy of your python code in solutions.py."
   ]
  },
  {
   "cell_type": "markdown",
   "id": "d97562a3",
   "metadata": {},
   "source": [
    "# (g)"
   ]
  },
  {
   "cell_type": "code",
   "execution_count": 357,
   "id": "80c3c7be",
   "metadata": {},
   "outputs": [
    {
     "data": {
      "text/html": [
       "<div>\n",
       "<style scoped>\n",
       "    .dataframe tbody tr th:only-of-type {\n",
       "        vertical-align: middle;\n",
       "    }\n",
       "\n",
       "    .dataframe tbody tr th {\n",
       "        vertical-align: top;\n",
       "    }\n",
       "\n",
       "    .dataframe thead th {\n",
       "        text-align: right;\n",
       "    }\n",
       "</style>\n",
       "<table border=\"1\" class=\"dataframe\">\n",
       "  <thead>\n",
       "    <tr style=\"text-align: right;\">\n",
       "      <th></th>\n",
       "      <th>CompPrice</th>\n",
       "      <th>Income</th>\n",
       "      <th>Advertising</th>\n",
       "      <th>Population</th>\n",
       "      <th>Price</th>\n",
       "      <th>Age</th>\n",
       "      <th>Education</th>\n",
       "    </tr>\n",
       "  </thead>\n",
       "  <tbody>\n",
       "    <tr>\n",
       "      <th>0</th>\n",
       "      <td>0.850455</td>\n",
       "      <td>0.155361</td>\n",
       "      <td>0.657177</td>\n",
       "      <td>0.075819</td>\n",
       "      <td>0.177823</td>\n",
       "      <td>-0.699782</td>\n",
       "      <td>1.184449</td>\n",
       "    </tr>\n",
       "    <tr>\n",
       "      <th>1</th>\n",
       "      <td>-0.912484</td>\n",
       "      <td>-0.739060</td>\n",
       "      <td>1.409957</td>\n",
       "      <td>-0.032882</td>\n",
       "      <td>-1.386854</td>\n",
       "      <td>0.721723</td>\n",
       "      <td>-1.490113</td>\n",
       "    </tr>\n",
       "    <tr>\n",
       "      <th>2</th>\n",
       "      <td>-0.781896</td>\n",
       "      <td>-1.204159</td>\n",
       "      <td>0.506621</td>\n",
       "      <td>0.028262</td>\n",
       "      <td>-1.513719</td>\n",
       "      <td>0.350895</td>\n",
       "      <td>-0.725953</td>\n",
       "    </tr>\n",
       "    <tr>\n",
       "      <th>3</th>\n",
       "      <td>-0.520720</td>\n",
       "      <td>1.121336</td>\n",
       "      <td>-0.396715</td>\n",
       "      <td>1.366649</td>\n",
       "      <td>-0.794814</td>\n",
       "      <td>0.103677</td>\n",
       "      <td>0.038208</td>\n",
       "    </tr>\n",
       "    <tr>\n",
       "      <th>4</th>\n",
       "      <td>1.046337</td>\n",
       "      <td>-0.166631</td>\n",
       "      <td>-0.547271</td>\n",
       "      <td>0.510625</td>\n",
       "      <td>0.516132</td>\n",
       "      <td>-0.947000</td>\n",
       "      <td>-0.343872</td>\n",
       "    </tr>\n",
       "    <tr>\n",
       "      <th>...</th>\n",
       "      <td>...</td>\n",
       "      <td>...</td>\n",
       "      <td>...</td>\n",
       "      <td>...</td>\n",
       "      <td>...</td>\n",
       "      <td>...</td>\n",
       "      <td>...</td>\n",
       "    </tr>\n",
       "    <tr>\n",
       "      <th>195</th>\n",
       "      <td>-0.520720</td>\n",
       "      <td>0.870898</td>\n",
       "      <td>-0.396715</td>\n",
       "      <td>1.054133</td>\n",
       "      <td>-0.160485</td>\n",
       "      <td>0.783527</td>\n",
       "      <td>-1.108033</td>\n",
       "    </tr>\n",
       "    <tr>\n",
       "      <th>196</th>\n",
       "      <td>0.328103</td>\n",
       "      <td>-1.454597</td>\n",
       "      <td>-0.095603</td>\n",
       "      <td>0.986194</td>\n",
       "      <td>0.727575</td>\n",
       "      <td>1.154355</td>\n",
       "      <td>0.802369</td>\n",
       "    </tr>\n",
       "    <tr>\n",
       "      <th>197</th>\n",
       "      <td>-0.063662</td>\n",
       "      <td>-0.273961</td>\n",
       "      <td>-0.998939</td>\n",
       "      <td>0.463068</td>\n",
       "      <td>0.939018</td>\n",
       "      <td>1.401573</td>\n",
       "      <td>0.802369</td>\n",
       "    </tr>\n",
       "    <tr>\n",
       "      <th>198</th>\n",
       "      <td>-0.847190</td>\n",
       "      <td>0.405799</td>\n",
       "      <td>-0.246159</td>\n",
       "      <td>1.597640</td>\n",
       "      <td>0.516132</td>\n",
       "      <td>0.968941</td>\n",
       "      <td>-1.490113</td>\n",
       "    </tr>\n",
       "    <tr>\n",
       "      <th>199</th>\n",
       "      <td>-0.194250</td>\n",
       "      <td>0.692014</td>\n",
       "      <td>-0.246159</td>\n",
       "      <td>0.476656</td>\n",
       "      <td>0.431555</td>\n",
       "      <td>0.659918</td>\n",
       "      <td>0.038208</td>\n",
       "    </tr>\n",
       "  </tbody>\n",
       "</table>\n",
       "<p>200 rows × 7 columns</p>\n",
       "</div>"
      ],
      "text/plain": [
       "     CompPrice    Income  Advertising  Population     Price       Age  \\\n",
       "0     0.850455  0.155361     0.657177    0.075819  0.177823 -0.699782   \n",
       "1    -0.912484 -0.739060     1.409957   -0.032882 -1.386854  0.721723   \n",
       "2    -0.781896 -1.204159     0.506621    0.028262 -1.513719  0.350895   \n",
       "3    -0.520720  1.121336    -0.396715    1.366649 -0.794814  0.103677   \n",
       "4     1.046337 -0.166631    -0.547271    0.510625  0.516132 -0.947000   \n",
       "..         ...       ...          ...         ...       ...       ...   \n",
       "195  -0.520720  0.870898    -0.396715    1.054133 -0.160485  0.783527   \n",
       "196   0.328103 -1.454597    -0.095603    0.986194  0.727575  1.154355   \n",
       "197  -0.063662 -0.273961    -0.998939    0.463068  0.939018  1.401573   \n",
       "198  -0.847190  0.405799    -0.246159    1.597640  0.516132  0.968941   \n",
       "199  -0.194250  0.692014    -0.246159    0.476656  0.431555  0.659918   \n",
       "\n",
       "     Education  \n",
       "0     1.184449  \n",
       "1    -1.490113  \n",
       "2    -0.725953  \n",
       "3     0.038208  \n",
       "4    -0.343872  \n",
       "..         ...  \n",
       "195  -1.108033  \n",
       "196   0.802369  \n",
       "197   0.802369  \n",
       "198  -1.490113  \n",
       "199   0.038208  \n",
       "\n",
       "[200 rows x 7 columns]"
      ]
     },
     "execution_count": 357,
     "metadata": {},
     "output_type": "execute_result"
    }
   ],
   "source": [
    "X_train"
   ]
  },
  {
   "cell_type": "code",
   "execution_count": 358,
   "id": "a4d3738f",
   "metadata": {},
   "outputs": [
    {
     "data": {
      "text/html": [
       "<div>\n",
       "<style scoped>\n",
       "    .dataframe tbody tr th:only-of-type {\n",
       "        vertical-align: middle;\n",
       "    }\n",
       "\n",
       "    .dataframe tbody tr th {\n",
       "        vertical-align: top;\n",
       "    }\n",
       "\n",
       "    .dataframe thead th {\n",
       "        text-align: right;\n",
       "    }\n",
       "</style>\n",
       "<table border=\"1\" class=\"dataframe\">\n",
       "  <thead>\n",
       "    <tr style=\"text-align: right;\">\n",
       "      <th></th>\n",
       "      <th>0</th>\n",
       "      <th>1</th>\n",
       "      <th>2</th>\n",
       "      <th>3</th>\n",
       "      <th>4</th>\n",
       "      <th>5</th>\n",
       "      <th>6</th>\n",
       "      <th>7</th>\n",
       "      <th>8</th>\n",
       "      <th>9</th>\n",
       "      <th>...</th>\n",
       "      <th>190</th>\n",
       "      <th>191</th>\n",
       "      <th>192</th>\n",
       "      <th>193</th>\n",
       "      <th>194</th>\n",
       "      <th>195</th>\n",
       "      <th>196</th>\n",
       "      <th>197</th>\n",
       "      <th>198</th>\n",
       "      <th>199</th>\n",
       "    </tr>\n",
       "  </thead>\n",
       "  <tbody>\n",
       "    <tr>\n",
       "      <th>CompPrice</th>\n",
       "      <td>0.850455</td>\n",
       "      <td>-0.912484</td>\n",
       "      <td>-0.781896</td>\n",
       "      <td>-0.520720</td>\n",
       "      <td>1.046337</td>\n",
       "      <td>-0.063662</td>\n",
       "      <td>-0.651308</td>\n",
       "      <td>0.719867</td>\n",
       "      <td>0.458691</td>\n",
       "      <td>0.458691</td>\n",
       "      <td>...</td>\n",
       "      <td>0.328103</td>\n",
       "      <td>2.025748</td>\n",
       "      <td>-1.108366</td>\n",
       "      <td>0.915749</td>\n",
       "      <td>-0.847190</td>\n",
       "      <td>-0.520720</td>\n",
       "      <td>0.328103</td>\n",
       "      <td>-0.063662</td>\n",
       "      <td>-0.847190</td>\n",
       "      <td>-0.194250</td>\n",
       "    </tr>\n",
       "    <tr>\n",
       "      <th>Income</th>\n",
       "      <td>0.155361</td>\n",
       "      <td>-0.739060</td>\n",
       "      <td>-1.204159</td>\n",
       "      <td>1.121336</td>\n",
       "      <td>-0.166631</td>\n",
       "      <td>1.586435</td>\n",
       "      <td>1.300220</td>\n",
       "      <td>0.441576</td>\n",
       "      <td>1.479105</td>\n",
       "      <td>1.586435</td>\n",
       "      <td>...</td>\n",
       "      <td>-1.132606</td>\n",
       "      <td>-0.953721</td>\n",
       "      <td>-1.526151</td>\n",
       "      <td>0.048030</td>\n",
       "      <td>1.049782</td>\n",
       "      <td>0.870898</td>\n",
       "      <td>-1.454597</td>\n",
       "      <td>-0.273961</td>\n",
       "      <td>0.405799</td>\n",
       "      <td>0.692014</td>\n",
       "    </tr>\n",
       "    <tr>\n",
       "      <th>Advertising</th>\n",
       "      <td>0.657177</td>\n",
       "      <td>1.409957</td>\n",
       "      <td>0.506621</td>\n",
       "      <td>-0.396715</td>\n",
       "      <td>-0.547271</td>\n",
       "      <td>0.958289</td>\n",
       "      <td>-0.998939</td>\n",
       "      <td>1.259401</td>\n",
       "      <td>-0.998939</td>\n",
       "      <td>-0.998939</td>\n",
       "      <td>...</td>\n",
       "      <td>0.958289</td>\n",
       "      <td>0.958289</td>\n",
       "      <td>-0.998939</td>\n",
       "      <td>0.054953</td>\n",
       "      <td>1.711069</td>\n",
       "      <td>-0.396715</td>\n",
       "      <td>-0.095603</td>\n",
       "      <td>-0.998939</td>\n",
       "      <td>-0.246159</td>\n",
       "      <td>-0.246159</td>\n",
       "    </tr>\n",
       "    <tr>\n",
       "      <th>Population</th>\n",
       "      <td>0.075819</td>\n",
       "      <td>-0.032882</td>\n",
       "      <td>0.028262</td>\n",
       "      <td>1.366649</td>\n",
       "      <td>0.510625</td>\n",
       "      <td>1.604434</td>\n",
       "      <td>-1.493558</td>\n",
       "      <td>1.088102</td>\n",
       "      <td>-1.065546</td>\n",
       "      <td>-0.909288</td>\n",
       "      <td>...</td>\n",
       "      <td>0.218490</td>\n",
       "      <td>-0.644328</td>\n",
       "      <td>0.972607</td>\n",
       "      <td>-1.316919</td>\n",
       "      <td>1.468557</td>\n",
       "      <td>1.054133</td>\n",
       "      <td>0.986194</td>\n",
       "      <td>0.463068</td>\n",
       "      <td>1.597640</td>\n",
       "      <td>0.476656</td>\n",
       "    </tr>\n",
       "    <tr>\n",
       "      <th>Price</th>\n",
       "      <td>0.177823</td>\n",
       "      <td>-1.386854</td>\n",
       "      <td>-1.513719</td>\n",
       "      <td>-0.794814</td>\n",
       "      <td>0.516132</td>\n",
       "      <td>-1.852028</td>\n",
       "      <td>-0.329639</td>\n",
       "      <td>0.177823</td>\n",
       "      <td>0.346978</td>\n",
       "      <td>0.346978</td>\n",
       "      <td>...</td>\n",
       "      <td>-0.625659</td>\n",
       "      <td>2.419118</td>\n",
       "      <td>-0.963968</td>\n",
       "      <td>-0.837102</td>\n",
       "      <td>0.516132</td>\n",
       "      <td>-0.160485</td>\n",
       "      <td>0.727575</td>\n",
       "      <td>0.939018</td>\n",
       "      <td>0.516132</td>\n",
       "      <td>0.431555</td>\n",
       "    </tr>\n",
       "    <tr>\n",
       "      <th>Age</th>\n",
       "      <td>-0.699782</td>\n",
       "      <td>0.721723</td>\n",
       "      <td>0.350895</td>\n",
       "      <td>0.103677</td>\n",
       "      <td>-0.947000</td>\n",
       "      <td>1.525182</td>\n",
       "      <td>1.092550</td>\n",
       "      <td>0.845332</td>\n",
       "      <td>1.401573</td>\n",
       "      <td>1.401573</td>\n",
       "      <td>...</td>\n",
       "      <td>-1.008805</td>\n",
       "      <td>1.277964</td>\n",
       "      <td>0.165482</td>\n",
       "      <td>0.474505</td>\n",
       "      <td>-0.514369</td>\n",
       "      <td>0.783527</td>\n",
       "      <td>1.154355</td>\n",
       "      <td>1.401573</td>\n",
       "      <td>0.968941</td>\n",
       "      <td>0.659918</td>\n",
       "    </tr>\n",
       "    <tr>\n",
       "      <th>Education</th>\n",
       "      <td>1.184449</td>\n",
       "      <td>-1.490113</td>\n",
       "      <td>-0.725953</td>\n",
       "      <td>0.038208</td>\n",
       "      <td>-0.343872</td>\n",
       "      <td>0.802369</td>\n",
       "      <td>0.420288</td>\n",
       "      <td>-1.490113</td>\n",
       "      <td>-1.490113</td>\n",
       "      <td>1.184449</td>\n",
       "      <td>...</td>\n",
       "      <td>-0.343872</td>\n",
       "      <td>0.038208</td>\n",
       "      <td>0.038208</td>\n",
       "      <td>-1.490113</td>\n",
       "      <td>-1.108033</td>\n",
       "      <td>-1.108033</td>\n",
       "      <td>0.802369</td>\n",
       "      <td>0.802369</td>\n",
       "      <td>-1.490113</td>\n",
       "      <td>0.038208</td>\n",
       "    </tr>\n",
       "  </tbody>\n",
       "</table>\n",
       "<p>7 rows × 200 columns</p>\n",
       "</div>"
      ],
      "text/plain": [
       "                  0         1         2         3         4         5    \\\n",
       "CompPrice    0.850455 -0.912484 -0.781896 -0.520720  1.046337 -0.063662   \n",
       "Income       0.155361 -0.739060 -1.204159  1.121336 -0.166631  1.586435   \n",
       "Advertising  0.657177  1.409957  0.506621 -0.396715 -0.547271  0.958289   \n",
       "Population   0.075819 -0.032882  0.028262  1.366649  0.510625  1.604434   \n",
       "Price        0.177823 -1.386854 -1.513719 -0.794814  0.516132 -1.852028   \n",
       "Age         -0.699782  0.721723  0.350895  0.103677 -0.947000  1.525182   \n",
       "Education    1.184449 -1.490113 -0.725953  0.038208 -0.343872  0.802369   \n",
       "\n",
       "                  6         7         8         9    ...       190       191  \\\n",
       "CompPrice   -0.651308  0.719867  0.458691  0.458691  ...  0.328103  2.025748   \n",
       "Income       1.300220  0.441576  1.479105  1.586435  ... -1.132606 -0.953721   \n",
       "Advertising -0.998939  1.259401 -0.998939 -0.998939  ...  0.958289  0.958289   \n",
       "Population  -1.493558  1.088102 -1.065546 -0.909288  ...  0.218490 -0.644328   \n",
       "Price       -0.329639  0.177823  0.346978  0.346978  ... -0.625659  2.419118   \n",
       "Age          1.092550  0.845332  1.401573  1.401573  ... -1.008805  1.277964   \n",
       "Education    0.420288 -1.490113 -1.490113  1.184449  ... -0.343872  0.038208   \n",
       "\n",
       "                  192       193       194       195       196       197  \\\n",
       "CompPrice   -1.108366  0.915749 -0.847190 -0.520720  0.328103 -0.063662   \n",
       "Income      -1.526151  0.048030  1.049782  0.870898 -1.454597 -0.273961   \n",
       "Advertising -0.998939  0.054953  1.711069 -0.396715 -0.095603 -0.998939   \n",
       "Population   0.972607 -1.316919  1.468557  1.054133  0.986194  0.463068   \n",
       "Price       -0.963968 -0.837102  0.516132 -0.160485  0.727575  0.939018   \n",
       "Age          0.165482  0.474505 -0.514369  0.783527  1.154355  1.401573   \n",
       "Education    0.038208 -1.490113 -1.108033 -1.108033  0.802369  0.802369   \n",
       "\n",
       "                  198       199  \n",
       "CompPrice   -0.847190 -0.194250  \n",
       "Income       0.405799  0.692014  \n",
       "Advertising -0.246159 -0.246159  \n",
       "Population   1.597640  0.476656  \n",
       "Price        0.516132  0.431555  \n",
       "Age          0.968941  0.659918  \n",
       "Education   -1.490113  0.038208  \n",
       "\n",
       "[7 rows x 200 columns]"
      ]
     },
     "execution_count": 358,
     "metadata": {},
     "output_type": "execute_result"
    }
   ],
   "source": [
    "X_t = X_train.T\n",
    "X_t"
   ]
  },
  {
   "cell_type": "code",
   "execution_count": 359,
   "id": "4f53b0ff",
   "metadata": {},
   "outputs": [
    {
     "data": {
      "text/plain": [
       "0      2.003675\n",
       "1      3.723675\n",
       "2      2.563675\n",
       "3     -0.096325\n",
       "4     -3.346325\n",
       "         ...   \n",
       "195   -3.306325\n",
       "196   -3.396325\n",
       "197   -4.976325\n",
       "198   -3.876325\n",
       "199   -1.076325\n",
       "Name: Sales, Length: 200, dtype: float64"
      ]
     },
     "execution_count": 359,
     "metadata": {},
     "output_type": "execute_result"
    }
   ],
   "source": [
    "Y_train"
   ]
  },
  {
   "cell_type": "code",
   "execution_count": 360,
   "id": "e8468606",
   "metadata": {},
   "outputs": [
    {
     "data": {
      "text/plain": [
       "0    1.674911\n",
       "1    0.368707\n",
       "2    1.109761\n",
       "3    0.020805\n",
       "4   -2.321392\n",
       "5   -0.519396\n",
       "6   -0.149282\n",
       "dtype: float64"
      ]
     },
     "execution_count": 360,
     "metadata": {},
     "output_type": "execute_result"
    }
   ],
   "source": [
    "B_ridge = inv(X_t@X_train + 0.5*np.identity(7))@X_t@Y_train\n",
    "B_ridge"
   ]
  },
  {
   "cell_type": "markdown",
   "id": "8c2caa92",
   "metadata": {},
   "source": [
    "# (i)"
   ]
  },
  {
   "cell_type": "code",
   "execution_count": 361,
   "id": "659f0d1d",
   "metadata": {},
   "outputs": [
    {
     "data": {
      "text/html": [
       "<div>\n",
       "<style scoped>\n",
       "    .dataframe tbody tr th:only-of-type {\n",
       "        vertical-align: middle;\n",
       "    }\n",
       "\n",
       "    .dataframe tbody tr th {\n",
       "        vertical-align: top;\n",
       "    }\n",
       "\n",
       "    .dataframe thead th {\n",
       "        text-align: right;\n",
       "    }\n",
       "</style>\n",
       "<table border=\"1\" class=\"dataframe\">\n",
       "  <thead>\n",
       "    <tr style=\"text-align: right;\">\n",
       "      <th></th>\n",
       "      <th>CompPrice</th>\n",
       "      <th>Income</th>\n",
       "      <th>Advertising</th>\n",
       "      <th>Population</th>\n",
       "      <th>Price</th>\n",
       "      <th>Age</th>\n",
       "      <th>Education</th>\n",
       "    </tr>\n",
       "  </thead>\n",
       "  <tbody>\n",
       "    <tr>\n",
       "      <th>0</th>\n",
       "      <td>1</td>\n",
       "      <td>1</td>\n",
       "      <td>1</td>\n",
       "      <td>1</td>\n",
       "      <td>1</td>\n",
       "      <td>1</td>\n",
       "      <td>1</td>\n",
       "    </tr>\n",
       "  </tbody>\n",
       "</table>\n",
       "</div>"
      ],
      "text/plain": [
       "   CompPrice  Income  Advertising  Population  Price  Age  Education\n",
       "0          1       1            1           1      1    1          1"
      ]
     },
     "execution_count": 361,
     "metadata": {},
     "output_type": "execute_result"
    }
   ],
   "source": [
    "B0 = pd.DataFrame({'CompPrice':[1],\n",
    "                    'Income':[1],\n",
    "                    'Advertising':[1],\n",
    "                    'Population':[1],\n",
    "                    'Price':[1],\n",
    "                    'Age':[1],\n",
    "                    'Education':[1]   \n",
    "                  })\n",
    "B0"
   ]
  },
  {
   "cell_type": "code",
   "execution_count": 362,
   "id": "364d9f38",
   "metadata": {},
   "outputs": [],
   "source": [
    "b0 = B0.values.reshape(7,1)\n",
    "#b0"
   ]
  },
  {
   "cell_type": "code",
   "execution_count": 363,
   "id": "013b6478",
   "metadata": {},
   "outputs": [],
   "source": [
    "x = X_train.values.reshape(200,7)\n",
    "#x"
   ]
  },
  {
   "cell_type": "code",
   "execution_count": 364,
   "id": "f79a3767",
   "metadata": {},
   "outputs": [],
   "source": [
    "x_t = x.T.reshape(7,200)\n",
    "#x_t"
   ]
  },
  {
   "cell_type": "code",
   "execution_count": 365,
   "id": "bcdb502e",
   "metadata": {},
   "outputs": [],
   "source": [
    "y = Y_train.values.reshape(200,1)\n",
    "#y"
   ]
  },
  {
   "cell_type": "code",
   "execution_count": 366,
   "id": "b29f26a7",
   "metadata": {},
   "outputs": [
    {
     "data": {
      "text/plain": [
       "1732.27024094426"
      ]
     },
     "execution_count": 366,
     "metadata": {},
     "output_type": "execute_result"
    }
   ],
   "source": [
    "loss_hat = np.linalg.norm(y - x@B_ridge, ord = 2 )**2/200 + 0.5*np.linalg.norm(B_ridge, ord = 2 )**2\n",
    "loss_hat"
   ]
  },
  {
   "cell_type": "code",
   "execution_count": 367,
   "id": "6cd67d8d",
   "metadata": {},
   "outputs": [],
   "source": [
    "alphas = [0.000001, 0.000005, 0.00001, 0.00005, 0.0001, 0.0005, 0.001, 0.005, 0.01]"
   ]
  },
  {
   "cell_type": "code",
   "execution_count": 368,
   "id": "243a6691",
   "metadata": {},
   "outputs": [],
   "source": [
    "def loss_function(y, x, B):\n",
    "    loss = np.linalg.norm(y - x@B, ord = 2 )**2/200 + 0.5*np.linalg.norm(B, ord = 2 )**2\n",
    "    return loss"
   ]
  },
  {
   "cell_type": "code",
   "execution_count": 369,
   "id": "847ebe57",
   "metadata": {},
   "outputs": [],
   "source": [
    "def find_beta(b0, x, y, x_t,alpha):\n",
    "    b = b0\n",
    "    Betas = []\n",
    "    Betas.append(b)\n",
    "    for k in range(1, 1001):\n",
    "        B = b - alpha*(-2*x_t@(y-x@b) + 200*b)/200\n",
    "        b = B\n",
    "        Betas.append(B)\n",
    "        \n",
    "    return Betas    "
   ]
  },
  {
   "cell_type": "code",
   "execution_count": 370,
   "id": "122f9f85",
   "metadata": {},
   "outputs": [],
   "source": [
    "def find_delta(b0, x, y, x_t,loss_hat,alpha):\n",
    "    Deltas = []\n",
    "    Betas = find_beta(b0, x, y, x_t,alpha)\n",
    "    \n",
    "    for B in Betas:        \n",
    "        loss = np.linalg.norm(y - x@B, ord = 2 )**2/200 + 0.5*np.linalg.norm(B, ord = 2 )**2     \n",
    "        delta = loss - loss_hat\n",
    "        Deltas.append(delta)\n",
    "    return Deltas"
   ]
  },
  {
   "cell_type": "code",
   "execution_count": 371,
   "id": "a2266d17",
   "metadata": {},
   "outputs": [],
   "source": [
    "def ridge_graph(b0, x, y, x_t, loss_hat, alpha):\n",
    "    deltas = find_delta(b0, x, y, x_t, loss_hat, alpha)\n",
    "    k = np.arange(0,len(deltas)) \n",
    "    \n",
    "    plt.plot(k, deltas, color='blue')      \n",
    "    plt.xlabel(\"k\")                                    \n",
    "    plt.ylabel(\"Delta\")\n",
    "    plt.title(\"alpha=\"+str(alpha),pad=15)\n",
    "    #plt.title('Graph Title', loc='right', pad=1)"
   ]
  },
  {
   "cell_type": "code",
   "execution_count": 290,
   "id": "3722866e",
   "metadata": {},
   "outputs": [
    {
     "data": {
      "image/png": "[encoded data removed]",
      "text/plain": [
       "<Figure size 432x288 with 9 Axes>"
      ]
     },
     "metadata": {
      "needs_background": "light"
     },
     "output_type": "display_data"
    }
   ],
   "source": [
    "i = 1\n",
    "for alpha in alphas:\n",
    "    plt.subplot(3,3,i)\n",
    "    ridge_graph(b0, x, y, x_t, loss_hat, alpha)\n",
    "    i = i + 1\n",
    "\n",
    "plt.tight_layout()\n",
    "plt.show()"
   ]
  },
  {
   "cell_type": "markdown",
   "id": "d55a34fd",
   "metadata": {},
   "source": [
    "### State which step-size you think is best"
   ]
  },
  {
   "cell_type": "markdown",
   "id": "a967485b",
   "metadata": {},
   "source": [
    "The best alpha is 0.01. \n",
    "\n",
    "Because, from above graph, we can found that when alpha is 0.01, delta converge to zero fastest. \n"
   ]
  },
  {
   "cell_type": "markdown",
   "id": "d0c2dc2f",
   "metadata": {},
   "source": [
    "###  and let β(K) denote the estimator achieved when running GD with that choice of step size. Report the train MSE, test MSE"
   ]
  },
  {
   "cell_type": "code",
   "execution_count": 372,
   "id": "e2f6f9e4",
   "metadata": {},
   "outputs": [],
   "source": [
    "Betas = find_beta(b0, x, y, x_t,0.01)"
   ]
  },
  {
   "cell_type": "code",
   "execution_count": 374,
   "id": "cfd23745",
   "metadata": {},
   "outputs": [
    {
     "data": {
      "text/plain": [
       "1001"
      ]
     },
     "execution_count": 374,
     "metadata": {},
     "output_type": "execute_result"
    }
   ],
   "source": [
    "len(Betas)"
   ]
  },
  {
   "cell_type": "code",
   "execution_count": 378,
   "id": "0f030a1b",
   "metadata": {},
   "outputs": [
    {
     "data": {
      "text/plain": [
       "array([[ 0.680673  ],\n",
       "       [ 0.28229334],\n",
       "       [ 0.65157017],\n",
       "       [ 0.00834835],\n",
       "       [-1.17129532],\n",
       "       [-0.400892  ],\n",
       "       [-0.10063355]])"
      ]
     },
     "execution_count": 378,
     "metadata": {},
     "output_type": "execute_result"
    }
   ],
   "source": [
    "B = Betas[1000]\n",
    "B"
   ]
  },
  {
   "cell_type": "code",
   "execution_count": 379,
   "id": "c067223a",
   "metadata": {},
   "outputs": [
    {
     "data": {
      "text/plain": [
       "4.558906724365393"
      ]
     },
     "execution_count": 379,
     "metadata": {},
     "output_type": "execute_result"
    }
   ],
   "source": [
    "train_mse = (np.linalg.norm(y - x@B , ord = 2)**2)/200\n",
    "train_mse"
   ]
  },
  {
   "cell_type": "code",
   "execution_count": 380,
   "id": "29ab3047",
   "metadata": {},
   "outputs": [],
   "source": [
    "y_ts = Y_test.values.reshape(200,1)\n",
    "x_ts= X_test.values.reshape(200,7)"
   ]
  },
  {
   "cell_type": "code",
   "execution_count": 381,
   "id": "addc86cd",
   "metadata": {},
   "outputs": [
    {
     "data": {
      "text/plain": [
       "4.38042918327184"
      ]
     },
     "execution_count": 381,
     "metadata": {},
     "output_type": "execute_result"
    }
   ],
   "source": [
    "test_mse = (np.linalg.norm(y_ts - x_ts@B , ord = 2)**2)/200\n",
    "test_mse"
   ]
  },
  {
   "cell_type": "code",
   "execution_count": 382,
   "id": "e990ed53",
   "metadata": {},
   "outputs": [
    {
     "name": "stdout",
     "output_type": "stream",
     "text": [
      "The train MSE is 4.558906724365393\n",
      "The test MSE is 4.38042918327184\n"
     ]
    }
   ],
   "source": [
    "print(\"The train MSE is {}\".format(train_mse))\n",
    "print(\"The test MSE is {}\".format(test_mse))"
   ]
  },
  {
   "cell_type": "markdown",
   "id": "370f8115",
   "metadata": {},
   "source": [
    "# (j)"
   ]
  },
  {
   "cell_type": "code",
   "execution_count": null,
   "id": "e13c2afc",
   "metadata": {},
   "outputs": [],
   "source": [
    "sgd_alphas = [0.000001, 0.000005, 0.00001, 0.00005, 0.0001, 0.0005, 0.001, 0.006, 0.02]"
   ]
  },
  {
   "cell_type": "code",
   "execution_count": 314,
   "id": "8c2daa5f",
   "metadata": {},
   "outputs": [],
   "source": [
    "def sgd_betas(b0, X_train,Y_train, alpha):\n",
    "    b = b0\n",
    "    sgd_B = []\n",
    "    sgd_B.append(b)\n",
    "    for i in range(1,1001):\n",
    "        i = i % 200\n",
    "        if i == 0:\n",
    "            i = 200\n",
    "        X = X_train.loc[i-1]\n",
    "        Y = Y_train.loc[i-1]\n",
    "    \n",
    "        x = X.values.reshape(7,1)\n",
    "        x_t = x.T \n",
    "    \n",
    "        B = b - alpha*(-2*x@(Y-x_t@b)+b)\n",
    "        sgd_B.append(B)\n",
    "        b = B\n",
    "    return sgd_B"
   ]
  },
  {
   "cell_type": "code",
   "execution_count": 320,
   "id": "959efc67",
   "metadata": {},
   "outputs": [],
   "source": [
    "def sgd_deltas(b0, X_train, Y_train, loss_hat, alpha):\n",
    "    y = Y_train.values.reshape(200,1)\n",
    "    x = X_train.values\n",
    "    sgd_del = []\n",
    "    sgd_B = sgd_betas(b0, X_train,Y_train, alpha)\n",
    "    for B in sgd_B:\n",
    "        loss = np.linalg.norm(y - x@B, ord = 2 )**2/200 + 0.5*np.linalg.norm(B, ord = 2 )**2\n",
    "        delta = loss - loss_hat\n",
    "        sgd_del.append(delta)\n",
    "    return sgd_del   "
   ]
  },
  {
   "cell_type": "code",
   "execution_count": 329,
   "id": "c7ef0221",
   "metadata": {},
   "outputs": [],
   "source": [
    "def sgd_graph(b0, X_train, Y_train, loss_hat, alpha):\n",
    "    sgd_Delta = sgd_deltas(b0, X_train, Y_train, loss_hat, alpha)\n",
    "    k = np.arange(0,len(sgd_Delta)) \n",
    "    \n",
    "\n",
    "    plt.plot(k, sgd_Delta, color='blue')      \n",
    "    plt.xlabel(\"k\")                                    \n",
    "    plt.ylabel(\"sgd_Delta\")\n",
    "    plt.title(\"alpha=\"+str(alpha),pad=15)"
   ]
  },
  {
   "cell_type": "code",
   "execution_count": 330,
   "id": "bc2103dd",
   "metadata": {},
   "outputs": [
    {
     "data": {
      "image/png": "[encoded data removed]",
      "text/plain": [
       "<Figure size 432x288 with 9 Axes>"
      ]
     },
     "metadata": {
      "needs_background": "light"
     },
     "output_type": "display_data"
    }
   ],
   "source": [
    "i = 1\n",
    "for alpha in sgd_alphas:\n",
    "    plt.subplot(3,3,i)\n",
    "    sgd_graph(b0, X_train, Y_train, loss_hat, alpha)\n",
    "    i = i + 1\n",
    "\n",
    "plt.tight_layout()\n",
    "plt.show()"
   ]
  },
  {
   "cell_type": "markdown",
   "id": "523cea87",
   "metadata": {},
   "source": [
    "### Report the best step-size choice and the corresponding train and test MSEs.\n",
    "### ****** mse계산하기!!!"
   ]
  },
  {
   "cell_type": "markdown",
   "id": "fce9ae15",
   "metadata": {},
   "source": [
    "The best alpha is 0.006.\n",
    "Because, when alpha is 0.006, y converges to zero at a high speed.\n",
    "So it is cost-effective. And it is more stable than when alpha is 0.02.\n",
    "When alpha is 0.02, y goes up and down.\n",
    "In other words, the B is closed to B_hat and it far away from the B_hat again.\n"
   ]
  },
  {
   "cell_type": "markdown",
   "id": "4310b576",
   "metadata": {},
   "source": [
    "From the above, y converges to zero at a high speed when alpha are 0.006 and 0.02.\n",
    "However, it is not stable when the alpha is 0.02. \n",
    "Because y goes up and down.\n",
    "This shows that B is getting closed to B_hat and it again far away from the B_hat.\n",
    "So this is not cost-effective.\n",
    "Whereas, when alpha is 0.006, it goes to zero fast and is relatively more stable than when alpha is 0.02.\n",
    "Thus, we conclude that 0.006 is the best alpha(step-size)."
   ]
  },
  {
   "cell_type": "markdown",
   "id": "6be4932a",
   "metadata": {},
   "source": [
    "###  In some cases you might observe that the value of ∆(k) jumps up and down, and this is not something you would have seen using batch GD. Why do you think this might be happening?"
   ]
  },
  {
   "cell_type": "markdown",
   "id": "313f0798",
   "metadata": {},
   "source": [
    "BGD decide the direction that minimize the sum of all loss functions.\n",
    "\n",
    "Whereas, SGD decide the dircetion that minimize each loss function.\n",
    "For example, when we calculate SGD derivative we use only one row of x\n",
    "whereas, we use all rows of X, when we do BGD.\n",
    "Thus, the direction is changed during an each step and this let delta(k) jumps up and down."
   ]
  },
  {
   "cell_type": "code",
   "execution_count": 383,
   "id": "a0b66414",
   "metadata": {},
   "outputs": [
    {
     "name": "stdout",
     "output_type": "stream",
     "text": [
      "1001\n"
     ]
    }
   ],
   "source": [
    "sgd_B =sgd_betas(b0, X_train,Y_train, 0.006)\n",
    "print(len(sgd_B))"
   ]
  },
  {
   "cell_type": "code",
   "execution_count": 385,
   "id": "fac2e89e",
   "metadata": {},
   "outputs": [
    {
     "data": {
      "text/plain": [
       "array([[ 0.49915986],\n",
       "       [ 0.26437122],\n",
       "       [ 0.64521676],\n",
       "       [-0.16999595],\n",
       "       [-1.36299439],\n",
       "       [-0.29527704],\n",
       "       [-0.17905282]])"
      ]
     },
     "execution_count": 385,
     "metadata": {},
     "output_type": "execute_result"
    }
   ],
   "source": [
    "B_ = sgd_B[1000]\n",
    "B_"
   ]
  },
  {
   "cell_type": "code",
   "execution_count": 386,
   "id": "6f3638fd",
   "metadata": {},
   "outputs": [],
   "source": [
    "train_mse = (np.linalg.norm(y - x@B_ , ord = 2)**2)/200\n",
    "test_mse = (np.linalg.norm(y_ts - x_ts@B_ , ord = 2)**2)/200"
   ]
  },
  {
   "cell_type": "code",
   "execution_count": 387,
   "id": "24bc3b5e",
   "metadata": {},
   "outputs": [
    {
     "name": "stdout",
     "output_type": "stream",
     "text": [
      "The train MSE is 4.661749176041872\n",
      "The test MSE is 4.447228989660328\n"
     ]
    }
   ],
   "source": [
    "print(\"The train MSE is {}\".format(train_mse))\n",
    "print(\"The test MSE is {}\".format(test_mse))"
   ]
  },
  {
   "cell_type": "markdown",
   "id": "4c884e2c",
   "metadata": {},
   "source": [
    "# (k)"
   ]
  },
  {
   "cell_type": "markdown",
   "id": "f9326ff1",
   "metadata": {},
   "source": [
    "###  Based on your GD and SGD results, which algorithm do you prefer?"
   ]
  },
  {
   "cell_type": "markdown",
   "id": "fdf4cb97",
   "metadata": {},
   "source": [
    "GD is preferable. Because the optimal stepsize for GD is 0.01 and for SGD is 0.006.\n",
    "\n",
    "0.01 is greater than 0.006 which means 0.01 moves faster than 0.006.\n",
    "Thus, 0.01 converges to zero faster than 0.006.\n",
    "\n",
    "***************************\n",
    "이거 다시 생각해봐야함. 대충한거임\n",
    "\n",
    "The train MSE and test MSE for GD are 4.559 and 4.380.\n",
    "And the train MSE and test MSE for SGD are 4.662 and 4.447.\n",
    "We can see that MSE for GD are slightly less than the SGD.\n",
    "However, even if GD's MSE are better than the SGD, SGD is much more cost-effective.\n",
    "Thus, if we have similar MSE for both algorithms then SGD is preferable.\n",
    "\n",
    "\n"
   ]
  },
  {
   "cell_type": "markdown",
   "id": "10a1febe",
   "metadata": {},
   "source": [
    "###  When is it a better idea to use GD? When is it a better idea to use SGD?"
   ]
  },
  {
   "cell_type": "markdown",
   "id": "de6fbd2b",
   "metadata": {},
   "source": [
    "BGD consider all the data points.\n",
    "Thus, if the data size is big such as big data, then BGD takes a long time to calculate the gradients.\n",
    "Hence, it is not costley effective.\n",
    "\n",
    "Whereas, SGD consider a data point for each step. Hence, it is costly effective. \n",
    "So, SGD is suitable when we deal with big data.\n",
    "\n",
    "However, SGD could have many iterations. \n",
    "For example, as we saw earlier, it jumps up and down and delay the convergence.\n",
    "Thus, BGD is good for when we deal with convex function and if the data size is not too big."
   ]
  },
  {
   "cell_type": "markdown",
   "id": "d1749aa9",
   "metadata": {},
   "source": [
    "# (b)"
   ]
  },
  {
   "cell_type": "markdown",
   "id": "50cf242a",
   "metadata": {},
   "source": [
    "It means that size of the derivatives is smaller than 0.001.\n",
    "The closer it is to the global minimum, the closer its derivative is to zero.\n",
    "Hence, the size of the derivatives gets smaller(almost closed to zero).\n",
    "Thus, this condition is needed to stop the gradient search when it is closed to the global minimum. \n",
    "So that we could avoid the possibility of passing the global minimum.\n",
    "And if we make the right-hand side smaller(0.0001), then we let GD go closer to the global minimum than 0.001.\n",
    "Because, we could stop GD if it's smaller that 0.0001.\n",
    "So we could get more accurate results but it will take more time for estimation."
   ]
  },
  {
   "cell_type": "code",
   "execution_count": null,
   "id": "37c3fa47",
   "metadata": {},
   "outputs": [],
   "source": []
  }
 ],
 "metadata": {
  "kernelspec": {
   "display_name": "Python 3 (ipykernel)",
   "language": "python",
   "name": "python3"
  },
  "language_info": {
   "codemirror_mode": {
    "name": "ipython",
    "version": 3
   },
   "file_extension": ".py",
   "mimetype": "text/x-python",
   "name": "python",
   "nbconvert_exporter": "python",
   "pygments_lexer": "ipython3",
   "version": "3.9.7"
  }
 },
 "nbformat": 4,
 "nbformat_minor": 5
}
