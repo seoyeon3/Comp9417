{
 "cells": [
  {
   "cell_type": "markdown",
   "id": "b7bd9526",
   "metadata": {},
   "source": [
    "# (a)"
   ]
  },
  {
   "cell_type": "code",
   "execution_count": 1,
   "id": "048568d6",
   "metadata": {},
   "outputs": [],
   "source": [
    "import numpy as np\n",
    "import matplotlib.pyplot as plt\n",
    "from numpy.linalg import det, inv\n",
    "import pandas as pd\n",
    "from sklearn.model_selection import train_test_split"
   ]
  },
  {
   "cell_type": "code",
   "execution_count": 141,
   "id": "e5af3399",
   "metadata": {},
   "outputs": [],
   "source": [
    "A = np.array([[1,2,1,-1],[-1,1,0,2],[0,-1,-2,1]])\n",
    "b = np.array([3,2,-2]).reshape(3,1)\n",
    "A_t = A.T\n",
    "x0 = np.array([1,1,1,1]).reshape(4,1)"
   ]
  },
  {
   "cell_type": "code",
   "execution_count": 146,
   "id": "8d66ddf2",
   "metadata": {},
   "outputs": [],
   "source": [
    "def find_X(A, A_t, b, x0, alpha):\n",
    "    X = []\n",
    "    X.append(x0)\n",
    "    x = x0\n",
    "    k = 1\n",
    "    while True:\n",
    "        delta = -A_t@b + A_t@A@x + 0.2*x\n",
    "        delta_2norm = np.linalg.norm(delta, ord=2)\n",
    "        \n",
    "        if delta_2norm < 0.001 or k >= 10000:\n",
    "            break\n",
    "          \n",
    "        X_ = x - alpha*delta\n",
    "        x = X_\n",
    "        X.append(X_)\n",
    "        k = k + 1\n",
    "        \n",
    "    return X "
   ]
  },
  {
   "cell_type": "code",
   "execution_count": 143,
   "id": "51e9e2d8",
   "metadata": {},
   "outputs": [],
   "source": [
    "X = find_X(A, A_t, b, x0, 0.1)\n",
    "length = len(X)"
   ]
  },
  {
   "cell_type": "code",
   "execution_count": 144,
   "id": "39258fac",
   "metadata": {},
   "outputs": [
    {
     "name": "stdout",
     "output_type": "stream",
     "text": [
      "k=0,    x(k)=[1,1,1,1]\n",
      "k=1,    x(k)=[0.98,0.98,0.98,0.98]\n",
      "k=2,    x(k)=[0.9624,0.9804,0.9744,0.9584]\n",
      "k=3,    x(k)=[0.9427,0.9824,0.9668,0.9433]\n",
      "k=4,    x(k)=[0.9234,0.9866,0.9598,0.9295]\n",
      "k=5,    x(k)=[0.9044,0.9916,0.9526,0.9169]\n",
      "k=272,  x(k)=[0.0666,1.3366,0.4928,0.3251]\n",
      "k=273,  x(k)=[0.0666,1.3366,0.4928,0.325]\n",
      "k=274,  x(k)=[0.0665,1.3366,0.4927,0.325]\n",
      "k=275,  x(k)=[0.0664,1.3367,0.4927,0.3249]\n",
      "k=276,  x(k)=[0.0663,1.3367,0.4927,0.3249]\n"
     ]
    }
   ],
   "source": [
    "for i in range(0,6):\n",
    "    x = X[i].T[0]\n",
    "    print(\"k={},    x(k)=[{},{},{},{}]\".format(i,round(x[0],4) ,round(x[1],4), round(x[2],4), round(x[3],4)))\n",
    "    \n",
    "\n",
    "for j in range(length-5,length):\n",
    "    x = X[j].T[0]\n",
    "    print(\"k={},  x(k)=[{},{},{},{}]\".format(j,round(x[0],4) ,round(x[1],4), round(x[2],4), round(x[3],4)))"
   ]
  },
  {
   "cell_type": "markdown",
   "id": "b3b2c451",
   "metadata": {},
   "source": [
    "# (c)"
   ]
  },
  {
   "cell_type": "code",
   "execution_count": 88,
   "id": "9e1eea95",
   "metadata": {},
   "outputs": [
    {
     "data": {
      "text/plain": [
       "array([[0.06285483],\n",
       "       [1.33819951],\n",
       "       [0.49067315],\n",
       "       [0.32238443]])"
      ]
     },
     "execution_count": 88,
     "metadata": {},
     "output_type": "execute_result"
    }
   ],
   "source": [
    "x_hat = inv(A_t@A + 0.2*np.identity(4))@A_t@b\n",
    "x_hat"
   ]
  },
  {
   "cell_type": "markdown",
   "id": "9800c060",
   "metadata": {},
   "source": [
    "# (d)"
   ]
  },
  {
   "cell_type": "code",
   "execution_count": 7,
   "id": "e8f778a7",
   "metadata": {},
   "outputs": [],
   "source": [
    "alphas = 0.0000001, 0.000001, 0.00001, 0.0001, 0.001, 0.01, 0.02, 0.1, 0.15"
   ]
  },
  {
   "cell_type": "code",
   "execution_count": 8,
   "id": "2f8fd8d5",
   "metadata": {},
   "outputs": [],
   "source": [
    "def find_delta(A, A_t, b, x0, x_hat, alpha):\n",
    "    Delta_2norms = []\n",
    "    X = find_X(A, A_t, b, x0, alpha)\n",
    "    for x in X:\n",
    "        delta = x - x_hat\n",
    "        delta_2norm = np.linalg.norm(delta, ord=2) \n",
    "        Delta_2norms.append(delta_2norm)\n",
    "    del Delta_2norms[0] #delete k = 0, because we need to draw from k=1\n",
    "    return Delta_2norms   "
   ]
  },
  {
   "cell_type": "code",
   "execution_count": 9,
   "id": "bbe356de",
   "metadata": {},
   "outputs": [],
   "source": [
    "def graphs(A, A_t, b, x0, x_hat, alpha):\n",
    "    Delta_2norms = find_delta(A, A_t, b, x0, x_hat, alpha)\n",
    "    k = np.arange(1,len(Delta_2norms)+1)\n",
    "        \n",
    "    plt.subplot(3,3,i)\n",
    "    plt.plot(k,Delta_2norms)\n",
    "    plt.axhline(0.001, color = 'red')\n",
    "    \n",
    "    plt.xlabel(\"k\")                                    \n",
    "    plt.ylabel(\"Delta_2norm\")\n",
    "    plt.title(\"alpha=\"+str(alpha))"
   ]
  },
  {
   "cell_type": "code",
   "execution_count": 10,
   "id": "07afccc7",
   "metadata": {},
   "outputs": [
    {
     "data": {
      "image/png": "[encoded data removed]",
      "text/plain": [
       "<Figure size 432x288 with 9 Axes>"
      ]
     },
     "metadata": {
      "needs_background": "light"
     },
     "output_type": "display_data"
    }
   ],
   "source": [
    "i = 1\n",
    "for alpha in alphas:\n",
    "    plt.subplot(3,3,i)\n",
    "    graphs(A, A_t, b, x0, x_hat, alpha)\n",
    "    i = i + 1\n",
    "\n",
    "plt.tight_layout()\n",
    "plt.show()"
   ]
  },
  {
   "cell_type": "markdown",
   "id": "b984f482",
   "metadata": {},
   "source": [
    "# (e)"
   ]
  },
  {
   "cell_type": "code",
   "execution_count": 152,
   "id": "ddd922ed",
   "metadata": {},
   "outputs": [],
   "source": [
    "data = pd.read_csv('CarSeats.csv')\n",
    "categorical_predictors = ['ShelveLoc','Urban','US']\n",
    "numerical_data = data.drop(categorical_predictors, axis=1)\n",
    "response = ['Sales']\n",
    "predictors=[x for x in list(numerical_data.columns) if x not in response]"
   ]
  },
  {
   "cell_type": "code",
   "execution_count": 153,
   "id": "5654b9b4",
   "metadata": {},
   "outputs": [],
   "source": [
    "from sklearn.preprocessing import StandardScaler"
   ]
  },
  {
   "cell_type": "code",
   "execution_count": 154,
   "id": "a19c904d",
   "metadata": {},
   "outputs": [],
   "source": [
    "scaler = StandardScaler()\n",
    "numerical_data[predictors] = scaler.fit_transform(numerical_data[predictors])\n",
    "#numerical_data[predictors]"
   ]
  },
  {
   "cell_type": "code",
   "execution_count": 155,
   "id": "8434ce77",
   "metadata": {},
   "outputs": [
    {
     "data": {
      "text/plain": [
       "CompPrice      3.483325e-16\n",
       "Income         5.162537e-17\n",
       "Advertising   -6.161738e-17\n",
       "Population     1.454392e-16\n",
       "Price         -6.994405e-17\n",
       "Age            1.786071e-16\n",
       "Education     -2.534084e-16\n",
       "dtype: float64"
      ]
     },
     "execution_count": 155,
     "metadata": {},
     "output_type": "execute_result"
    }
   ],
   "source": [
    "numerical_data[predictors].mean()"
   ]
  },
  {
   "cell_type": "code",
   "execution_count": 156,
   "id": "c499ee89",
   "metadata": {},
   "outputs": [
    {
     "data": {
      "text/plain": [
       "CompPrice      1.002506\n",
       "Income         1.002506\n",
       "Advertising    1.002506\n",
       "Population     1.002506\n",
       "Price          1.002506\n",
       "Age            1.002506\n",
       "Education      1.002506\n",
       "dtype: float64"
      ]
     },
     "execution_count": 156,
     "metadata": {},
     "output_type": "execute_result"
    }
   ],
   "source": [
    "numerical_data[predictors].var()"
   ]
  },
  {
   "cell_type": "code",
   "execution_count": 158,
   "id": "3a002863",
   "metadata": {},
   "outputs": [],
   "source": [
    "target_mean = numerical_data[response].mean()\n",
    "numerical_data[response] = numerical_data[response]-target_mean"
   ]
  },
  {
   "cell_type": "code",
   "execution_count": 159,
   "id": "a6c29462",
   "metadata": {},
   "outputs": [],
   "source": [
    "X_train, X_test, Y_train, Y_test = train_test_split(numerical_data.iloc[:,1:], numerical_data.iloc[:,0], test_size=0.5, shuffle=False)"
   ]
  },
  {
   "cell_type": "code",
   "execution_count": 23,
   "id": "357dd84c",
   "metadata": {},
   "outputs": [
    {
     "data": {
      "text/html": [
       "<div>\n",
       "<style scoped>\n",
       "    .dataframe tbody tr th:only-of-type {\n",
       "        vertical-align: middle;\n",
       "    }\n",
       "\n",
       "    .dataframe tbody tr th {\n",
       "        vertical-align: top;\n",
       "    }\n",
       "\n",
       "    .dataframe thead th {\n",
       "        text-align: right;\n",
       "    }\n",
       "</style>\n",
       "<table border=\"1\" class=\"dataframe\">\n",
       "  <thead>\n",
       "    <tr style=\"text-align: right;\">\n",
       "      <th></th>\n",
       "      <th>CompPrice</th>\n",
       "      <th>Income</th>\n",
       "      <th>Advertising</th>\n",
       "      <th>Population</th>\n",
       "      <th>Price</th>\n",
       "      <th>Age</th>\n",
       "      <th>Education</th>\n",
       "    </tr>\n",
       "  </thead>\n",
       "  <tbody>\n",
       "    <tr>\n",
       "      <th>0</th>\n",
       "      <td>0.850455</td>\n",
       "      <td>0.155361</td>\n",
       "      <td>0.657177</td>\n",
       "      <td>0.075819</td>\n",
       "      <td>0.177823</td>\n",
       "      <td>-0.699782</td>\n",
       "      <td>1.184449</td>\n",
       "    </tr>\n",
       "  </tbody>\n",
       "</table>\n",
       "</div>"
      ],
      "text/plain": [
       "   CompPrice    Income  Advertising  Population     Price       Age  Education\n",
       "0   0.850455  0.155361     0.657177    0.075819  0.177823 -0.699782   1.184449"
      ]
     },
     "execution_count": 23,
     "metadata": {},
     "output_type": "execute_result"
    }
   ],
   "source": [
    "X_train.head(1)"
   ]
  },
  {
   "cell_type": "code",
   "execution_count": 24,
   "id": "29bb8889",
   "metadata": {},
   "outputs": [
    {
     "data": {
      "text/html": [
       "<div>\n",
       "<style scoped>\n",
       "    .dataframe tbody tr th:only-of-type {\n",
       "        vertical-align: middle;\n",
       "    }\n",
       "\n",
       "    .dataframe tbody tr th {\n",
       "        vertical-align: top;\n",
       "    }\n",
       "\n",
       "    .dataframe thead th {\n",
       "        text-align: right;\n",
       "    }\n",
       "</style>\n",
       "<table border=\"1\" class=\"dataframe\">\n",
       "  <thead>\n",
       "    <tr style=\"text-align: right;\">\n",
       "      <th></th>\n",
       "      <th>CompPrice</th>\n",
       "      <th>Income</th>\n",
       "      <th>Advertising</th>\n",
       "      <th>Population</th>\n",
       "      <th>Price</th>\n",
       "      <th>Age</th>\n",
       "      <th>Education</th>\n",
       "    </tr>\n",
       "  </thead>\n",
       "  <tbody>\n",
       "    <tr>\n",
       "      <th>199</th>\n",
       "      <td>-0.19425</td>\n",
       "      <td>0.692014</td>\n",
       "      <td>-0.246159</td>\n",
       "      <td>0.476656</td>\n",
       "      <td>0.431555</td>\n",
       "      <td>0.659918</td>\n",
       "      <td>0.038208</td>\n",
       "    </tr>\n",
       "  </tbody>\n",
       "</table>\n",
       "</div>"
      ],
      "text/plain": [
       "     CompPrice    Income  Advertising  Population     Price       Age  \\\n",
       "199   -0.19425  0.692014    -0.246159    0.476656  0.431555  0.659918   \n",
       "\n",
       "     Education  \n",
       "199   0.038208  "
      ]
     },
     "execution_count": 24,
     "metadata": {},
     "output_type": "execute_result"
    }
   ],
   "source": [
    "X_train.tail(1)"
   ]
  },
  {
   "cell_type": "code",
   "execution_count": 25,
   "id": "ed2bb8cd",
   "metadata": {},
   "outputs": [
    {
     "data": {
      "text/html": [
       "<div>\n",
       "<style scoped>\n",
       "    .dataframe tbody tr th:only-of-type {\n",
       "        vertical-align: middle;\n",
       "    }\n",
       "\n",
       "    .dataframe tbody tr th {\n",
       "        vertical-align: top;\n",
       "    }\n",
       "\n",
       "    .dataframe thead th {\n",
       "        text-align: right;\n",
       "    }\n",
       "</style>\n",
       "<table border=\"1\" class=\"dataframe\">\n",
       "  <thead>\n",
       "    <tr style=\"text-align: right;\">\n",
       "      <th></th>\n",
       "      <th>CompPrice</th>\n",
       "      <th>Income</th>\n",
       "      <th>Advertising</th>\n",
       "      <th>Population</th>\n",
       "      <th>Price</th>\n",
       "      <th>Age</th>\n",
       "      <th>Education</th>\n",
       "    </tr>\n",
       "  </thead>\n",
       "  <tbody>\n",
       "    <tr>\n",
       "      <th>200</th>\n",
       "      <td>1.242219</td>\n",
       "      <td>0.835121</td>\n",
       "      <td>-0.998939</td>\n",
       "      <td>0.57177</td>\n",
       "      <td>1.277326</td>\n",
       "      <td>0.536309</td>\n",
       "      <td>-0.725953</td>\n",
       "    </tr>\n",
       "  </tbody>\n",
       "</table>\n",
       "</div>"
      ],
      "text/plain": [
       "     CompPrice    Income  Advertising  Population     Price       Age  \\\n",
       "200   1.242219  0.835121    -0.998939     0.57177  1.277326  0.536309   \n",
       "\n",
       "     Education  \n",
       "200  -0.725953  "
      ]
     },
     "execution_count": 25,
     "metadata": {},
     "output_type": "execute_result"
    }
   ],
   "source": [
    "X_test.head(1)"
   ]
  },
  {
   "cell_type": "code",
   "execution_count": 26,
   "id": "0bc02431",
   "metadata": {},
   "outputs": [
    {
     "data": {
      "text/html": [
       "<div>\n",
       "<style scoped>\n",
       "    .dataframe tbody tr th:only-of-type {\n",
       "        vertical-align: middle;\n",
       "    }\n",
       "\n",
       "    .dataframe tbody tr th {\n",
       "        vertical-align: top;\n",
       "    }\n",
       "\n",
       "    .dataframe thead th {\n",
       "        text-align: right;\n",
       "    }\n",
       "</style>\n",
       "<table border=\"1\" class=\"dataframe\">\n",
       "  <thead>\n",
       "    <tr style=\"text-align: right;\">\n",
       "      <th></th>\n",
       "      <th>CompPrice</th>\n",
       "      <th>Income</th>\n",
       "      <th>Advertising</th>\n",
       "      <th>Population</th>\n",
       "      <th>Price</th>\n",
       "      <th>Age</th>\n",
       "      <th>Education</th>\n",
       "    </tr>\n",
       "  </thead>\n",
       "  <tbody>\n",
       "    <tr>\n",
       "      <th>399</th>\n",
       "      <td>0.589279</td>\n",
       "      <td>-1.132606</td>\n",
       "      <td>-0.998939</td>\n",
       "      <td>-1.615848</td>\n",
       "      <td>0.177823</td>\n",
       "      <td>-0.26715</td>\n",
       "      <td>0.802369</td>\n",
       "    </tr>\n",
       "  </tbody>\n",
       "</table>\n",
       "</div>"
      ],
      "text/plain": [
       "     CompPrice    Income  Advertising  Population     Price      Age  \\\n",
       "399   0.589279 -1.132606    -0.998939   -1.615848  0.177823 -0.26715   \n",
       "\n",
       "     Education  \n",
       "399   0.802369  "
      ]
     },
     "execution_count": 26,
     "metadata": {},
     "output_type": "execute_result"
    }
   ],
   "source": [
    "X_test.tail(1)"
   ]
  },
  {
   "cell_type": "code",
   "execution_count": 27,
   "id": "9c5c679b",
   "metadata": {},
   "outputs": [
    {
     "data": {
      "text/plain": [
       "0    2.003675\n",
       "Name: Sales, dtype: float64"
      ]
     },
     "execution_count": 27,
     "metadata": {},
     "output_type": "execute_result"
    }
   ],
   "source": [
    "Y_train.head(1)"
   ]
  },
  {
   "cell_type": "code",
   "execution_count": 28,
   "id": "096d8631",
   "metadata": {},
   "outputs": [
    {
     "data": {
      "text/plain": [
       "199   -1.076325\n",
       "Name: Sales, dtype: float64"
      ]
     },
     "execution_count": 28,
     "metadata": {},
     "output_type": "execute_result"
    }
   ],
   "source": [
    "Y_train.tail(1)"
   ]
  },
  {
   "cell_type": "code",
   "execution_count": 29,
   "id": "24b77cdf",
   "metadata": {},
   "outputs": [
    {
     "data": {
      "text/plain": [
       "200   -1.936325\n",
       "Name: Sales, dtype: float64"
      ]
     },
     "execution_count": 29,
     "metadata": {},
     "output_type": "execute_result"
    }
   ],
   "source": [
    "Y_test.head(1)"
   ]
  },
  {
   "cell_type": "code",
   "execution_count": 30,
   "id": "923fea6d",
   "metadata": {},
   "outputs": [
    {
     "data": {
      "text/plain": [
       "399    2.213675\n",
       "Name: Sales, dtype: float64"
      ]
     },
     "execution_count": 30,
     "metadata": {},
     "output_type": "execute_result"
    }
   ],
   "source": [
    "Y_test.tail(1)"
   ]
  },
  {
   "cell_type": "markdown",
   "id": "9def42a0",
   "metadata": {},
   "source": [
    "# (g)"
   ]
  },
  {
   "cell_type": "code",
   "execution_count": 160,
   "id": "f205522c",
   "metadata": {},
   "outputs": [],
   "source": [
    "X_transpose = X_train.T"
   ]
  },
  {
   "cell_type": "code",
   "execution_count": 161,
   "id": "9c33c849",
   "metadata": {},
   "outputs": [
    {
     "data": {
      "text/plain": [
       "0    1.674911\n",
       "1    0.368707\n",
       "2    1.109761\n",
       "3    0.020805\n",
       "4   -2.321392\n",
       "5   -0.519396\n",
       "6   -0.149282\n",
       "dtype: float64"
      ]
     },
     "execution_count": 161,
     "metadata": {},
     "output_type": "execute_result"
    }
   ],
   "source": [
    "B_ridge = np.linalg.inv(X_transpose@X_train + 0.5*np.identity(7))@X_transpose@Y_train\n",
    "B_ridge"
   ]
  },
  {
   "cell_type": "markdown",
   "id": "1ad3fe4c",
   "metadata": {},
   "source": [
    "# (i)"
   ]
  },
  {
   "cell_type": "code",
   "execution_count": 162,
   "id": "8d19f415",
   "metadata": {},
   "outputs": [],
   "source": [
    "B0 = pd.DataFrame({'CompPrice':[1],\n",
    "                    'Income':[1],\n",
    "                    'Advertising':[1],\n",
    "                    'Population':[1],\n",
    "                    'Price':[1],\n",
    "                    'Age':[1],\n",
    "                    'Education':[1]   \n",
    "                  })"
   ]
  },
  {
   "cell_type": "code",
   "execution_count": 163,
   "id": "d43c3675",
   "metadata": {},
   "outputs": [],
   "source": [
    "b0 = B0.values.reshape(7,1)\n",
    "x = X_train.values.reshape(200,7)\n",
    "x_t = x.T.reshape(7,200)\n",
    "y = Y_train.values.reshape(200,1)"
   ]
  },
  {
   "cell_type": "code",
   "execution_count": 164,
   "id": "7f6d3b65",
   "metadata": {},
   "outputs": [
    {
     "data": {
      "text/plain": [
       "1732.27024094426"
      ]
     },
     "execution_count": 164,
     "metadata": {},
     "output_type": "execute_result"
    }
   ],
   "source": [
    "loss_hat = np.linalg.norm(y - x@B_ridge, ord = 2 )**2/200 + 0.5*np.linalg.norm(B_ridge, ord = 2 )**2\n",
    "loss_hat"
   ]
  },
  {
   "cell_type": "code",
   "execution_count": 165,
   "id": "2eed5908",
   "metadata": {},
   "outputs": [],
   "source": [
    "alphas = [0.000001, 0.000005, 0.00001, 0.00005, 0.0001, 0.0005, 0.001, 0.005, 0.01]"
   ]
  },
  {
   "cell_type": "code",
   "execution_count": 166,
   "id": "39c9777b",
   "metadata": {},
   "outputs": [],
   "source": [
    "def loss_function(y, x, B):\n",
    "    loss = np.linalg.norm(y - x@B, ord = 2 )**2/200 + 0.5*np.linalg.norm(B, ord = 2 )**2\n",
    "    return loss"
   ]
  },
  {
   "cell_type": "code",
   "execution_count": 167,
   "id": "7d68bd16",
   "metadata": {},
   "outputs": [],
   "source": [
    "def find_beta(b0, x, y, x_t,alpha):\n",
    "    b = b0\n",
    "    Betas = []\n",
    "    Betas.append(b)\n",
    "    for k in range(1, 1001):\n",
    "        B = b - alpha*(-2*x_t@(y-x@b) + 200*b)/200\n",
    "        b = B\n",
    "        Betas.append(B)\n",
    "        \n",
    "    return Betas   "
   ]
  },
  {
   "cell_type": "code",
   "execution_count": 168,
   "id": "dea679d3",
   "metadata": {},
   "outputs": [],
   "source": [
    "def find_delta(b0, x, y, x_t,loss_hat,alpha):\n",
    "    Deltas = []\n",
    "    Betas = find_beta(b0, x, y, x_t,alpha)\n",
    "    \n",
    "    for B in Betas:        \n",
    "        loss = np.linalg.norm(y - x@B, ord = 2 )**2/200 + 0.5*np.linalg.norm(B, ord = 2 )**2     \n",
    "        delta = loss - loss_hat\n",
    "        Deltas.append(delta)\n",
    "    return Deltas"
   ]
  },
  {
   "cell_type": "code",
   "execution_count": 169,
   "id": "4768925c",
   "metadata": {},
   "outputs": [],
   "source": [
    "def ridge_graph(b0, x, y, x_t, loss_hat, alpha):\n",
    "    deltas = find_delta(b0, x, y, x_t, loss_hat, alpha)\n",
    "    k = np.arange(0,len(deltas)) \n",
    "    \n",
    "    plt.plot(k, deltas, color='blue')      \n",
    "    plt.xlabel(\"k\")                                    \n",
    "    plt.ylabel(\"Delta\")\n",
    "    plt.title(\"alpha=\"+str(alpha),pad=15)"
   ]
  },
  {
   "cell_type": "code",
   "execution_count": 170,
   "id": "12b36a6b",
   "metadata": {},
   "outputs": [
    {
     "data": {
      "image/png": "[encoded data removed]",
      "text/plain": [
       "<Figure size 432x288 with 9 Axes>"
      ]
     },
     "metadata": {
      "needs_background": "light"
     },
     "output_type": "display_data"
    }
   ],
   "source": [
    "i = 1\n",
    "for alpha in alphas:\n",
    "    plt.subplot(3,3,i)\n",
    "    ridge_graph(b0, x, y, x_t, loss_hat, alpha)\n",
    "    i = i + 1\n",
    "\n",
    "plt.tight_layout()\n",
    "plt.show()"
   ]
  },
  {
   "cell_type": "code",
   "execution_count": 82,
   "id": "660bc9b8",
   "metadata": {},
   "outputs": [],
   "source": [
    "Betas = find_beta(b0, x, y, x_t,0.01)\n",
    "B = Betas[1000]"
   ]
  },
  {
   "cell_type": "code",
   "execution_count": 47,
   "id": "82dc432f",
   "metadata": {},
   "outputs": [],
   "source": [
    "train_mse = (np.linalg.norm(y - x@B , ord = 2)**2)/200\n",
    "\n",
    "y_ts = Y_test.values.reshape(200,1)\n",
    "x_ts= X_test.values.reshape(200,7)\n",
    "test_mse = (np.linalg.norm(y_ts - x_ts@B , ord = 2)**2)/200"
   ]
  },
  {
   "cell_type": "code",
   "execution_count": 48,
   "id": "026ab077",
   "metadata": {},
   "outputs": [
    {
     "name": "stdout",
     "output_type": "stream",
     "text": [
      "The train MSE is 4.558906724365395\n",
      "The test MSE is 4.380429183271841\n"
     ]
    }
   ],
   "source": [
    "print(\"The train MSE is {}\".format(train_mse))\n",
    "print(\"The test MSE is {}\".format(test_mse))"
   ]
  },
  {
   "cell_type": "markdown",
   "id": "46512c82",
   "metadata": {},
   "source": [
    "# (j)"
   ]
  },
  {
   "cell_type": "code",
   "execution_count": 49,
   "id": "d5c7c014",
   "metadata": {},
   "outputs": [],
   "source": [
    "sgd_alphas = [0.000001, 0.000005, 0.00001, 0.00005, 0.0001, 0.0005, 0.001, 0.006, 0.02]"
   ]
  },
  {
   "cell_type": "code",
   "execution_count": 50,
   "id": "743c615d",
   "metadata": {},
   "outputs": [],
   "source": [
    "def sgd_betas(b0, X_train,Y_train, alpha):\n",
    "    b = b0\n",
    "    sgd_B = []\n",
    "    sgd_B.append(b)\n",
    "    for i in range(1,1001):\n",
    "        i = i % 200\n",
    "        if i == 0:\n",
    "            i = 200\n",
    "        X = X_train.loc[i-1]\n",
    "        Y = Y_train.loc[i-1]\n",
    "    \n",
    "        x = X.values.reshape(7,1)\n",
    "        x_t = x.T \n",
    "    \n",
    "        B = b - alpha*(-2*x@(Y-x_t@b)+b)\n",
    "        sgd_B.append(B)\n",
    "        b = B\n",
    "    return sgd_B"
   ]
  },
  {
   "cell_type": "code",
   "execution_count": 51,
   "id": "0ebbf55f",
   "metadata": {},
   "outputs": [],
   "source": [
    "def sgd_deltas(b0, X_train, Y_train, loss_hat, alpha):\n",
    "    y = Y_train.values.reshape(200,1)\n",
    "    x = X_train.values\n",
    "    sgd_del = []\n",
    "    sgd_B = sgd_betas(b0, X_train,Y_train, alpha)\n",
    "    for B in sgd_B:\n",
    "        loss = np.linalg.norm(y - x@B, ord = 2 )**2/200 + 0.5*np.linalg.norm(B, ord = 2 )**2\n",
    "        delta = loss - loss_hat\n",
    "        sgd_del.append(delta)\n",
    "    return sgd_del   "
   ]
  },
  {
   "cell_type": "code",
   "execution_count": 52,
   "id": "e0f4f346",
   "metadata": {},
   "outputs": [],
   "source": [
    "def sgd_graph(b0, X_train, Y_train, loss_hat, alpha):\n",
    "    sgd_Delta = sgd_deltas(b0, X_train, Y_train, loss_hat, alpha)\n",
    "    k = np.arange(0,len(sgd_Delta)) \n",
    "    \n",
    "\n",
    "    plt.plot(k, sgd_Delta, color='blue')      \n",
    "    plt.xlabel(\"k\")                                    \n",
    "    plt.ylabel(\"sgd_Delta\")\n",
    "    plt.title(\"alpha=\"+str(alpha),pad=15)"
   ]
  },
  {
   "cell_type": "code",
   "execution_count": 53,
   "id": "4ae573d7",
   "metadata": {},
   "outputs": [
    {
     "data": {
      "image/png": "[encoded data removed]",
      "text/plain": [
       "<Figure size 432x288 with 9 Axes>"
      ]
     },
     "metadata": {
      "needs_background": "light"
     },
     "output_type": "display_data"
    }
   ],
   "source": [
    "i = 1\n",
    "for alpha in sgd_alphas:\n",
    "    plt.subplot(3,3,i)\n",
    "    sgd_graph(b0, X_train, Y_train, loss_hat, alpha)\n",
    "    i = i + 1\n",
    "\n",
    "plt.tight_layout()\n",
    "plt.show()"
   ]
  },
  {
   "cell_type": "code",
   "execution_count": 54,
   "id": "17d6f182",
   "metadata": {},
   "outputs": [
    {
     "name": "stdout",
     "output_type": "stream",
     "text": [
      "1001\n"
     ]
    }
   ],
   "source": [
    "sgd_B =sgd_betas(b0, X_train,Y_train, 0.006)\n",
    "print(len(sgd_B))"
   ]
  },
  {
   "cell_type": "code",
   "execution_count": 55,
   "id": "80f1447f",
   "metadata": {},
   "outputs": [],
   "source": [
    "B_ = sgd_B[1000]\n",
    "train_mse = (np.linalg.norm(y - x@B_ , ord = 2)**2)/200\n",
    "test_mse = (np.linalg.norm(y_ts - x_ts@B_ , ord = 2)**2)/200"
   ]
  },
  {
   "cell_type": "code",
   "execution_count": 56,
   "id": "af33f652",
   "metadata": {},
   "outputs": [
    {
     "name": "stdout",
     "output_type": "stream",
     "text": [
      "The train MSE is 4.661749176041872\n",
      "The test MSE is 4.447228989660328\n"
     ]
    }
   ],
   "source": [
    "print(\"The train MSE is {}\".format(train_mse))\n",
    "print(\"The test MSE is {}\".format(test_mse))"
   ]
  },
  {
   "cell_type": "code",
   "execution_count": null,
   "id": "1dae774c",
   "metadata": {},
   "outputs": [],
   "source": []
  }
 ],
 "metadata": {
  "kernelspec": {
   "display_name": "Python 3 (ipykernel)",
   "language": "python",
   "name": "python3"
  },
  "language_info": {
   "codemirror_mode": {
    "name": "ipython",
    "version": 3
   },
   "file_extension": ".py",
   "mimetype": "text/x-python",
   "name": "python",
   "nbconvert_exporter": "python",
   "pygments_lexer": "ipython3",
   "version": "3.9.7"
  }
 },
 "nbformat": 4,
 "nbformat_minor": 5
}
